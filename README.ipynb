{
 "cells": [
  {
   "cell_type": "markdown",
   "metadata": {},
   "source": [
    "## A jornada\n",
    "\n",
    "Fiz engenharia elétrica com ênfase em eletrônica na [Universidade Federal de Itajubá](https://unifei.edu.br/)\n",
    "\n",
    "Após a formatura, trabalhei como engenheiro e passei a estudar para concursos públicos.\n",
    "Fui aprovado na Controladoria-Geral da União (CGU), inicialmente para a área de infraestrutura de TI. Depois de um tempo, fui transferido para a área de auditoria.\n",
    "\n",
    "Nessa nova área, senti necessidade de utilizar conhecimentos de ciência de dados.\n",
    "\n",
    "Como não sabia muito de programação; meus conhecimentos eram de C da época da faculdade; resolvi estudar Python.\n",
    "\n",
    "Como o melhor modo de estudar programação é programando, optei por resolver todos os exercícios da lista de exercícios do site [Python Brasil](https://python.org.br/).\n",
    "\n",
    "## Exercícios\n",
    "\n",
    "Ao todo, são 9 listas:\n",
    "\n",
    "1. [EstruturaSequencial](https://wiki.python.org.br/EstruturaSequencial)\n",
    "\n",
    "2. [EstruturaDeDecisao](https://wiki.python.org.br/EstruturaDeDecisao)\n",
    "\n",
    "3. [EstruturaDeRepeticao](https://wiki.python.org.br/EstruturaDeRepeticao)\n",
    "\n",
    "4. [ExerciciosListas](https://wiki.python.org.br/ExerciciosListas)\n",
    "\n",
    "5. [ExerciciosFuncoes](https://wiki.python.org.br/ExerciciosFuncoes)\n",
    "\n",
    "6. [ExerciciosComStrings](https://wiki.python.org.br/ExerciciosComStrings)\n",
    "\n",
    "7. [ExerciciosArquivos](https://wiki.python.org.br/ExerciciosArquivos)\n",
    "\n",
    "8. [ExerciciosClasses](https://wiki.python.org.br/ExerciciosClasses)\n",
    "\n",
    "9. [ListaDeExerciciosProjetos](https://wiki.python.org.br/ListaDeExerciciosProjetos)\n",
    "\n",
    "## Orientações\n",
    "\n",
    "Nesse trabalho, utilizei o Jupyter Notebook com Python 3.7\n",
    "\n",
    "Se você não sabe utilizar o Jupyter, segue aqui um bom [tutorial](https://www.dataquest.io/blog/jupyter-notebook-tutorial/) \n",
    "\n",
    "## Bibliografia \n",
    "\n",
    "* [Automatize Tarefas Maçantes com Python: Programação Prática Para Verdadeiros Iniciantes](https://automatetheboringstuff.com/)\n",
    "\n",
    "Eu utilizei a versão impressa e em português. O author disponibiliza a versão on-line em inglês (que é a que está no link)\n",
    " \n",
    "* [Introdução à Programação com Python: Algoritmos e Lógica de Programação Para Iniciantes](https://python.nilo.pro.br/)\n",
    "\n",
    "Eu utilizei a versão impressa da 2ª edição em português. \n",
    "    \n",
    "* [Pense em Python](https://pense-python.caravela.club/)\n",
    "\n",
    "Bom livro. Utilizei para consultas adicionais.\n",
    "\n",
    "## Dicas\n",
    "\n",
    "* É importante que você tente fazer todos os exercícios. Não copie e cole. O aprendizado só vem com a prática\n",
    "\n",
    "\n",
    "* Um bom livro sobre técnicas de estudo, que me ajudou muito, foi o *Aprendendo a Aprender. Como Ter Sucesso em Matemática, Ciências e Qualquer Outra Matéria*. O livro pode ser encontrado [aqui](https://www.amazon.com.br/Aprendendo-Aprender-Matem%C3%A1tica-Ci%C3%AAncias-Qualquer/dp/8586622451) e há um [MOOC](https://www.coursera.org/learn/aprender) no Cousera. Vale a pena!\n"
   ]
  },
  {
   "cell_type": "code",
   "execution_count": null,
   "metadata": {},
   "outputs": [],
   "source": []
  }
 ],
 "metadata": {
  "kernelspec": {
   "display_name": "Python 3",
   "language": "python",
   "name": "python3"
  },
  "language_info": {
   "codemirror_mode": {
    "name": "ipython",
    "version": 3
   },
   "file_extension": ".py",
   "mimetype": "text/x-python",
   "name": "python",
   "nbconvert_exporter": "python",
   "pygments_lexer": "ipython3",
   "version": "3.7.4"
  }
 },
 "nbformat": 4,
 "nbformat_minor": 2
}
