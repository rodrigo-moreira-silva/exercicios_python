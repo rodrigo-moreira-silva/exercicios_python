{
 "cells": [
  {
   "cell_type": "markdown",
   "metadata": {},
   "source": [
    "# Lista 05 https://wiki.python.org.br/ExerciciosFuncoes"
   ]
  },
  {
   "cell_type": "markdown",
   "metadata": {},
   "source": [
    "# 01 - Faça um programa para imprimir:\n",
    "\n",
    "    1\n",
    "    2   2\n",
    "    3   3   3\n",
    "    .....\n",
    "    n   n   n   n   n   n  ... n\n"
   ]
  },
  {
   "cell_type": "code",
   "execution_count": 5,
   "metadata": {},
   "outputs": [
    {
     "name": "stdout",
     "output_type": "stream",
     "text": [
      "Digite um número: 6\n",
      "1 \n",
      "2 2 \n",
      "3 3 3 \n",
      "4 4 4 4 \n",
      "5 5 5 5 5 \n",
      "6 6 6 6 6 6 \n"
     ]
    }
   ],
   "source": [
    "def exec1(n):\n",
    "    for i in range(n):\n",
    "        i +=1\n",
    "        print((str(i)+ \" \") * i )\n",
    "\n",
    "num = int(input(\"Digite um número: \"))\n",
    "exec1(num)"
   ]
  },
  {
   "cell_type": "markdown",
   "metadata": {},
   "source": [
    "# 2 - Faça um programa para imprimir:\n",
    "\n",
    "    1\n",
    "    1   2\n",
    "    1   2   3\n",
    "    .....\n",
    "    1   2   3   ...  n"
   ]
  },
  {
   "cell_type": "code",
   "execution_count": 15,
   "metadata": {},
   "outputs": [
    {
     "name": "stdout",
     "output_type": "stream",
     "text": [
      "Digite um número: 5\n",
      "1  \n",
      "\n",
      "1  2  \n",
      "\n",
      "1  2  3  \n",
      "\n",
      "1  2  3  4  \n",
      "\n",
      "1  2  3  4  5  \n",
      "\n"
     ]
    }
   ],
   "source": [
    "def exec2(n):\n",
    "    for i in range(n):\n",
    "        i +=1\n",
    "        for j in range (i):\n",
    "            j +=1\n",
    "            print(str(j)+ \" \", end = \" \")\n",
    "        print(\"\\n\")\n",
    "\n",
    "num = int(input(\"Digite um número: \"))\n",
    "exec2(num)"
   ]
  },
  {
   "cell_type": "markdown",
   "metadata": {},
   "source": [
    "# 3 - Faça um programa, com uma função que necessite de três argumentos, e que forneça a soma desses três argumentos.\n"
   ]
  },
  {
   "cell_type": "code",
   "execution_count": 21,
   "metadata": {},
   "outputs": [
    {
     "name": "stdout",
     "output_type": "stream",
     "text": [
      "Digite o primeiro número: 10\n",
      "Digite o segundo número: 20\n",
      "Digite o terceiro número: 30\n",
      "\n",
      "Resultado = 60.\n"
     ]
    }
   ],
   "source": [
    "def exec3 (a,b,c):\n",
    "    return a+b+c\n",
    "\n",
    "num1 = int(input(\"Digite o primeiro número: \"))\n",
    "num2 = int(input(\"Digite o segundo número: \"))\n",
    "num3 = int(input(\"Digite o terceiro número: \"))\n",
    "print(\"\\nResultado = {}.\".format(exec3(num1,num2,num3)))"
   ]
  },
  {
   "cell_type": "markdown",
   "metadata": {},
   "source": [
    "# 4 - Faça um programa, com uma função que necessite de um argumento. \n",
    "\n",
    "A função retorna o valor de caractere ‘P’, se seu argumento for positivo, e ‘N’, se seu argumento for zero ou negativo."
   ]
  },
  {
   "cell_type": "code",
   "execution_count": 31,
   "metadata": {},
   "outputs": [
    {
     "name": "stdout",
     "output_type": "stream",
     "text": [
      "Digite um número: 0\n",
      "Zero\n"
     ]
    }
   ],
   "source": [
    "def exec4 (n):\n",
    "    if n>0:\n",
    "        return \"P\"\n",
    "    elif n<0:\n",
    "        return \"N\"\n",
    "    else:\n",
    "        return \"Zero\"\n",
    "\n",
    "num = int(input(\"Digite um número: \"))\n",
    "print(exec4(num))"
   ]
  },
  {
   "cell_type": "markdown",
   "metadata": {},
   "source": [
    "# 5 - Faça um programa com uma função chamada somaImposto. \n",
    "A função possui dois parâmetros formais: taxaImposto, que é a quantia de imposto sobre vendas expressa em porcentagem e custo, que é o custo de um item antes do imposto. \n",
    "\n",
    "A função “altera” o valor de custo para incluir o imposto sobre vendas.\n"
   ]
  },
  {
   "cell_type": "code",
   "execution_count": 36,
   "metadata": {},
   "outputs": [
    {
     "name": "stdout",
     "output_type": "stream",
     "text": [
      "Informe a taxa de imposto (em %):10\n",
      "Informe o custo antes do imposto:100\n",
      "O valor do custo com imposto será de R$ 110.00    \n"
     ]
    }
   ],
   "source": [
    "def somaImposto (taxaImposto,custo):\n",
    "    return custo*(1+taxaImposto/100)\n",
    "\n",
    "taxa = float(input(\"Informe a taxa de imposto (em %):\"))\n",
    "custo = float(input(\"Informe o custo antes do imposto:\"))\n",
    "\n",
    "print(\"O valor do custo com imposto será de R$ {:<10.2f}\".format(somaImposto(taxa,custo)))"
   ]
  },
  {
   "cell_type": "markdown",
   "metadata": {},
   "source": [
    "# 6 - Faça um programa que converta da notação de 24 horas para a notação de 12 horas. \n",
    "\n",
    "Por exemplo, o programa deve converter 14:25 em 2:25 P.M. \n",
    "\n",
    "A entrada é dada em dois inteiros. \n",
    "\n",
    "Deve haver pelo menos duas funções: uma para fazer a conversão e uma para a saída. \n",
    "\n",
    "Registre a informação A.M./P.M. como um valor ‘A’ para A.M. e ‘P’ para P.M. \n",
    "\n",
    "Assim, a função para efetuar as conversões terá um parâmetro formal para registrar se é A.M. ou P.M. \n",
    "\n",
    "Inclua um loop que permita que o usuário repita esse cálculo para novos valores de entrada todas as vezes que desejar.\n"
   ]
  },
  {
   "cell_type": "code",
   "execution_count": 5,
   "metadata": {},
   "outputs": [
    {
     "name": "stdout",
     "output_type": "stream",
     "text": [
      "\n",
      "Digite as horas para conversão: 1\n",
      "Digite os minutos para conversão: 12\n",
      "Hora convertida: 01:12 AM\n",
      "\n",
      "Deseja continuar? (S para SIM ou qualquer outro caracter para encerrar)s\n",
      "\n",
      "Digite as horas para conversão: 19\n",
      "Digite os minutos para conversão: 1\n",
      "Hora convertida: 07:01 PM\n",
      "\n",
      "Deseja continuar? (S para SIM ou qualquer outro caracter para encerrar)s\n",
      "\n",
      "Digite as horas para conversão: 26\n",
      "Digite os minutos para conversão: 20\n",
      "Valores inseridos são inválidos\n",
      "\n",
      "Deseja continuar? (S para SIM ou qualquer outro caracter para encerrar)n\n",
      "\n",
      "Fim!\n"
     ]
    }
   ],
   "source": [
    "#Eu achei o enunciado um pouco confuso porque cita a necessidade de duas funções. Eu fiz somente uma\n",
    "\n",
    "def converteHora(hora,minuto):\n",
    "    if hora>=13 and hora<=23:\n",
    "        hora = hora - 12\n",
    "        return (\"Hora convertida: {:02}:{:02} PM\".format(hora,minuto))\n",
    "    if hora>=0 and hora<=12:\n",
    "        return (\"Hora convertida: {:02}:{:02} AM\".format(hora,minuto))\n",
    "    if hora<0 or hora>23 or minuto<0 or minuto>59:\n",
    "        return (\"Valores inseridos são inválidos\")\n",
    "\n",
    "while True:\n",
    "    hora24 = int(input(\"\\nDigite as horas para conversão: \"))\n",
    "    minuto = int(input(\"Digite os minutos para conversão: \"))\n",
    "\n",
    "    print(converteHora(hora24,minuto))\n",
    "    \n",
    "    #Pergunta se quer continuar\n",
    "    pergunta = input(\"\\nDeseja continuar? (S para SIM ou qualquer outro caracter para encerrar)\").lower()\n",
    "    if pergunta != \"s\":\n",
    "        print(\"\\nFim!\")\n",
    "        break"
   ]
  },
  {
   "cell_type": "markdown",
   "metadata": {},
   "source": [
    "# 7 - Faça um programa que use a função valorPagamento para determinar o valor a ser pago por uma prestação de uma conta. \n",
    "\n",
    "O programa deverá solicitar ao usuário o valor da prestação e o número de dias em atraso e passar estes valores para a função valorPagamento, que calculará o valor a ser pago e devolverá este valor ao programa que a chamou. \n",
    "\n",
    "O programa deverá então exibir o valor a ser pago na tela. \n",
    "\n",
    "Após a execução o programa deverá voltar a pedir outro valor de prestação e assim continuar até que seja informado um valor igual a zero para a prestação. \n",
    "\n",
    "Neste momento o programa deverá ser encerrado, exibindo o relatório do dia, que conterá a quantidade e o valor total de prestações pagas no dia. \n",
    "\n",
    "O cálculo do valor a ser pago é feito da seguinte forma. \n",
    "\n",
    "Para pagamentos sem atraso, cobrar o valor da prestação. \n",
    "\n",
    "Quando houver atraso, cobrar 3% de multa, mais 0,1% de juros por dia de atraso."
   ]
  },
  {
   "cell_type": "code",
   "execution_count": null,
   "metadata": {},
   "outputs": [],
   "source": [
    "def valorPagamento (valor,atraso):\n",
    "    if atraso == 0:\n",
    "        return valor\n",
    "    elif atraso >0:\n",
    "        return (valor*1.03 + valor*atraso*0.0001)\n",
    "    else:\n",
    "        return none \n",
    "\n",
    "relatorio = []\n",
    "while True:\n",
    "    prestacao = float(input(\"\\nInforme o valor original da prestação (O para encerrar): \"))\n",
    "    \n",
    "    if prestacao == 0:\n",
    "        print(\"\\nRelatório do dia:\")\n",
    "        for i in relatorio:\n",
    "            print(\"R$ {:7.2f}\".format(i))\n",
    "        print(\"Fim\")\n",
    "        break\n",
    "    \n",
    "    dias = int(input(\"Informe a quantidade de dias em atraso: \"))\n",
    "\n",
    "    print (\"O Valor atualizado da prestação é R$ {:7.2f}\".format(valorPagamento (prestacao,dias)))\n",
    "    relatorio.append(valorPagamento (prestacao,dias))\n",
    "  "
   ]
  },
  {
   "cell_type": "markdown",
   "metadata": {},
   "source": [
    "# 8 - Faça uma função que informe a quantidade de dígitos de um determinado número inteiro informado.\n"
   ]
  },
  {
   "cell_type": "code",
   "execution_count": 17,
   "metadata": {},
   "outputs": [
    {
     "name": "stdout",
     "output_type": "stream",
     "text": [
      "Digite um número inteiro: 125\n",
      "A quantidade de dígitos do número informado é 3\n"
     ]
    }
   ],
   "source": [
    "def exec8(num):\n",
    "    num_list = []\n",
    "    for i in num:\n",
    "        num_list.append(i)\n",
    "    return len(num_list) \n",
    "\n",
    "num = input(\"Digite um número inteiro: \")\n",
    "print(\"A quantidade de dígitos do número informado é {}\".format(exec8(num)))\n"
   ]
  },
  {
   "cell_type": "markdown",
   "metadata": {},
   "source": [
    "# 9 - Reverso do número. Faça uma função que retorne o reverso de um número inteiro informado. Por exemplo: 127 -> 721"
   ]
  },
  {
   "cell_type": "code",
   "execution_count": 22,
   "metadata": {},
   "outputs": [
    {
     "name": "stdout",
     "output_type": "stream",
     "text": [
      "Digite um número inteiro: 123456\n",
      "O reverso desse número é 654321\n"
     ]
    }
   ],
   "source": [
    "def exec9(num):\n",
    "    num_list = []\n",
    "    num2 = \"\"\n",
    "    for i in num:\n",
    "        num_list.append(i)\n",
    "    for i in reversed(num_list):\n",
    "        num2 += \"{}\".format(i)\n",
    "    #Pode-se substituir o segundo for por:\n",
    "    #num2 = \"\".join(reversed(num_list))  \n",
    "    return (num2) \n",
    "\n",
    "num = input(\"Digite um número inteiro: \")\n",
    "print(\"O reverso desse número é {}\".format(exec9(num)))\n"
   ]
  },
  {
   "cell_type": "markdown",
   "metadata": {},
   "source": [
    "# 10 - Jogo de Craps. Faça um programa de implemente um jogo de Craps. \n",
    "O jogador lança um par de dados, obtendo um valor entre 2 e 12. \n",
    "\n",
    "Se, na primeira jogada, você tirar 7 ou 11, você um \"natural\" e ganhou. \n",
    "\n",
    "Se você tirar 2, 3 ou 12 na primeira jogada, isto é chamado de \"craps\" e você perdeu. \n",
    "\n",
    "Se, na primeira jogada, você fez um 4, 5, 6, 8, 9 ou 10,este é seu \"Ponto\". \n",
    "\n",
    "Seu objetivo agora é continuar jogando os dados até tirar este número novamente. \n",
    "\n",
    "Você perde, no entanto, se tirar um 7 antes de tirar este Ponto novamente."
   ]
  },
  {
   "cell_type": "code",
   "execution_count": 66,
   "metadata": {},
   "outputs": [
    {
     "name": "stdout",
     "output_type": "stream",
     "text": [
      "Vamos jogar!\n",
      "Você tirou 8. Esse é o seu ponto!\n",
      "Você precisa que o número se repita novamente para ganhar\n",
      "Você tirou 9.\n",
      "Você tirou 11.\n",
      "Você tirou 5.\n",
      "Você tirou 11.\n",
      "Você tirou 10.\n",
      "Você tirou 4.\n",
      "Você tirou 4.\n",
      "Você tirou 6.\n",
      "Você tirou 5.\n",
      "Você tirou 5.\n",
      "Você tirou 5.\n",
      "Você tirou 5.\n",
      "Você tirou 8 novamente. Ganhou!\n",
      "Fim do jogo\n"
     ]
    }
   ],
   "source": [
    "import random \n",
    "\n",
    "def craps():\n",
    "    num = random.randint(2, 12)\n",
    "    if num==7 or num==11:\n",
    "        print(\"Você tirou {}. Ganhou!\".format(num))\n",
    "    elif num==2 or num==3 or num==12:\n",
    "        print(\"Você tirou {}. Craps! Perdeu!\".format(num))\n",
    "    else:\n",
    "        print(\"Você tirou {}. Esse é o seu ponto!\".format(num))\n",
    "        print(\"Você precisa que o número se repita novamente para ganhar\")\n",
    "        while True:\n",
    "            num2 = random.randint(2, 12)\n",
    "            if num2 == num:\n",
    "                print(\"Você tirou {} novamente. Ganhou!\".format(num))\n",
    "                break\n",
    "            elif num2==7:\n",
    "                print(\"Você tirou {}. Perdeu!\".format(num2))\n",
    "                break\n",
    "            else:\n",
    "                print(\"Você tirou {}.\".format(num2))\n",
    "        \n",
    "print(\"Vamos jogar!\")\n",
    "craps()\n",
    "print(\"Fim do jogo\")\n",
    "  "
   ]
  },
  {
   "cell_type": "markdown",
   "metadata": {},
   "source": [
    "# 11 - Data com mês por extenso. \n",
    "Construa uma função que receba uma data no formato DD/MM/AAAA e devolva uma string no formato D de mesPorExtenso de AAAA. \n",
    "\n",
    "Opcionalmente, valide a data e retorne NULL caso a data seja inválida"
   ]
  },
  {
   "cell_type": "code",
   "execution_count": 36,
   "metadata": {},
   "outputs": [
    {
     "name": "stdout",
     "output_type": "stream",
     "text": [
      "Digite o dia: 20\n",
      "Digite o mês: 03\n",
      "Digite o ano: 2020\n",
      "\n",
      "A data 20/03/2020 por extenso é 20 de março de 2020.\n"
     ]
    }
   ],
   "source": [
    "def exec11 (dia,mes,ano):\n",
    "    meses = {1:\"janeiro\",2:\"fevereiro\",3:\"março\",4:\"abril\",5:\"maio\",6:\"junho\",7:\"julho\",8:\"agosto\",9:\"setembro\",10:\"outubro\",\\\n",
    "         11:\"novembro\",12:\"dezembro\"} \n",
    "\n",
    "    if ano % 4 == 0 and ano % 100 !=0 or ano % 400 == 0:\n",
    "    #Ano bissexto\n",
    "        if mes in (1,3,5,7,8,10,12):\n",
    "            if dia >= 1 and dia <= 31:\n",
    "                return(\"{:02} de {} de {:04}\".format(dia,meses[mes],ano))\n",
    "            else:\n",
    "                return None           \n",
    "        elif mes == 2:\n",
    "            if dia >= 1 and dia <= 29:\n",
    "                return(\"{:02} de {} de {:04}\".format(dia,meses[mes],ano))\n",
    "            else:\n",
    "                return None \n",
    "        elif mes in (4, 6, 9, 11):\n",
    "            if dia >= 1 and dia <= 30:\n",
    "                return(\"{:02} de {} de {:04}\".format(dia,meses[mes],ano)) \n",
    "            else:\n",
    "                return None\n",
    "        else:\n",
    "            return None\n",
    "    else:\n",
    "    #Ano não é bissexto\n",
    "        if mes in (1,3,5,7,8,10,12):\n",
    "            if dia >= 1 and dia <=31:\n",
    "                return(\"{:02} de {} de {:04}\".format(dia,meses[mes],ano))\n",
    "            else:\n",
    "                return(\"{:02} de {} de {:04}\".format(dia,meses[mes],ano))            \n",
    "        elif mes == 2:\n",
    "            if dia >= 1 and dia <= 28:\n",
    "                return(\"{:02} de {} de {:04}\".format(dia,meses[mes],ano))\n",
    "            else:\n",
    "                return None\n",
    "        elif mes in (4, 6, 9, 11):\n",
    "            if dia >= 1 and dia <= 30:\n",
    "                return(\"{:02} de {} de {:04}\".format(dia,meses[mes],ano)) \n",
    "            else:\n",
    "                return None\n",
    "        else:\n",
    "            return None\n",
    "\n",
    "dia = int(input(\"Digite o dia: \"))\n",
    "mes = int(input(\"Digite o mês: \"))\n",
    "ano = int(input(\"Digite o ano: \"))\n",
    "\n",
    "if exec11 (dia,mes,ano) == None:\n",
    "    print(\"\\nData inválida\")\n",
    "else:\n",
    "    print(\"\\nA data {:02}/{:02}/{:04} por extenso é {}.\".format(dia,mes,ano,exec11 (dia,mes,ano)))"
   ]
  },
  {
   "cell_type": "markdown",
   "metadata": {},
   "source": [
    "# 12 - Embaralha palavra. \n",
    "Construa uma função que receba uma string como parâmetro e devolva outra string com os carateres embaralhados. \n",
    "\n",
    "Por exemplo: se função receber a palavra python, pode retornar npthyo, ophtyn ou qualquer outra combinação possível, de forma aleatória. \n",
    "\n",
    "Padronize em sua função que todos os caracteres serão devolvidos em caixa alta ou caixa baixa, independentemente de como foram digitados."
   ]
  },
  {
   "cell_type": "code",
   "execution_count": 2,
   "metadata": {},
   "outputs": [
    {
     "name": "stdout",
     "output_type": "stream",
     "text": [
      "Digite uma palavra: PYTHON\n",
      "Embaralhamos PYTHON e o resultado é pyhtno\n",
      "\n",
      "Deseja continuar? (S para SIM ou qualquer outro caracter para encerrar)S\n",
      "Digite uma palavra: PYTHON\n",
      "Embaralhamos PYTHON e o resultado é oyhntp\n",
      "\n",
      "Deseja continuar? (S para SIM ou qualquer outro caracter para encerrar)S\n",
      "Digite uma palavra: PYTHON\n",
      "Embaralhamos PYTHON e o resultado é ytonhp\n",
      "\n",
      "Deseja continuar? (S para SIM ou qualquer outro caracter para encerrar)N\n",
      "\n",
      "Fim!\n"
     ]
    }
   ],
   "source": [
    "import random\n",
    "\n",
    "def embaralha(palavra):\n",
    "    #transforma a string em uma lista embaralhada\n",
    "    lista = random.sample(palavra, len(palavra))\n",
    "    #Junta a lista em uma nova string\n",
    "    resposta = ''.join(lista)\n",
    "    return resposta.lower()\n",
    "\n",
    "while True:\n",
    "    palavra = input(\"Digite uma palavra: \")\n",
    "    print(\"Embaralhamos {} e o resultado é {}\".format(palavra,embaralha(palavra)))\n",
    "    #Pergunta se quer continuar\n",
    "    pergunta = input(\"\\nDeseja continuar? (S para SIM ou qualquer outro caracter para encerrar)\").lower()\n",
    "    if pergunta != \"s\":\n",
    "        print(\"\\nFim!\")\n",
    "        break"
   ]
  },
  {
   "cell_type": "markdown",
   "metadata": {},
   "source": [
    "# 13 - Desenha moldura. \n",
    "\n",
    "Construa uma função que desenhe um retângulo usando os caracteres ‘+’ , ‘−’ e ‘| ‘. \n",
    "\n",
    "Esta função deve receber dois parâmetros, linhas e colunas, sendo que o valor por omissão é o valor mínimo igual a 1 e o valor máximo é 20. \n",
    "\n",
    "Se valores fora da faixa forem informados, eles devem ser modificados para valores dentro da faixa de forma elegante."
   ]
  },
  {
   "cell_type": "code",
   "execution_count": 35,
   "metadata": {},
   "outputs": [
    {
     "name": "stdout",
     "output_type": "stream",
     "text": [
      "Informe o tamanha da linha (valor mínimo igual a 1 e o valor máximo é 20): 40\n",
      "Informe o tamanha da coluna (valor mínimo igual a 1 e o valor máximo é 20): 40\n",
      "Se forem informados valores fora da faixa, o valor da linha será fixado em 10 e o da coluna em 16.\n",
      " +----------------+ \n",
      " |                |\n",
      " |                |\n",
      " |                |\n",
      " |                |\n",
      " |                |\n",
      " |                |\n",
      " |                |\n",
      " |                |\n",
      " |                |\n",
      " |                |\n",
      " +----------------+\n"
     ]
    }
   ],
   "source": [
    "def moldura(linha,coluna):\n",
    "    if linha<1 or linha>20 or coluna<1 or coluna>20:\n",
    "    #Fixa a moldura na proporção aúrea \n",
    "        linha = 10\n",
    "        coluna = 16\n",
    "        \n",
    "    #Desenha a parte de cima da moldura\n",
    "    print(\" +\"+\"-\"*coluna+\"+ \")\n",
    "    \n",
    "    #Desenha as laterais da moldura de acordo com o número de linhas\n",
    "    for i in range(linha):\n",
    "        print(\" |\"+\" \"*coluna+\"|\")\n",
    "        \n",
    "    #Desenha a parte de baixo da moldura\n",
    "    print(\" +\"+\"-\"*coluna+\"+\")\n",
    "\n",
    "linha = int(input(\"Informe o tamanha da linha (valor mínimo igual a 1 e o valor máximo é 20): \"))\n",
    "coluna = int(input(\"Informe o tamanha da coluna (valor mínimo igual a 1 e o valor máximo é 20): \"))\n",
    "print(\"Se forem informados valores fora da faixa, o valor da linha será fixado em 10 e o da coluna em 16.\")\n",
    "moldura(linha,coluna)\n"
   ]
  },
  {
   "cell_type": "markdown",
   "metadata": {},
   "source": [
    "# 14 - Quadrado mágico. \n",
    "\n",
    "Um quadrado mágico é aquele dividido em linhas e colunas, com um número em cada posição e no qual a soma das linhas, colunas e diagonais é a mesma. \n",
    "\n",
    "Por exemplo, veja um quadrado mágico de lado 3, com números de 1 a 9:\n",
    "\n",
    "    8  3  4 \n",
    "\n",
    "    1  5  9\n",
    "\n",
    "    6  7  2\n",
    "\n",
    "Elabore uma função que identifica e mostra na tela todos os quadrados mágicos com as características acima. \n",
    "\n",
    "Dica: produza todas as combinações possíveis e verifique a soma quando completar cada quadrado. Usar um vetor de 1 a 9 parece ser mais simples que usar uma matriz 3x3.\n"
   ]
  },
  {
   "cell_type": "code",
   "execution_count": 123,
   "metadata": {},
   "outputs": [
    {
     "name": "stdout",
     "output_type": "stream",
     "text": [
      "Digite o elemento da linha 1 e coluna 1: 8\n",
      "Digite o elemento da linha 1 e coluna 2: 3\n",
      "Digite o elemento da linha 1 e coluna 3: 4\n",
      "Digite o elemento da linha 2 e coluna 1: 1\n",
      "Digite o elemento da linha 2 e coluna 2: 5\n",
      "Digite o elemento da linha 2 e coluna 3: 9\n",
      "Digite o elemento da linha 3 e coluna 1: 6\n",
      "Digite o elemento da linha 3 e coluna 2: 7\n",
      "Digite o elemento da linha 3 e coluna 3: 2\n",
      "\n",
      "É quadrado mágico\n",
      "\n",
      "8 3 4 \n",
      "\n",
      "1 5 9 \n",
      "\n",
      "6 7 2 \n",
      "\n"
     ]
    }
   ],
   "source": [
    "#Conforme enunciado, a matriz sempre será 3x3\n",
    "def quadradomagico(matriz):\n",
    "    aux=[]\n",
    "    soma3=0\n",
    "    soma4=0\n",
    "    ac=1\n",
    "    for i in range(3):\n",
    "        soma=0\n",
    "        soma2=0\n",
    "        soma3=soma3+matriz[i][i]\n",
    "        soma4=soma4+matriz[i][3-ac]\n",
    "        ac += 1\n",
    "        for j in range (3):\n",
    "            soma=soma+matriz[i][j]\n",
    "            soma2=soma2+matriz[j][i]\n",
    "        aux.append(soma)\n",
    "        aux.append(soma2)\n",
    "        \n",
    "    if aux[i] != aux[1]:\n",
    "        #imprime resultado\n",
    "        print(\"\\nNão é quadrado mágico\\n\")\n",
    "        #imprime matriz \n",
    "        for i in range(3):\n",
    "            for j in range(3):\n",
    "                print(matriz[i][j], end=\" \")\n",
    "            print(\"\\n\")\n",
    "    else:  \n",
    "        #imprime resultado\n",
    "        print(\"\\nÉ quadrado mágico\\n\")\n",
    "        #imprime matriz\n",
    "        for i in range(3):\n",
    "            for j in range(3):\n",
    "                print(matriz[i][j], end=\" \")\n",
    "            print(\"\\n\")\n",
    "    \n",
    "#Entrada de dados da matriz 3x3\n",
    "matriz = [] \n",
    "\n",
    "for i in range(3):\n",
    "    linha = [] \n",
    "    for j in range(3):\n",
    "        n = int(input(\"Digite o elemento da linha {} e coluna {}: \".format(i+1,j+1)))\n",
    "        linha.append(n)\n",
    "    matriz.append(linha)\n",
    "    \n",
    "#Chama função\n",
    "quadradomagico(matriz)\n"
   ]
  },
  {
   "cell_type": "code",
   "execution_count": 130,
   "metadata": {},
   "outputs": [
    {
     "name": "stdout",
     "output_type": "stream",
     "text": [
      "Digite o tamanho do lado da matriz: 4\n",
      "Digite o elemento da linha 1 e coluna 1: 1\n",
      "Digite o elemento da linha 1 e coluna 2: 1\n",
      "Digite o elemento da linha 1 e coluna 3: 1\n",
      "Digite o elemento da linha 1 e coluna 4: 1\n",
      "Digite o elemento da linha 2 e coluna 1: 1\n",
      "Digite o elemento da linha 2 e coluna 2: 1\n",
      "Digite o elemento da linha 2 e coluna 3: 1\n",
      "Digite o elemento da linha 2 e coluna 4: 1\n",
      "Digite o elemento da linha 3 e coluna 1: 1\n",
      "Digite o elemento da linha 3 e coluna 2: 1\n",
      "Digite o elemento da linha 3 e coluna 3: 1\n",
      "Digite o elemento da linha 3 e coluna 4: 1\n",
      "Digite o elemento da linha 4 e coluna 1: 1\n",
      "Digite o elemento da linha 4 e coluna 2: 1\n",
      "Digite o elemento da linha 4 e coluna 3: 1\n",
      "Digite o elemento da linha 4 e coluna 4: 1\n",
      "\n",
      "É quadrado mágico\n",
      "\n",
      "1 1 1 1 \n",
      "\n",
      "1 1 1 1 \n",
      "\n",
      "1 1 1 1 \n",
      "\n",
      "1 1 1 1 \n",
      "\n"
     ]
    }
   ],
   "source": [
    "#Opção utilizando matriz quadrada de qualquer dimensão\n",
    "\n",
    "def quadradomagico(matriz,tamanho):\n",
    "    aux=[]\n",
    "    soma3=0\n",
    "    soma4=0\n",
    "    ac=1\n",
    "    for i in range(tamanho):\n",
    "        soma=0\n",
    "        soma2=0\n",
    "        soma3=soma3+matriz[i][i]\n",
    "        soma4=soma4+matriz[i][tamanho-ac]\n",
    "        ac += 1\n",
    "        for j in range (3):\n",
    "            soma=soma+matriz[i][j]\n",
    "            soma2=soma2+matriz[j][i]\n",
    "        aux.append(soma)\n",
    "        aux.append(soma2)\n",
    "        \n",
    "    if aux[i] != aux[1]:\n",
    "        #imprime resultado\n",
    "        print(\"\\nNão é quadrado mágico\\n\")\n",
    "        #imprime matriz \n",
    "        for i in range(tamanho):\n",
    "            for j in range(tamanho):\n",
    "                print(matriz[i][j], end=\" \")\n",
    "            print(\"\\n\")\n",
    "    else:  \n",
    "        #imprime resultado\n",
    "        print(\"\\nÉ quadrado mágico\\n\")\n",
    "        #imprime matriz\n",
    "        for i in range(tamanho):\n",
    "            for j in range(tamanho):\n",
    "                print(matriz[i][j], end=\" \")\n",
    "            print(\"\\n\")\n",
    "    \n",
    "#Entrada de dados da matriz \n",
    "matriz = [] \n",
    "tamanho = int(input(\"Digite o tamanho do lado da matriz: \"))\n",
    "\n",
    "for i in range(tamanho):\n",
    "    linha = [] \n",
    "    for j in range(tamanho):\n",
    "        n = int(input(\"Digite o elemento da linha {} e coluna {}: \".format(i+1,j+1)))\n",
    "        linha.append(n)\n",
    "    matriz.append(linha)\n",
    "    \n",
    "#Chama função\n",
    "quadradomagico(matriz,tamanho)\n"
   ]
  }
 ],
 "metadata": {
  "kernelspec": {
   "display_name": "Python 3",
   "language": "python",
   "name": "python3"
  },
  "language_info": {
   "codemirror_mode": {
    "name": "ipython",
    "version": 3
   },
   "file_extension": ".py",
   "mimetype": "text/x-python",
   "name": "python",
   "nbconvert_exporter": "python",
   "pygments_lexer": "ipython3",
   "version": "3.7.4"
  }
 },
 "nbformat": 4,
 "nbformat_minor": 2
}
