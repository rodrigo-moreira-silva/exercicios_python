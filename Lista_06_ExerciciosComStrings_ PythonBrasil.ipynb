{
 "cells": [
  {
   "cell_type": "markdown",
   "metadata": {},
   "source": [
    "# Lista 06 - https://wiki.python.org.br/ExerciciosComStrings"
   ]
  },
  {
   "cell_type": "markdown",
   "metadata": {},
   "source": [
    "# 1- Tamanho de strings. \n",
    "Faça um programa que leia 2 strings e informe o conteúdo delas seguido do seu comprimento. Informe também se as duas strings possuem o mesmo comprimento e são iguais ou diferentes no conteúdo.\n",
    "\n",
    "    Compara duas strings\n",
    "\n",
    "    String 1: Brasil Hexa 2006\n",
    "\n",
    "    String 2: Brasil! Hexa 2006!\n",
    "\n",
    "    Tamanho de \"Brasil Hexa 2006\": 16 caracteres\n",
    "\n",
    "    Tamanho de \"Brasil! Hexa 2006!\": 18 caracteres\n",
    "\n",
    "    As duas strings são de tamanhos diferentes.\n",
    "\n",
    "    As duas strings possuem conteúdo diferente."
   ]
  },
  {
   "cell_type": "code",
   "execution_count": 63,
   "metadata": {},
   "outputs": [
    {
     "name": "stdout",
     "output_type": "stream",
     "text": [
      "Digite a primeira frase: Brasil Hexa 2006\n",
      "Digite a segunda frase: Brasil! Hexa 2006!\n",
      "\n",
      "Tamanho de 16 é Brasil Hexa 2006.\n",
      "Tamanho de 18 é Brasil! Hexa 2006!.\n",
      "\n",
      "As duas strings são de tamanhos diferentes.\n",
      "As duas strings possuem conteúdo diferente.\n"
     ]
    }
   ],
   "source": [
    "frase1 = input(\"Digite a primeira frase: \")\n",
    "frase2 = input(\"Digite a segunda frase: \")\n",
    "\n",
    "print(\"\\nTamanho de {} é {}.\".format(len(frase1),frase1))\n",
    "print(\"Tamanho de {} é {}.\".format(len(frase2),frase2))\n",
    "\n",
    "if len(frase1)==len(frase2):\n",
    "    print(\"\\nAs duas strings tem o mesmo tamanho.\")\n",
    "    for i in range(len(frase1)):\n",
    "        if frase1[i] != frase2[i]:\n",
    "            teste = False\n",
    "            break\n",
    "        else:\n",
    "            teste = True\n",
    "    if teste == True:\n",
    "        print(\"As duas strings possuem o mesmo conteúdo.\")\n",
    "    else:\n",
    "        print(\"As duas strings possuem conteúdo diferente.\")\n",
    "else:\n",
    "    print(\"\\nAs duas strings são de tamanhos diferentes.\")\n",
    "    print(\"As duas strings possuem conteúdo diferente.\")\n",
    "    "
   ]
  },
  {
   "cell_type": "markdown",
   "metadata": {},
   "source": [
    "# 2 - Nome ao contrário em maiúsculas. \n",
    "Faça um programa que permita ao usuário digitar o seu nome e em seguida mostre o nome do usuário de trás para frente utilizando somente letras maiúsculas. Dica: lembre−se que ao informar o nome o usuário pode digitar letras maiúsculas ou minúsculas."
   ]
  },
  {
   "cell_type": "code",
   "execution_count": 66,
   "metadata": {},
   "outputs": [
    {
     "name": "stdout",
     "output_type": "stream",
     "text": [
      "Digite uma palavra: teste\n",
      "O reverso dessa palavra é ETSET\n"
     ]
    }
   ],
   "source": [
    "def contrario(palavra):\n",
    "    lista = []\n",
    "    palavra2 = \"\"\n",
    "    for i in palavra:\n",
    "        lista.append(i)\n",
    "    palavra2 = \"\".join(reversed(lista))  \n",
    "    return palavra2.upper() \n",
    "\n",
    "palavra = input(\"Digite uma palavra: \")\n",
    "print(\"O reverso dessa palavra é {}\".format(contrario(palavra)))"
   ]
  },
  {
   "cell_type": "markdown",
   "metadata": {},
   "source": [
    "# 3 - Nome na vertical. \n",
    "Faça um programa que solicite o nome do usuário e imprima-o na vertical.\n",
    "\n",
    "F \n",
    "\n",
    "U\n",
    "\n",
    "L\n",
    "\n",
    "A\n",
    "\n",
    "N\n",
    "\n",
    "O\n",
    "\n"
   ]
  },
  {
   "cell_type": "code",
   "execution_count": 67,
   "metadata": {},
   "outputs": [
    {
     "name": "stdout",
     "output_type": "stream",
     "text": [
      "Digite uma palavra: teste\n",
      "t\n",
      "e\n",
      "s\n",
      "t\n",
      "e\n"
     ]
    }
   ],
   "source": [
    "palavra = input(\"Digite uma palavra: \")\n",
    "for i in palavra:\n",
    "    print(i)"
   ]
  },
  {
   "cell_type": "markdown",
   "metadata": {},
   "source": [
    "# 4 - Nome na vertical em escada. \n",
    "Modifique o programa anterior de forma a mostrar o nome em formato de escada.\n",
    "\n",
    "F\n",
    "\n",
    "FU\n",
    "\n",
    "FUL\n",
    "\n",
    "FULA\n",
    "\n",
    "FULAN\n",
    "\n",
    "FULANO\n",
    "\n"
   ]
  },
  {
   "cell_type": "code",
   "execution_count": 95,
   "metadata": {},
   "outputs": [
    {
     "name": "stdout",
     "output_type": "stream",
     "text": [
      "Digite uma palavra: SPAM\n",
      "\n",
      "\n",
      "S \n",
      "\n",
      "S P \n",
      "\n",
      "S P A \n",
      "\n",
      "S P A M \n",
      "\n"
     ]
    }
   ],
   "source": [
    "palavra = input(\"Digite uma palavra: \")\n",
    "print(\"\\n\")\n",
    "for i in range(len(palavra)):\n",
    "    for j in range(i+1):\n",
    "        print(palavra[j], end =\" \")\n",
    "    print(\"\\n\")"
   ]
  },
  {
   "cell_type": "markdown",
   "metadata": {},
   "source": [
    "# 5 - Nome na vertical em escada invertida. \n",
    "Altere o programa anterior de modo que a escada seja invertida.\n",
    "\n",
    "FULANO\n",
    "\n",
    "FULAN\n",
    "\n",
    "FULA\n",
    "\n",
    "FUL\n",
    "\n",
    "FU\n",
    "\n",
    "F\n"
   ]
  },
  {
   "cell_type": "code",
   "execution_count": 100,
   "metadata": {},
   "outputs": [
    {
     "name": "stdout",
     "output_type": "stream",
     "text": [
      "Digite uma palavra: SPAM\n",
      "\n",
      "\n",
      "S P A M \n",
      "\n",
      "S P A \n",
      "\n",
      "S P \n",
      "\n",
      "S \n",
      "\n"
     ]
    }
   ],
   "source": [
    "palavra = input(\"Digite uma palavra: \")\n",
    "print(\"\\n\")\n",
    "for i in range(len(palavra)-1,-1,-1):\n",
    "    for j in range(i+1):\n",
    "        print(palavra[j], end =\" \")\n",
    "    print(\"\\n\")"
   ]
  },
  {
   "cell_type": "markdown",
   "metadata": {},
   "source": [
    "# 6 - Data por extenso. \n",
    "Faça um programa que solicite a data de nascimento (dd/mm/aaaa) do usuário e imprima a data com o nome do mês por extenso.\n",
    "\n",
    "Data de Nascimento: 29/10/1973\n",
    "\n",
    "Você nasceu em  29 de Outubro de 1973.\n"
   ]
  },
  {
   "cell_type": "code",
   "execution_count": 102,
   "metadata": {},
   "outputs": [
    {
     "name": "stdout",
     "output_type": "stream",
     "text": [
      "Digite o dia: 20\n",
      "Digite o mês: 03\n",
      "Digite o ano: 2020\n",
      "\n",
      "A data 20/03/2020 por extenso é 20 de março de 2020.\n"
     ]
    }
   ],
   "source": [
    "def data (dia,mes,ano):\n",
    "    meses = {1:\"janeiro\",2:\"fevereiro\",3:\"março\",4:\"abril\",5:\"maio\",6:\"junho\",7:\"julho\",8:\"agosto\",9:\"setembro\",10:\"outubro\",\\\n",
    "         11:\"novembro\",12:\"dezembro\"} \n",
    "\n",
    "    if ano % 4 == 0 and ano % 100 !=0 or ano % 400 == 0:\n",
    "    #Ano bissexto\n",
    "        if mes in (1,3,5,7,8,10,12):\n",
    "            if dia >= 1 and dia <= 31:\n",
    "                return(\"{:02} de {} de {:04}\".format(dia,meses[mes],ano))\n",
    "            else:\n",
    "                return None           \n",
    "        elif mes == 2:\n",
    "            if dia >= 1 and dia <= 29:\n",
    "                return(\"{:02} de {} de {:04}\".format(dia,meses[mes],ano))\n",
    "            else:\n",
    "                return None \n",
    "        elif mes in (4, 6, 9, 11):\n",
    "            if dia >= 1 and dia <= 30:\n",
    "                return(\"{:02} de {} de {:04}\".format(dia,meses[mes],ano)) \n",
    "            else:\n",
    "                return None\n",
    "        else:\n",
    "            return None\n",
    "    else:\n",
    "    #Ano não é bissexto\n",
    "        if mes in (1,3,5,7,8,10,12):\n",
    "            if dia >= 1 and dia <=31:\n",
    "                return(\"{:02} de {} de {:04}\".format(dia,meses[mes],ano))\n",
    "            else:\n",
    "                return(\"{:02} de {} de {:04}\".format(dia,meses[mes],ano))            \n",
    "        elif mes == 2:\n",
    "            if dia >= 1 and dia <= 28:\n",
    "                return(\"{:02} de {} de {:04}\".format(dia,meses[mes],ano))\n",
    "            else:\n",
    "                return None\n",
    "        elif mes in (4, 6, 9, 11):\n",
    "            if dia >= 1 and dia <= 30:\n",
    "                return(\"{:02} de {} de {:04}\".format(dia,meses[mes],ano)) \n",
    "            else:\n",
    "                return None\n",
    "        else:\n",
    "            return None\n",
    "\n",
    "dia = int(input(\"Digite o dia: \"))\n",
    "mes = int(input(\"Digite o mês: \"))\n",
    "ano = int(input(\"Digite o ano: \"))\n",
    "\n",
    "if data(dia,mes,ano) == None:\n",
    "    print(\"\\nData inválida\")\n",
    "else:\n",
    "    print(\"\\nA data {:02}/{:02}/{:04} por extenso é {}.\".format(dia,mes,ano,data(dia,mes,ano)))"
   ]
  },
  {
   "cell_type": "markdown",
   "metadata": {},
   "source": [
    "# 7 - Conta espaços e vogais. \n",
    "Dado uma string com uma frase informada pelo usuário (incluindo espaços em branco), conte:\n",
    "\n",
    "quantos espaços em branco existem na frase.\n",
    "\n",
    "quantas vezes aparecem as vogais a, e, i, o, u."
   ]
  },
  {
   "cell_type": "code",
   "execution_count": 1,
   "metadata": {},
   "outputs": [
    {
     "name": "stdout",
     "output_type": "stream",
     "text": [
      "Digite uma palavra ou frase (não utilize acentos): SPAM SPAM spam\n",
      "\n",
      "O Conteúdo tem 2 espaços e 3 vogais.\n"
     ]
    }
   ],
   "source": [
    "minhastring = input(\"Digite uma palavra ou frase (não utilize acentos): \")\n",
    "\n",
    "minhastring = minhastring.lower()\n",
    "\n",
    "cont = 0\n",
    "for i in minhastring:\n",
    "    if i==\"a\" or i==\"e\" or i==\"i\" or i==\"o\" or i==\"u\":\n",
    "        cont += 1\n",
    "\n",
    "print(\"\\nO Conteúdo tem {} espaços e {} vogais.\".format(minhastring.count(\" \"),cont))"
   ]
  },
  {
   "cell_type": "markdown",
   "metadata": {},
   "source": [
    "# 8 - Palíndromo. \n",
    "Um palíndromo é uma seqüência de caracteres cuja leitura é idêntica se feita da direita para esquerda ou vice−versa. \n",
    "\n",
    "Por exemplo: OSSO e OVO são palíndromos. \n",
    "\n",
    "Em textos mais complexos os espaços e pontuação são ignorados. \n",
    "\n",
    "A frase SUBI NO ONIBUS é o exemplo de uma frase palíndroma onde os espaços foram ignorados.\n",
    "\n",
    "Faça um programa que leia uma seqüência de caracteres, mostre−a e diga se é um palíndromo ou não."
   ]
  },
  {
   "cell_type": "code",
   "execution_count": 30,
   "metadata": {},
   "outputs": [
    {
     "name": "stdout",
     "output_type": "stream",
     "text": [
      "Digite uma palavra ou frase (não utilize acentos): SUBI NO ONIBUS\n",
      "\n",
      "O texto SUBI NO ONIBUS é um palíndromo\n"
     ]
    }
   ],
   "source": [
    "def palindromo(minhastring):\n",
    "    #colovando tudo em maiúsculas\n",
    "    minhastring.upper()\n",
    "    \n",
    "    #Invertendo a string original\n",
    "    stringminha = minhastring[len(minhastring)::-1]\n",
    "    \n",
    "    #Retirando os espaços e comparando as duas strings\n",
    "    if minhastring.replace(' ', '') == stringminha.replace(' ', ''):\n",
    "        print(\"\\nO texto {} é um palíndromo\".format(minhastring))\n",
    "    else:\n",
    "        print(\"\\n O texto {} NÃO é um palíndromo\".format(minhastring))\n",
    "\n",
    "\n",
    "minhastring = input(\"Digite uma palavra ou frase (não utilize acentos): \")\n",
    "palindromo(minhastring)\n"
   ]
  },
  {
   "cell_type": "markdown",
   "metadata": {},
   "source": [
    "# 9 - Verificação de CPF. \n",
    "Desenvolva um programa que solicite a digitação de um número de CPF no formato xxx.xxx.xxx-xx e indique se é um número válido ou inválido através da validação dos dígitos verificadores e dos caracteres de formatação."
   ]
  },
  {
   "cell_type": "code",
   "execution_count": 30,
   "metadata": {
    "scrolled": true
   },
   "outputs": [
    {
     "name": "stdout",
     "output_type": "stream",
     "text": [
      "Digite o seu CPF: 15915915900\n",
      "\n",
      "CPF 159.159.159-00 é INVÁLIDO. \n"
     ]
    }
   ],
   "source": [
    "#A regra de formação do CPF pode ser vista no endereço abaixo\n",
    "#http://www.consultaesic.cgu.gov.br/busca/dados/Lists/Pedido/Attachments/495242/RESPOSTA_PEDIDO_16853005945201692.pdf\n",
    "\n",
    "#Valida se CPF tem 11 dígitos\n",
    "while True:\n",
    "    cpf = input(\"Digite o seu CPF: \")\n",
    "    if len(cpf)==11:\n",
    "        break\n",
    "\n",
    "#Retira pontos e traços do CPF\n",
    "cpf = cpf.replace('.', '')\n",
    "cpf = cpf.replace('-', '')\n",
    "\n",
    "while True:\n",
    "    #Calculo do primeiro DV\n",
    "    peso = 10\n",
    "    soma = 0\n",
    "    for i in range (9):\n",
    "        soma += int(cpf[i]) * peso\n",
    "        peso -= 1\n",
    "\n",
    "    if soma%11 <= 1:\n",
    "        dv1 = 0\n",
    "    else:\n",
    "        dv1 = 11 - (soma%11)\n",
    "    if int(cpf[9]) != dv1:\n",
    "        print(\"\\nCPF {}{}{}.{}{}{}.{}{}{}-{}{} é INVÁLIDO. \".format(cpf[0],cpf[1],cpf[2],cpf[3],cpf[4],cpf[5],cpf[6],cpf[7],\\\n",
    "                                                              cpf[8],cpf[9],cpf[10]))\n",
    "        break\n",
    "\n",
    "    #Calculo do segundo DV    \n",
    "    peso = 11\n",
    "    soma = 0\n",
    "    for i in range (10):\n",
    "        soma += int(cpf[i]) * peso\n",
    "        peso -= 1\n",
    "\n",
    "    if soma%11 <= 1:\n",
    "        dv2 = 0\n",
    "    else:\n",
    "        dv2 = 11 - (soma%11)\n",
    "    if int(cpf[10]) != dv2:\n",
    "        print(\"\\nCPF {}{}{}.{}{}{}.{}{}{}-{}{} é INVÁLIDO. \".format(cpf[0],cpf[1],cpf[2],cpf[3],cpf[4],cpf[5],cpf[6],cpf[7],\\\n",
    "                                                              cpf[8],cpf[9],cpf[10]))\n",
    "        break\n",
    "    \n",
    "    print(\"\\nO CPF é valido\")\n",
    "    break\n",
    "\n"
   ]
  },
  {
   "cell_type": "markdown",
   "metadata": {},
   "source": [
    "# 10 - Número por extenso. \n",
    "Escreva um programa que solicite ao usuário a digitação de um número até 99 e imprima-o na tela por extenso.\n",
    "\n"
   ]
  },
  {
   "cell_type": "code",
   "execution_count": 31,
   "metadata": {},
   "outputs": [
    {
     "name": "stdout",
     "output_type": "stream",
     "text": [
      "Digite um número entre 0 e 99: 1001\n",
      "Digite um número entre 0 e 99: 42\n",
      "O número por extenso é quarenta e dois\n"
     ]
    }
   ],
   "source": [
    "#Lendo e validando o número\n",
    "while True:\n",
    "    num = int(input(\"Digite um número entre 0 e 99: \"))\n",
    "    if num>=0 and num<100:\n",
    "        break\n",
    "\n",
    "#Separando dezena e unidade do número\n",
    "dezena = num//10\n",
    "unidade = num - dezena*10\n",
    "\n",
    "#Definindo dicionários\n",
    "dict_unidade = {0:\"zero\",1:\"um\",2:\"dois\",3:\"três\",4:\"quatro\",5:\"cinco\",6:\"seis\",7:\"sete\",8:\"oito\",9:\"nove\",10:\"dez\"}\n",
    "dict_aux = {11:\"onze\",12:\"doze\",13:\"treze\",14:\"catorze\",15:\"quinze\",16:\"dezesseis\",17:\"dezesete\",18:\"dezoito\",19:\"dezenove\",}\n",
    "dict_dezena = {20:\"vinte\",30:\"trinta\",40:\"quarenta\",50:\"cinquenta\",60:\"sessenta\",70:\"setenta\",80:\"oitenta\",90:\"noventa\"}\n",
    "\n",
    "if num <20:\n",
    "    #Número entre 0 e 10\n",
    "    if dezena==0 or num==10:\n",
    "        print(\"O número por extenso é {}\".format(dict_unidade.get(num)))        \n",
    "    #Número entre 11 e 19\n",
    "    else:\n",
    "        print(\"O número por extenso é {}\".format(dict_aux.get(num)))  \n",
    "#Números maiores ou iguais a 20 e com final zero\n",
    "elif (num%10==0):\n",
    "    print(\"O número por extenso é {}\".format(dict_dezena.get(num)))\n",
    "#Demais números\n",
    "else:\n",
    "    print(\"O número por extenso é {} e {}\".format(dict_dezena.get(dezena*10),dict_unidade.get(unidade)))\n",
    "   "
   ]
  },
  {
   "cell_type": "markdown",
   "metadata": {},
   "source": [
    "# 11 - Jogo de Forca. \n",
    "Desenvolva um jogo da forca. O programa terá uma lista de palavras lidas de um arquivo texto e escolherá uma aleatoriamente. \n",
    "\n",
    "O jogador poderá errar 6 vezes antes de ser enforcado.\n",
    "\n",
    "Digite uma letra: A\n",
    "-> Você errou pela 1ª vez. Tente de novo!\n",
    "\n",
    "Digite uma letra: O\n",
    "A palavra é: _ _ _ _ O\n",
    "\n",
    "Digite uma letra: E\n",
    "A palavra é: _ E _ _ O\n",
    "\n",
    "Digite uma letra: S\n",
    "-> Você errou pela 2ª vez. Tente de novo!"
   ]
  },
  {
   "cell_type": "code",
   "execution_count": 31,
   "metadata": {},
   "outputs": [
    {
     "name": "stdout",
     "output_type": "stream",
     "text": [
      "Vamos iniciar o jogo da forca. \n",
      "Você tem 6 tentativas\n",
      "A palavra a ser adivinhada tem 7 letras\n",
      "\n",
      "Digite uma letra: a\n",
      "A_A____\n",
      "\n",
      "Digite uma letra: e\n",
      "A_A_E__\n",
      "\n",
      "Digite uma letra: i\n",
      "Você errou 1 vez. Ainda tem 5 tentativas\n",
      "A_A_E__\n",
      "\n",
      "Digite uma letra: r\n",
      "A_ARE__\n",
      "\n",
      "Digite uma letra: t\n",
      "Você errou 2 vezes. Ainda tem 4 tentativas\n",
      "A_ARE__\n",
      "\n",
      "Digite uma letra: m\n",
      "AMARE__\n",
      "\n",
      "Digite uma letra: l\n",
      "AMAREL_\n",
      "\n",
      "Digite uma letra: o\n",
      "AMARELO\n",
      "\n",
      "Acertou! Fim do jogo.\n"
     ]
    }
   ],
   "source": [
    "import random\n",
    "\n",
    "#Abre arquivo\n",
    "arquivo = open(\"C:\\\\Users\\\\rodri\\\\OneDrive\\\\Python\\\\Exercícios\\\\palavras.txt\")\n",
    "palavras = arquivo.readlines()\n",
    "\n",
    "#Retira \\n de cada palavra\n",
    "for i in range(len(palavras)):\n",
    "    palavras[i]=palavras[i].rstrip('\\n')\n",
    "\n",
    "#Fecha arquivo\n",
    "arquivo.close()\n",
    "\n",
    "#Escolhendo uma palavra aleatória\n",
    "escolhida = random.choice(palavras)\n",
    "tamanho_escolhida = len(escolhida)\n",
    "palavra_adivinha = [\"_\"] * tamanho_escolhida\n",
    "\n",
    "tentativas = 0\n",
    "erros = 0\n",
    "\n",
    "print(\"Vamos iniciar o jogo da forca. \\nVocê tem 6 tentativas\")\n",
    "print(\"A palavra a ser adivinhada tem {} letras\".format(len(palavra_adivinha)))\n",
    "\n",
    "while (\"\".join(palavra_adivinha) != escolhida and tentativas < 6):\n",
    "    letra = input(\"\\nDigite uma letra: \").upper()\n",
    "    acerto = False\n",
    "    \n",
    "    #Verifica se a letra digitada está na palavra escolhida\n",
    "    for i in range(tamanho_escolhida):\n",
    "        if escolhida[i] == letra:\n",
    "            palavra_adivinha[i] = letra\n",
    "            acerto = True\n",
    "            \n",
    "    if acerto == False:\n",
    "        tentativas += 1\n",
    "        erros += 1\n",
    "        \n",
    "        if erros == 1:\n",
    "            print(\"Você errou 1 vez. Ainda tem {} tentativas\".format(6-tentativas))\n",
    "        else:\n",
    "            print(\"Você errou {} vezes. Ainda tem {} tentativas\".format(erros,6-tentativas))\n",
    "            \n",
    "    print(\"\".join(palavra_adivinha))\n",
    "    \n",
    "if erros <6:\n",
    "    print(\"\\nAcertou! Fim do jogo.\")\n",
    "else:\n",
    "    print(\"\\nPerdeu! Você errou 6 vezes. \")\n",
    "    print(\"A palavra era {}\".format(escolhida))\n",
    " "
   ]
  },
  {
   "cell_type": "markdown",
   "metadata": {},
   "source": [
    "# 12 - Valida e corrige número de telefone. \n",
    "Faça um programa que leia um número de telefone, e corrija o número no caso deste conter somente 7 dígitos, acrescentando o '3' na frente. \n",
    "\n",
    "O usuário pode informar o número com ou sem o traço separador.\n",
    "\n",
    "Valida e corrige número de telefone\n",
    "\n",
    "Telefone: 461-0133\n",
    "\n",
    "Telefone possui 7 dígitos. Vou acrescentar o digito três na frente.\n",
    "\n",
    "Telefone corrigido sem formatação: 34610133\n",
    "\n",
    "Telefone corrigido com formatação: 3461-0133"
   ]
  },
  {
   "cell_type": "code",
   "execution_count": 68,
   "metadata": {},
   "outputs": [
    {
     "name": "stdout",
     "output_type": "stream",
     "text": [
      "Digite um número de telefone: 123456\n",
      "Digite um número de telefone: 123-4567\n",
      "\n",
      "Telefone possui 7 dígitos. Vou acrescentar o digito três na frente.\n",
      "\n",
      "Telefone é 3123-4567\n"
     ]
    }
   ],
   "source": [
    "while True:\n",
    "    telefone = input(\"Digite um número de telefone: \")\n",
    "    #Retirando ponto e traço do telefone\n",
    "    telefone = telefone.replace('.', '')\n",
    "    telefone = telefone.replace('-', '')\n",
    "    if len(telefone)==8:\n",
    "        break\n",
    "    if len(telefone)==7:\n",
    "        print(\"\\nTelefone possui 7 dígitos. Vou acrescentar o digito três na frente.\")\n",
    "        telefone = \"3\"+telefone\n",
    "        break\n",
    "\n",
    "print(\"\\nTelefone é {}-{}\".format(telefone[:4],telefone[4:]))"
   ]
  },
  {
   "cell_type": "markdown",
   "metadata": {},
   "source": [
    "# 14 - Leet speak generator. \n",
    "Leet é uma forma de se escrever o alfabeto latino usando outros símbolos em lugar das letras, como números por exemplo. \n",
    "\n",
    "A própria palavra leet admite muitas variações, como l33t ou 1337. \n",
    "\n",
    "O uso do leet reflete uma subcultura relacionada ao mundo dos jogos de computador e internet, sendo muito usada para confundir os iniciantes e afirmar-se como parte de um grupo. \n",
    "\n",
    "Pesquise sobre as principais formas de traduzir as letras. Depois, faça um programa que peça uma texto e transforme-o para a grafia leet speak."
   ]
  },
  {
   "cell_type": "code",
   "execution_count": 46,
   "metadata": {},
   "outputs": [
    {
     "name": "stdout",
     "output_type": "stream",
     "text": [
      "Digite o seu texto: escrevi um texto\n",
      "\n",
      "Texto convertido para a grafia leet speak:\n",
      "3 5 < Я 3 \\/ 1   |_| {V}   + 3 >< + 0 "
     ]
    }
   ],
   "source": [
    "dictleet ={'A':'4','B':'8','C':'<','D':'I>','E':'3','F':'|=','G':'6','H':'#','I':'1','J':'_/','K':'X','L':'|_','M':'{V}',\"N\":'[]\\[]','O':'0' ,'P':'|o' ,'Q':\"9\",'R':'Я','S':'5','T':'+','U':'|_|','V':'\\/','W':'\\/\\/','X':'><','Y':'¥','Z':'%'}\n",
    "\n",
    "texto = input(\"Digite o seu texto: \")\n",
    "\n",
    "print(\"\\nTexto convertido para a grafia leet speak:\")\n",
    "for i in texto.upper():\n",
    "    if i.isalpha():\n",
    "        print (dictleet[i], end = \" \")\n",
    "    else:\n",
    "        print (\" \", end = \" \")"
   ]
  }
 ],
 "metadata": {
  "kernelspec": {
   "display_name": "Python 3",
   "language": "python",
   "name": "python3"
  },
  "language_info": {
   "codemirror_mode": {
    "name": "ipython",
    "version": 3
   },
   "file_extension": ".py",
   "mimetype": "text/x-python",
   "name": "python",
   "nbconvert_exporter": "python",
   "pygments_lexer": "ipython3",
   "version": "3.7.4"
  }
 },
 "nbformat": 4,
 "nbformat_minor": 2
}
