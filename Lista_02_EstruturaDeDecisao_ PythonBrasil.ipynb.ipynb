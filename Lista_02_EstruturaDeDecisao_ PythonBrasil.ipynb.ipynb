{
 "cells": [
  {
   "cell_type": "markdown",
   "metadata": {},
   "source": [
    "# Lista 02 https://wiki.python.org.br/EstruturaDeDecisao"
   ]
  },
  {
   "cell_type": "markdown",
   "metadata": {},
   "source": [
    "# 01 - Faça um Programa que peça dois números e imprima o maior deles."
   ]
  },
  {
   "cell_type": "code",
   "execution_count": 4,
   "metadata": {},
   "outputs": [
    {
     "name": "stdout",
     "output_type": "stream",
     "text": [
      "Digite o primeiro número: 5\n",
      "Digite o segundo número: 6\n",
      "\n",
      "Número 6 é o maior \n"
     ]
    }
   ],
   "source": [
    "numero_1 = int(input(\"Digite o primeiro número: \"))\n",
    "numero_2 = int(input(\"Digite o segundo número: \"))\n",
    "\n",
    "if numero_1 > numero_2:\n",
    "    print(\"\\nNúmero %d é o maior \" % (numero_1))\n",
    "elif numero_1 < numero_2:\n",
    "    print(\"\\nNúmero %d é o maior \" % (numero_2))\n",
    "else:\n",
    "    print(\"\\nNúmeros iguais\")  \n",
    "    "
   ]
  },
  {
   "cell_type": "markdown",
   "metadata": {},
   "source": [
    "# 02 - Faça um Programa que peça um valor e mostre na tela se o valor é positivo ou negativo.\n"
   ]
  },
  {
   "cell_type": "code",
   "execution_count": 7,
   "metadata": {},
   "outputs": [
    {
     "name": "stdout",
     "output_type": "stream",
     "text": [
      "Digite um número: -1\n",
      "\n",
      "Negativo\n"
     ]
    }
   ],
   "source": [
    "numero_1 = int(input(\"Digite um número: \"))\n",
    "if numero_1 > 0:\n",
    "    print(\"\\nPositivo\")\n",
    "elif numero_1 < 0:\n",
    "    print(\"\\nNegativo\")\n",
    "else:\n",
    "    print(\"\\nÉ zero\")\n",
    "        "
   ]
  },
  {
   "cell_type": "markdown",
   "metadata": {},
   "source": [
    "# 03- Faça um Programa que verifique se uma letra digitada é \"F\" ou \"M\". Conforme a letra escrever: F - Feminino, M - Masculino, Sexo Inválido."
   ]
  },
  {
   "cell_type": "code",
   "execution_count": 10,
   "metadata": {},
   "outputs": [
    {
     "name": "stdout",
     "output_type": "stream",
     "text": [
      "Digite o sexo (F para Feminino ou M para Masculino): c\n",
      "\n",
      "Sexo Inválido\n"
     ]
    }
   ],
   "source": [
    "sexo = input(\"Digite o sexo (F para Feminino ou M para Masculino): \")\n",
    "\n",
    "if sexo == 'F' or sexo == 'f':\n",
    "    print(\"\\nFeminino\")\n",
    "elif sexo == 'M' or sexo == 'm':\n",
    "    print(\"\\nMasculino\")\n",
    "else:\n",
    "    print(\"\\nSexo Inválido\")"
   ]
  },
  {
   "cell_type": "markdown",
   "metadata": {},
   "source": [
    "# 04 - Faça um Programa que verifique se uma letra digitada é vogal ou consoante.\n"
   ]
  },
  {
   "cell_type": "code",
   "execution_count": 13,
   "metadata": {},
   "outputs": [
    {
     "name": "stdout",
     "output_type": "stream",
     "text": [
      "Digite uma letra: u\n",
      "\n",
      "Vogal\n"
     ]
    }
   ],
   "source": [
    "letra = input(\"Digite uma letra: \")\n",
    "\n",
    "if letra == 'a' or letra == 'A' or letra == 'e' or letra == 'E' or letra == 'i' or letra == 'I' or letra == 'o' or letra == 'O' or letra == 'u' or letra == 'U':\n",
    "    print(\"\\nVogal\")\n",
    "else:\n",
    "    print(\"\\nConsoante\")"
   ]
  },
  {
   "cell_type": "markdown",
   "metadata": {},
   "source": [
    "# 05 - Faça um programa para a leitura de duas notas parciais de um aluno. O programa deve calcular a média alcançada por aluno e apresentar:\n",
    "## A mensagem \"Aprovado\", se a média alcançada for maior ou igual a sete;\n",
    "## A mensagem \"Reprovado\", se a média for menor do que sete;\n",
    "## A mensagem \"Aprovado com Distinção\", se a média for igual a dez."
   ]
  },
  {
   "cell_type": "code",
   "execution_count": 18,
   "metadata": {},
   "outputs": [
    {
     "name": "stdout",
     "output_type": "stream",
     "text": [
      "Digite a primeira nota: 7\n",
      "Digite a primeira nota: 7\n",
      "\n",
      "Aprovado\n"
     ]
    }
   ],
   "source": [
    "nota_1 = int(input(\"Digite a primeira nota: \"))\n",
    "nota_2 = int(input(\"Digite a primeira nota: \"))\n",
    "media = (nota_1+nota_2)/2\n",
    "\n",
    "if media == 10:\n",
    "    print(\"\\nAprovado com Distinção\")\n",
    "elif media >= 7:\n",
    "    print(\"\\nAprovado\")\n",
    "else:\n",
    "    print(\"\\nReprovado\")"
   ]
  },
  {
   "cell_type": "markdown",
   "metadata": {},
   "source": [
    "# 06 - Faça um Programa que leia três números e mostre o maior deles.\n"
   ]
  },
  {
   "cell_type": "code",
   "execution_count": null,
   "metadata": {},
   "outputs": [],
   "source": [
    "numero_1 = int(input(\"Digite o primeiro número: \"))\n",
    "numero_2 = int(input(\"Digite o segundo número: \"))\n",
    "numero_3 = int(input(\"Digite o terceiro número: \"))\n",
    "\n",
    "if numero_1 > numero_2 and numero_1 > numero_3:\n",
    "    print(\"\\nPrimeiro número é o maior \")\n",
    "elif numero_2 > numero_3:\n",
    "    print(\"\\nSegundo número é o maior \")\n",
    "else:\n",
    "    print(\"\\nTerceiro número é o maior \")  "
   ]
  },
  {
   "cell_type": "markdown",
   "metadata": {},
   "source": [
    "# 07 - Faça um Programa que leia três números e mostre o maior e o menor deles.\n"
   ]
  },
  {
   "cell_type": "code",
   "execution_count": 27,
   "metadata": {},
   "outputs": [
    {
     "name": "stdout",
     "output_type": "stream",
     "text": [
      "Digite o primeiro número: 1\n",
      "Digite o segundo número: 2\n",
      "Digite o terceiro número: 3\n",
      "\n",
      "Terceiro número é o maior \n",
      "\n",
      "Primeiro número é o menor \n"
     ]
    }
   ],
   "source": [
    "numero_1 = int(input(\"Digite o primeiro número: \"))\n",
    "numero_2 = int(input(\"Digite o segundo número: \"))\n",
    "numero_3 = int(input(\"Digite o terceiro número: \"))\n",
    "\n",
    "#Encontrando o maior\n",
    "if numero_1 > numero_2 and numero_1 > numero_3:\n",
    "    print(\"\\nPrimeiro número é o maior \")\n",
    "elif numero_2 > numero_3:\n",
    "    print(\"\\nSegundo número é o maior \")\n",
    "else:\n",
    "    print(\"\\nTerceiro número é o maior \") \n",
    "\n",
    "#Encontrando o menor\n",
    "if numero_1 < numero_2 and numero_1 < numero_3:\n",
    "    print(\"\\nPrimeiro número é o menor \")\n",
    "elif numero_2 < numero_3:\n",
    "    print(\"\\nSegundo número é o menor \")\n",
    "else:\n",
    "    print(\"\\nTerceiro número é o menor \")\n",
    "    "
   ]
  },
  {
   "cell_type": "markdown",
   "metadata": {},
   "source": [
    "# 08 - Faça um programa que pergunte o preço de três produtos e informe qual produto você deve comprar, sabendo que a decisão é sempre pelo mais barato.\n"
   ]
  },
  {
   "cell_type": "code",
   "execution_count": 28,
   "metadata": {},
   "outputs": [
    {
     "name": "stdout",
     "output_type": "stream",
     "text": [
      "Digite o primeiro produto: 10\n",
      "Digite o segundo produto: 20\n",
      "Digite o terceiro produto: 30\n",
      "\n",
      "Primeiro produto é o mais barato!\n"
     ]
    }
   ],
   "source": [
    "produto_1 = float(input(\"Digite o preço do primeiro produto: \"))\n",
    "produto_2 = float(input(\"Digite o preço do segundo produto: \"))\n",
    "produto_3 = float(input(\"Digite o preço do terceiro produto: \"))\n",
    "\n",
    "if produto_1 < produto_2 and produto_1 < produto_3:\n",
    "    print(\"\\nPrimeiro produto é o mais barato!\")\n",
    "elif produto_2 < produto_3:\n",
    "    print(\"\\nSegundo produto é o mais barato! \")\n",
    "else:\n",
    "    print(\"\\nTerceiro produto é o mais barato! \")"
   ]
  },
  {
   "cell_type": "markdown",
   "metadata": {},
   "source": [
    "# 09 - Faça um Programa que leia três números e mostre-os em ordem decrescente.\n"
   ]
  },
  {
   "cell_type": "code",
   "execution_count": 41,
   "metadata": {},
   "outputs": [
    {
     "name": "stdout",
     "output_type": "stream",
     "text": [
      "Digite o primeiro número: 3\n",
      "Digite o segundo número: 2\n",
      "Digite o terceiro número: 1\n",
      "3\n",
      "2\n",
      "1\n"
     ]
    }
   ],
   "source": [
    "numero_1 = int(input(\"Digite o primeiro número: \"))\n",
    "numero_2 = int(input(\"Digite o segundo número: \"))\n",
    "numero_3 = int(input(\"Digite o terceiro número: \"))\n",
    "\n",
    "if numero_1 >= numero_2 and numero_1 >= numero_3:\n",
    "    print (numero_1) \n",
    "    if numero_2 >= numero_3:\n",
    "        print (numero_2)\n",
    "        print (numero_3)\n",
    "    else:\n",
    "        print (numero_3)\n",
    "        print (numero_2)\n",
    "elif numero_2 >= numero_3:\n",
    "    print (numero_2)\n",
    "    if numero_1 >= numero_3:\n",
    "        print (numero_1) \n",
    "        print (numero_3)\n",
    "    else:\n",
    "        print (numero_3)\n",
    "        print (numero_1)\n",
    "else:\n",
    "    print (numero_3)\n",
    "    if numero_1 >= numero_2:\n",
    "        print (numero_1) \n",
    "        print (numero_2)\n",
    "    else:\n",
    "        print (numero_2)\n",
    "        print (numero_1) \n"
   ]
  },
  {
   "cell_type": "markdown",
   "metadata": {},
   "source": [
    "# 10 - Faça um Programa que pergunte em que turno você estuda. Peça para digitar M-matutino ou V-Vespertino ou N- Noturno. Imprima a mensagem \"Bom Dia!\", \"Boa Tarde!\" ou \"Boa Noite!\" ou \"Valor Inválido!\", conforme o caso."
   ]
  },
  {
   "cell_type": "code",
   "execution_count": 39,
   "metadata": {},
   "outputs": [
    {
     "name": "stdout",
     "output_type": "stream",
     "text": [
      "Digite o turno no qual você estuda (M-matutino ou V-Vespertino ou N- Noturno): n\n",
      "\n",
      "Boa Noite!\n"
     ]
    }
   ],
   "source": [
    "turno = input(\"Digite o turno no qual você estuda (M-matutino ou V-Vespertino ou N- Noturno): \")\n",
    "\n",
    "if turno == 'M' or turno == 'm':\n",
    "    print(\"\\nBom Dia!\")\n",
    "elif turno == 'V' or turno == 'v':\n",
    "    print(\"\\nBoa Tarde!\")\n",
    "elif turno == 'N' or turno == 'n':\n",
    "    print(\"\\nBoa Noite!\")\n",
    "else:\n",
    "    print(\"\\nValor Inválido! Você está estudando?\")"
   ]
  },
  {
   "cell_type": "markdown",
   "metadata": {},
   "source": [
    "# 11 - As Organizações Tabajara resolveram dar um aumento de salário aos seus colaboradores e lhe contraram para desenvolver o programa que calculará os reajustes. Faça um programa que recebe o salário de um colaborador e o reajuste segundo o seguinte critério, baseado no salário atual:\n",
    "## salários até  280,00 (incluindo) : aumento de 20%\n",
    "## salários entre  280,00 e  700,00 : aumento de 15%\n",
    "## salários entre  700,00 e  1500,00 : aumento de 10%\n",
    "## salários de  1500,00 em diante : aumento de 5% \n",
    "# Após o aumento ser realizado, informe na tela:\n",
    "## o salário antes do reajuste;\n",
    "## o percentual de aumento aplicado;\n",
    "## o valor do aumento;\n",
    "## o novo salário, após o aumento."
   ]
  },
  {
   "cell_type": "code",
   "execution_count": 51,
   "metadata": {},
   "outputs": [
    {
     "name": "stdout",
     "output_type": "stream",
     "text": [
      "Tenho uma boa notícia para você. Digite seu salário: 1501\n",
      "Salário atual = R$ 1501.00\n",
      "Percentual de aumento é de 5 %\n",
      "O valor do aumento é de R$ 75.05\n",
      "Salário reajustado = 1576.05\n"
     ]
    }
   ],
   "source": [
    "salario = float(input('Tenho uma boa notícia para você. Digite seu salário: '))\n",
    "\n",
    "#Ficaria melhor utilizar uma função aqui. Mas o conteúdo sobre funções será visto na lista 05\n",
    "\n",
    "if salario <= 280:\n",
    "    print(\"Salário atual = R$ %5.2f\" % (salario))\n",
    "    print(\"Percentual de aumento é de 20 %\")\n",
    "    print(\"O valor do aumento é de R$ %5.2f\" % (salario*.2))\n",
    "    print(\"Salário reajustado = %5.2f\" % (salario*1.2))\n",
    "elif salario <= 700:\n",
    "    print(\"Salário atual = R$ %5.2f\" % (salario))\n",
    "    print(\"Percentual de aumento é de 15 %\")\n",
    "    print(\"O valor do aumento é de R$ %5.2f\" % (salario*.15))\n",
    "    print(\"Salário reajustado = %5.2f\" % (salario*1.15))\n",
    "elif salario <= 1500:    \n",
    "    print(\"Salário atual = R$ %5.2f\" % (salario))\n",
    "    print(\"Percentual de aumento é de 10 %\")\n",
    "    print(\"O valor do aumento é de R$ %5.2f\" % (salario*.1))\n",
    "    print(\"Salário reajustado = %5.2f\" % (salario*1.1))\n",
    "else:\n",
    "    print(\"Salário atual = R$ %5.2f\" % (salario))\n",
    "    print(\"Percentual de aumento é de 5 %\")\n",
    "    print(\"O valor do aumento é de R$ %5.2f\" % (salario*.05))\n",
    "    print(\"Salário reajustado = %5.2f\" % (salario*1.05))\n"
   ]
  },
  {
   "cell_type": "markdown",
   "metadata": {},
   "source": [
    "# 12 - Faça um programa para o cálculo de uma folha de pagamento, sabendo que os descontos são do Imposto de Renda, que depende do salário bruto (conforme tabela abaixo) e 3% para o Sindicato e que o FGTS corresponde a 11% do Salário Bruto, mas não é descontado (é a empresa que deposita). O Salário Líquido corresponde ao Salário Bruto menos os descontos. O programa deverá pedir ao usuário o valor da sua hora e a quantidade de horas trabalhadas no mês.\n",
    "## Desconto do IR:\n",
    "## Salário Bruto até 900 (inclusive) - isento\n",
    "## Salário Bruto até 1500 (inclusive) - desconto de 5%\n",
    "## Salário Bruto até 2500 (inclusive) - desconto de 10%\n",
    "## Salário Bruto acima de 2500 - desconto de 20% Imprima na tela as informações, dispostas conforme o exemplo abaixo. No exemplo o valor da hora é 5 e a quantidade de hora é 220.\n",
    "\n",
    "### Salário Bruto: (5 * 220)              :   1100,00\n",
    " \n",
    "###        (-) IR (5)                     :     55,00 \n",
    "        \n",
    "###        (-) INSS ( 10)                 :    110,00\n",
    "        \n",
    "###        FGTS (11)                      :    121,00\n",
    "        \n",
    "###        Total de descontos              :    165,00\n",
    "        \n",
    "###        Salário Liquido                 :    935,00"
   ]
  },
  {
   "cell_type": "code",
   "execution_count": 20,
   "metadata": {},
   "outputs": [
    {
     "name": "stdout",
     "output_type": "stream",
     "text": [
      "Digite quanto você ganha por hora: 3000\n",
      "Digite quantas horas trabalhou nesse mês: 1\n",
      "Salário bruto                                   3000.00\n",
      "Imposto de renda                                 600.00\n",
      "INSS                                             300.00\n",
      "Sindicato                                        90.00\n",
      "FGTS (não descontado do salário)                 330.00\n",
      "Seu salário líquido será de                     2010.00\n"
     ]
    }
   ],
   "source": [
    "#Ficaria melhor utilizar uma função aqui. Mas o conteúdo sobre funções será visto na lista 05\n",
    "# O sinal de R$ naõ foi colocado nas respostas porque estava dando um erro e não havia tempo de corrigi-lo\n",
    "\n",
    "valor = float(input('Digite quanto você ganha por hora: '))\n",
    "hora = float(input('Digite quantas horas trabalhou nesse mês: '))\n",
    "\n",
    "salario_bruto = valor * hora\n",
    "inss = 0.1\n",
    "sindicato = 0.03\n",
    "FGTS = 0.11\n",
    "\n",
    "if salario_bruto <= 900:\n",
    "    print('Salário bruto                                   %5.2f' % (salario_bruto))\n",
    "    print(\"Imposto de renda (Isento)                        0.00\")\n",
    "    print('INSS                                             %5.2f' % (salario_bruto*inss))\n",
    "    print('Sindicato                                        %5.2f' % (salario_bruto*sindicato))\n",
    "    print('FGTS (não descontado do salário)                 %5.2f' % (salario_bruto*FGTS))\n",
    "    salario_liquido = salario_bruto - salario_bruto*inss - salario_bruto*sindicato\n",
    "    print('Seu salário líquido será de                     %5.2f' % (salario_liquido))   \n",
    "elif salario_bruto <= 1500:\n",
    "    print('Salário bruto                                   %5.2f' % (salario_bruto))\n",
    "    print(\"Imposto de renda                                 %5.2f\" % (salario_bruto*0.05))\n",
    "    print('INSS                                             %5.2f' % (salario_bruto*inss))\n",
    "    print('Sindicato                                        %5.2f' % (salario_bruto*sindicato))\n",
    "    print('FGTS (não descontado do salário)                 %5.2f' % (salario_bruto*FGTS))\n",
    "    salario_liquido = salario_bruto - salario_bruto*0.05 - salario_bruto*inss - salario_bruto*sindicato\n",
    "    print('Seu salário líquido será de                     %5.2f' % (salario_liquido)) \n",
    "elif salario_bruto <= 2500:\n",
    "    print('Salário bruto                                   %5.2f' % (salario_bruto))\n",
    "    print(\"Imposto de renda                                 %5.2f\" % (salario_bruto*0.1))\n",
    "    print('INSS                                             %5.2f' % (salario_bruto*inss))\n",
    "    print('Sindicato                                        %5.2f' % (salario_bruto*sindicato))\n",
    "    print('FGTS (não descontado do salário)                 %5.2f' % (salario_bruto*FGTS))\n",
    "    salario_liquido = salario_bruto - salario_bruto*0.10 - salario_bruto*inss - salario_bruto*sindicato\n",
    "    print('Seu salário líquido será de                     %5.2f' % (salario_liquido)) \n",
    "else:\n",
    "    print('Salário bruto                                   %5.2f' % (salario_bruto))\n",
    "    print(\"Imposto de renda                                 %5.2f\" % (salario_bruto*0.2))\n",
    "    print('INSS                                             %5.2f' % (salario_bruto*inss))\n",
    "    print('Sindicato                                        %5.2f' % (salario_bruto*sindicato))\n",
    "    print('FGTS (não descontado do salário)                 %5.2f' % (salario_bruto*FGTS))\n",
    "    salario_liquido = salario_bruto - salario_bruto*0.20 - salario_bruto*inss - salario_bruto*sindicato\n",
    "    print('Seu salário líquido será de                     %5.2f' % (salario_liquido))  \n",
    "    "
   ]
  },
  {
   "cell_type": "markdown",
   "metadata": {},
   "source": [
    "# 13. Faça um Programa que leia um número e exiba o dia correspondente da semana. (1-Domingo, 2- Segunda, etc.), se digitar outro valor deve aparecer valor inválido."
   ]
  },
  {
   "cell_type": "code",
   "execution_count": 28,
   "metadata": {},
   "outputs": [
    {
     "name": "stdout",
     "output_type": "stream",
     "text": [
      "Digite um número do dia: 8\n",
      "Valor inválido\n"
     ]
    }
   ],
   "source": [
    "num = int(input('Digite um número do dia: '))\n",
    "\n",
    "if num == 1:\n",
    "    print(\"1 - Domingo\")\n",
    "elif num == 2:\n",
    "    print(\"2 - Segunda\")\n",
    "elif num == 3:\n",
    "    print(\"3 - Terça\")\n",
    "elif num == 4:\n",
    "    print(\"4 - Quarta\")\n",
    "elif num == 5:\n",
    "    print(\"5 - Quinta\")    \n",
    "elif num == 6:\n",
    "    print(\"6 - Sexta\") \n",
    "elif num == 7:\n",
    "    print(\"7 - Sábado\") \n",
    "else:\n",
    "    print(\"Valor inválido\") \n"
   ]
  },
  {
   "cell_type": "markdown",
   "metadata": {},
   "source": [
    "# 14. Faça um programa que lê as duas notas parciais obtidas por um aluno numa disciplina ao longo de um semestre, e calcule a sua média. A atribuição de conceitos obedece à tabela abaixo:\n",
    "## Media de Aproveitamento Conceito\n",
    "### Entre 9.0 e 10.0 A\n",
    "### Entre 7.5 e 9.0 B\n",
    "### Entre 6.0 e 7.5 C\n",
    "### Entre 4.0 e 6.0 D\n",
    "### Entre 4.0 e zero E\n",
    "# O algoritmo deve mostrar na tela as notas, a média, o conceito correspondente e a mensagem “APROVADO” se o conceito for A, B ou C ou “REPROVADO” se o conceito for D ou E"
   ]
  },
  {
   "cell_type": "code",
   "execution_count": 33,
   "metadata": {},
   "outputs": [
    {
     "name": "stdout",
     "output_type": "stream",
     "text": [
      "Digite a primeira nota: 8\n",
      "Digite a primeira nota: 8\n",
      "\n",
      "Conceito B\n",
      "\n",
      "Aprovado\n"
     ]
    }
   ],
   "source": [
    "nota_1 = int(input(\"Digite a primeira nota: \"))\n",
    "nota_2 = int(input(\"Digite a primeira nota: \"))\n",
    "media = (nota_1+nota_2)/2\n",
    "\n",
    "if media > 0 and media <=4:\n",
    "    print(\"\\nConceito E\")\n",
    "    print(\"\\nReprovado\")\n",
    "elif media > 4 and media <=6:\n",
    "    print(\"\\nConceito D\")\n",
    "    print(\"\\nReprovado\")\n",
    "elif media > 6 and media <=7.5:\n",
    "    print(\"\\nConceito C\")\n",
    "    print(\"\\nAprovado\")\n",
    "elif media > 7.5 and media <=9:\n",
    "    print(\"\\nConceito B\")\n",
    "    print(\"\\nAprovado\")\n",
    "else:\n",
    "    print(\"\\nConceito A\")\n",
    "    print(\"\\nAprovado\")"
   ]
  },
  {
   "cell_type": "markdown",
   "metadata": {},
   "source": [
    "# 15. Faça um Programa que peça os 3 lados de um triângulo. O programa deverá informar se os valores podem ser um triângulo. Indique, caso os lados formem um triângulo, se o mesmo é: equilátero, isósceles ou escaleno.\n",
    "## Dicas:\n",
    "### Três lados formam um triângulo quando a soma de quaisquer dois lados for maior que o terceiro;\n",
    "### Triângulo Equilátero: três lados iguais;\n",
    "### Triângulo Isósceles: quaisquer dois lados iguais;\n",
    "### Triângulo Escaleno: três lados diferentes;"
   ]
  },
  {
   "cell_type": "code",
   "execution_count": 53,
   "metadata": {},
   "outputs": [
    {
     "name": "stdout",
     "output_type": "stream",
     "text": [
      "Digite o primeiro lado do triângulo: 1\n",
      "Digite o segundo lado do triângulo: 1\n",
      "Digite o terceiro lado do triângulo: 1\n",
      "\n",
      "Triângulo Equilátero: três lados iguais\n"
     ]
    }
   ],
   "source": [
    "lado_1 = int(input(\"Digite o primeiro lado do triângulo: \"))\n",
    "lado_2 = int(input(\"Digite o segundo lado do triângulo: \"))\n",
    "lado_3 = int(input(\"Digite o terceiro lado do triângulo: \"))\n",
    "\n",
    "#Uma estrutura de repetição poderia ser utilizada aqui para fazer a validação dos lados. Entretanto, isso é assunto da lista 03\n",
    "\n",
    "if (lado_1+lado_2>lado_3) or (lado_1+lado_3>lado_2) or (lado_2+lado_3>lado_1):\n",
    "    \n",
    "    if lado_1==lado_2 and lado_1==lado_3:\n",
    "        print(\"\\nTriângulo Equilátero: três lados iguais\")\n",
    "    elif lado_1==lado_2 or lado_1==lado_3 or lado_2==lado_3:\n",
    "        print(\"\\nTriângulo Isósceles: quaisquer dois lados iguais\")\n",
    "    elif lado_1!=lado_2 and lado_1!=lado_3 and lado_2!=lado_3:\n",
    "        print(\"\\nTriângulo Escaleno: três lados diferentes\")\n",
    "    \n",
    "    \n"
   ]
  },
  {
   "cell_type": "markdown",
   "metadata": {},
   "source": [
    "# 16. Faça um programa que calcule as raízes de uma equação do segundo grau, na forma ax2 + bx + c. O programa deverá pedir os valores de a, b e c e fazer as consistências, informando ao usuário nas seguintes situações:\n",
    "## a. Se o usuário informar o valor de A igual a zero, a equação não é do segundo grau e o programa não deve fazer pedir os demais valores, sendo encerrado;\n",
    "## b. Se o delta calculado for negativo, a equação não possui raizes reais. Informe ao usuário e encerre o programa;\n",
    "## c. Se o delta calculado for igual a zero a equação possui apenas uma raiz real; informe-a ao usuário;\n",
    "## d. Se o delta for positivo, a equação possui duas raiz reais; informe-as ao usuário;"
   ]
  },
  {
   "cell_type": "code",
   "execution_count": 84,
   "metadata": {},
   "outputs": [
    {
     "name": "stdout",
     "output_type": "stream",
     "text": [
      "Vamos calcular as raizes de uma equação de segundo grau ax2 + bx + c.\n",
      "\n",
      "Digite o valor de a: 9\n",
      "Digite o valor de b: -12\n",
      "Digite o valor de c: 4\n",
      "\n",
      "Valor de delta é igual a zero. A equação possui uma raiz real.\n",
      "raiz =  0.67 \n"
     ]
    }
   ],
   "source": [
    "import math\n",
    "print(\"Vamos calcular as raizes de uma equação de segundo grau ax2 + bx + c.\\n\")\n",
    "a = int(input(\"Digite o valor de a: \"))\n",
    "b = int(input(\"Digite o valor de b: \"))\n",
    "c = int(input(\"Digite o valor de c: \"))\n",
    "\n",
    "if a==0:\n",
    "    print(\"Essa não é uma equação de 2º grau.\\nFim do programa.\")\n",
    "else:\n",
    "    delta = b**2 - 4*a*c\n",
    "    if delta < 0:\n",
    "        print(\"\\nValor de delta é negativo. A equação não possui raizes reais.\\nFim do programa.\")\n",
    "    if delta == 0:\n",
    "        print(\"\\nValor de delta é igual a zero. A equação possui uma raiz real.\")\n",
    "        raiz = (-b)/(2*a)\n",
    "        print(\"raiz = %5.2f \" % (raiz))\n",
    "    if delta > 0:\n",
    "        print(\"\\nValor de delta é positivo. A equação possui duas raizes reais.\")\n",
    "        raiz_1 = (-b + math.sqrt(delta))/2*a\n",
    "        raiz_2 = (-b - math.sqrt(delta))/2*a\n",
    "        print (\"raiz 1 = %5.2f \\nraiz 2 = %5.2f\" % (raiz_1,raiz_2))\n"
   ]
  },
  {
   "cell_type": "markdown",
   "metadata": {},
   "source": [
    "# 17. Faça um Programa que peça um número correspondente a um determinado ano e em seguida informe se este ano é ou não bissexto."
   ]
  },
  {
   "cell_type": "code",
   "execution_count": 4,
   "metadata": {},
   "outputs": [
    {
     "name": "stdout",
     "output_type": "stream",
     "text": [
      "Vamos verificar se o ano que você digitará será um ano bissexto: 2020\n",
      "\n",
      "Ano é Bissexto!\n"
     ]
    }
   ],
   "source": [
    "ano = int(input(\"Vamos verificar se o ano que você digitará será um ano bissexto: \"))\n",
    "\n",
    "if ano % 4 == 0 and ano % 100 !=0 or ano % 400 == 0:\n",
    "    print(\"\\nAno é Bissexto!\")\n",
    "else:\n",
    "    print(\"\\nNão é um ano Bissexto!\")"
   ]
  },
  {
   "cell_type": "markdown",
   "metadata": {},
   "source": [
    "# 18. Faça um Programa que peça uma data no formato dd/mm/aaaa e determine se a mesma é uma data válida."
   ]
  },
  {
   "cell_type": "code",
   "execution_count": 56,
   "metadata": {},
   "outputs": [
    {
     "name": "stdout",
     "output_type": "stream",
     "text": [
      "Digite uma data no formato dd/mm/aaaa: 31/11/2015\n",
      "Data inválida\n"
     ]
    }
   ],
   "source": [
    "data = input(\"Digite uma data no formato dd/mm/aaaa: \")\n",
    "\n",
    "#verifica se a data foi inserida no formato correto\n",
    "if data[2]==\"/\" and data[5]==\"/\" and len(data) == 10:\n",
    "    dia = int(data[0:2])\n",
    "    mes = int(data[3:5])\n",
    "    ano = int(data[6:])\n",
    "    \n",
    "    if ano % 4 == 0 and ano % 100 !=0 or ano % 400 == 0:\n",
    "    #Ano bissexto\n",
    "        if mes in (1,3,5,7,8,10,12):\n",
    "            if dia >= 1 and dia <= 31:\n",
    "                print(\"Data válida\")\n",
    "            else:\n",
    "                print(\"Data inválida\")            \n",
    "        elif mes == 2:\n",
    "            if dia >= 1 and dia <= 29:\n",
    "                print(\"Data válida\")\n",
    "            else:\n",
    "                print(\"Data inválida\")\n",
    "        elif mes in (4, 6, 9, 11):\n",
    "            if dia >= 1 and dia <= 30:\n",
    "                print(\"Data válida\") \n",
    "            else:\n",
    "                print(\"Data inválida\")\n",
    "        else:\n",
    "            print(\"Data inválida\")\n",
    "    else:\n",
    "    #Ano não é bissexto\n",
    "        if mes in (1,3,5,7,8,10,12):\n",
    "            if dia >= 1 and dia <=31:\n",
    "                print(\"Data válida\")\n",
    "            else:\n",
    "                print(\"Data inválida\")            \n",
    "        elif mes == 2:\n",
    "            if dia >= 1 and dia <= 28:\n",
    "                print(\"Data válida\")\n",
    "            else:\n",
    "                print(\"Data inválida\")\n",
    "        elif mes in (4, 6, 9, 11):\n",
    "            if dia >= 1 and dia <= 30:\n",
    "                print(\"Data válida\") \n",
    "            else:\n",
    "                print(\"Data inválida\")\n",
    "        else:\n",
    "            print(\"Data inválida\")\n",
    "else:\n",
    "    print(\"Formato incorreto. \\nFim do programa!\")    \n",
    "  "
   ]
  },
  {
   "cell_type": "markdown",
   "metadata": {},
   "source": [
    "# 19. Faça um Programa que leia um número inteiro menor que 1000 e imprima a quantidade de centenas, dezenas e unidades do mesmo.Observando os termos no plural a colocação do \"e\", da vírgula entre outros. \n",
    "## Exemplo:\n",
    "### 326 = 3 centenas, 2 dezenas e 6 unidades\n",
    "### 12 = 1 dezena e 2 unidades\n",
    "## Testar com: 326, 300, 100, 320, 310,305, 301, 101, 311, 111, 25, 20, 10, 21, 11, 1, 7 e 16"
   ]
  },
  {
   "cell_type": "code",
   "execution_count": 19,
   "metadata": {},
   "outputs": [
    {
     "name": "stdout",
     "output_type": "stream",
     "text": [
      "Digite um número entre 0 e 999: 580\n",
      "580 = 5 centenas, 8 dezenas e 0 unidade\n"
     ]
    }
   ],
   "source": [
    "numero = int(input(\"Digite um número entre 0 e 999: \"))\n",
    "\n",
    "if numero > 0 and numero <1000:\n",
    "    \n",
    "    centena = numero//100\n",
    "    dezena = numero//10 - centena*10\n",
    "    unidade = numero%10\n",
    "    \n",
    "    if centena != 0:\n",
    "        if centena > 1: \n",
    "            if dezena > 1:\n",
    "                if unidade > 1:\n",
    "                    print(\"%d = %d centenas, %d dezenas e %d unidades\" % (numero,centena,dezena,unidade))\n",
    "                else:\n",
    "                    print(\"%d = %d centenas, %d dezenas e %d unidade\" % (numero,centena,dezena,unidade))\n",
    "            else:\n",
    "                if unidade > 1:\n",
    "                    print(\"%d = %d centenas, %d dezena e %d unidades\" % (numero,centena,dezena,unidade))\n",
    "                else:\n",
    "                    print(\"%d = %d centenas, %d dezena e %d unidade\" % (numero,centena,dezena,unidade))\n",
    "        else:                \n",
    "            if dezena > 1:\n",
    "                if unidade > 1:\n",
    "                    print(\"%d = %d centena, %d dezenas e %d unidades\" % (numero,centena,dezena,unidade))\n",
    "                else:\n",
    "                    print(\"%d = %d centena, %d dezenas e %d unidade\" % (numero,centena,dezena,unidade))\n",
    "            else:\n",
    "                if unidade > 1:\n",
    "                    print(\"%d = %d centena, %d dezena e %d unidades\" % (numero,centena,dezena,unidade))\n",
    "                else:\n",
    "                    print(\"%d = %d centena, %d dezena e %d unidade\" % (numero,centena,dezena,unidade))  \n",
    "    else:\n",
    "        if dezena != 0:\n",
    "            if dezena > 1:\n",
    "                if unidade > 1:\n",
    "                    print(\"%d = %d dezenas e %d unidades\" % (numero, dezena, unidade))\n",
    "                else:\n",
    "                    print(\"%d = %d dezenas e %d unidade\" % (numero, dezena, unidade))\n",
    "            else:\n",
    "                if unidade > 1:\n",
    "                    print(\"%d = %d dezena e %d unidades\" % (numero, dezena, unidade))\n",
    "                else:\n",
    "                    print(\"%d = %d dezena e %d unidade\" % (numero, dezena, unidade))                    \n",
    "        else:\n",
    "            if unidade > 1:\n",
    "                print(\"%d = %d unidades\" % (numero, unidade))\n",
    "            else:\n",
    "                print(\"%d = %d unidade\" % (numero, unidade))\n",
    "else:\n",
    "    print(\"Número fora do intervalo\")\n",
    "    \n",
    "   "
   ]
  },
  {
   "cell_type": "markdown",
   "metadata": {},
   "source": [
    "# 20. Faça um Programa para leitura de três notas parciais de um aluno. O programa deve calcular a média alcançada por aluno e presentar:\n",
    "## a. A mensagem \"Aprovado\", se a média for maior ou igual a 7, com a respectiva média alcançada;\n",
    "## b. A mensagem \"Reprovado\", se a média for menor do que 7, com a respectiva média alcançada;\n",
    "## c. A mensagem \"Aprovado com Distinção\", se a média for igual a 10."
   ]
  },
  {
   "cell_type": "code",
   "execution_count": 90,
   "metadata": {},
   "outputs": [
    {
     "name": "stdout",
     "output_type": "stream",
     "text": [
      "Digite a primeira nota: 4\n",
      "Digite a primeira nota: 4\n",
      "Digite a primeira nota: 4\n",
      "\n",
      "Reprovado.\n",
      "Média =  4.00\n"
     ]
    }
   ],
   "source": [
    "nota_1 = int(input(\"Digite a primeira nota: \"))\n",
    "nota_2 = int(input(\"Digite a primeira nota: \"))\n",
    "nota_3 = int(input(\"Digite a primeira nota: \"))\n",
    "\n",
    "media = (nota_1+nota_2+nota_3)/3\n",
    "\n",
    "if media == 10:\n",
    "    print(\"\\nAprovado com Distinção.\\nMédia = 10\")\n",
    "elif media >= 7:\n",
    "    print(\"\\nAprovado.\\nMédia = %5.2f\" % (media))\n",
    "else:\n",
    "    print(\"\\nReprovado.\\nMédia = %5.2f\" % (media))"
   ]
  },
  {
   "cell_type": "markdown",
   "metadata": {},
   "source": [
    "# 21. Faça um Programa para um caixa eletrônico. O programa deverá perguntar ao usuário a valor do saque e depois informar quantas notas de cada valor serão fornecidas. As notas disponíveis serão as de 1, 5, 10, 50 e 100 reais. O valor mínimo é de 10 reais e o máximo de 600 reais. O programa não deve se preocupar com a quantidade de notas existentes na máquina.\n",
    "## a. Exemplo 1: Para sacar a quantia de 256 reais, o programa fornece duas notas de 100, uma nota de 50, uma nota de 5 e uma nota de 1;\n",
    "## b. Exemplo 2: Para sacar a quantia de 399 reais, o programa fornece três notas de 100, uma nota de 50, quatro notas de 10, uma nota de 5 e quatro notas de 1."
   ]
  },
  {
   "cell_type": "code",
   "execution_count": 20,
   "metadata": {},
   "outputs": [
    {
     "name": "stdout",
     "output_type": "stream",
     "text": [
      "Digite quanto quer sacar (mínimo de R$10.00 e máximo de R$600.00): 399\n",
      "\n",
      "A quantidade de notas fornecida para o saque de R$ 399.00 será de:\n",
      "Notas de 100: 3\n",
      "Notas de  50: 1\n",
      "Notas de  10: 4\n",
      "Notas de   5: 1\n",
      "Notas de   1: 4\n"
     ]
    }
   ],
   "source": [
    "#Esse módulo será importado para garantir a condição de divisão por zero. \n",
    "#Existem outras formas de fazer isso como a utilização de exceções ou loop while\n",
    "import sys\n",
    "\n",
    "saque = float(input(\"Digite quanto quer sacar (mínimo de R$10.00 e máximo de R$600.00): \"))\n",
    "\n",
    "if saque > 10 and saque <=600:\n",
    "    nota_100 =  saque//100\n",
    "    nota_50 =  (saque - (nota_100*100)) // 50\n",
    "    nota_10 =  (saque - (nota_100*100) - (nota_50*50)) // 10\n",
    "    nota_5 =   (saque - (nota_100*100) - (nota_50*50) - (nota_10*10)) // 5\n",
    "    nota_1 =   (saque - (nota_100*100) - (nota_50*50) - (nota_10*10) - (nota_5*5)) \n",
    "else:\n",
    "    print(\"\\nValor não permitido\")\n",
    "    sys.exit()\n",
    "    #Esse é só um exemplo didático. Em um sistema real, a abordagem de fechar o programa não é a mais adequada.\n",
    "    \n",
    "print(\"\\nA quantidade de notas fornecida para o saque de R$ {0:5.2f} será de:\".format(saque)) \n",
    "print ('Notas de 100: {}'.format(int(nota_100)))\n",
    "print ('Notas de  50: {}'.format(int(nota_50)))\n",
    "print ('Notas de  10: {}'.format(int(nota_10)))\n",
    "print ('Notas de   5: {}'.format(int(nota_5)))\n",
    "print ('Notas de   1: {}'.format(int(nota_1)))   \n",
    "    "
   ]
  },
  {
   "cell_type": "markdown",
   "metadata": {},
   "source": [
    "# 22. Faça um Programa que peça um número inteiro e determine se ele é par ou impar. \n",
    "## Dica: utilize o operador módulo (resto da divisão)."
   ]
  },
  {
   "cell_type": "code",
   "execution_count": 11,
   "metadata": {},
   "outputs": [
    {
     "name": "stdout",
     "output_type": "stream",
     "text": [
      "Digite um número inteiro: 11\n",
      "\n",
      "Número ímpar\n"
     ]
    }
   ],
   "source": [
    "numero = int(input(\"Digite um número inteiro: \"))\n",
    "\n",
    "if numero%2 == 0:\n",
    "    print(\"\\nNúmero par\")\n",
    "else:\n",
    "    print(\"\\nNúmero ímpar\")    "
   ]
  },
  {
   "cell_type": "markdown",
   "metadata": {},
   "source": [
    "# 23. Faça um Programa que peça um número e informe se o número é inteiro ou decimal. \n",
    "## Dica: utilize uma função de arredondamento."
   ]
  },
  {
   "cell_type": "code",
   "execution_count": 10,
   "metadata": {},
   "outputs": [
    {
     "name": "stdout",
     "output_type": "stream",
     "text": [
      "\n",
      "Digite um número: 1.5\n",
      "\n",
      " Decimal\n"
     ]
    }
   ],
   "source": [
    "num1 = float(input(\"\\nDigite um número: \"))\n",
    "\n",
    "if num1 == int(num1):\n",
    "    print('\\n Inteiro')  \n",
    "else:\n",
    "    print('\\n Decimal') "
   ]
  },
  {
   "cell_type": "markdown",
   "metadata": {},
   "source": [
    "# 24. Faça um Programa que leia 2 números e em seguida pergunte ao usuário qual operação ele deseja realizar. O resultado da operação deve ser acompanhado de uma frase que diga se o número é:\n",
    "# # a. par ou ímpar;\n",
    "# # b. positivo ou negativo;\n",
    "# # c. inteiro ou decimal."
   ]
  },
  {
   "cell_type": "code",
   "execution_count": 6,
   "metadata": {},
   "outputs": [
    {
     "name": "stdout",
     "output_type": "stream",
     "text": [
      "Escolha a operação desejada: \n",
      " 1 - Adição \n",
      " 2 - Subtração \n",
      " 3 - Multiplicação \n",
      " 4 - Divisão\n",
      "3\n",
      "\n",
      "Digite o primeiro número: 1\n",
      "\n",
      "Digite o segundo número: 20\n",
      "\n",
      "Você escolheu a operação de multiplicação com os números 1 e 20.\n",
      "O resultado é 20\n",
      "O resultado é um número par, positivo e inteiro.\n"
     ]
    }
   ],
   "source": [
    "#Esse módulo será importado para garantir a condição de divisão por zero. \n",
    "#Existem outras formas de fazer isso como a utilização de exceções ou loop while\n",
    "import sys\n",
    "\n",
    "print('Escolha a operação desejada: \\n 1 - Adição \\n 2 - Subtração \\n 3 - Multiplicação \\n 4 - Divisão')\n",
    "\n",
    "operacao = int(input())\n",
    "\n",
    "#teste da opção escolhida\n",
    "if operacao <1 or operacao >4:\n",
    "    print('\\nOpção inválida. Tente de novo. \\n')\n",
    "else:\n",
    "    num1 = int(input(\"\\nDigite o primeiro número: \"))\n",
    "    num2 = int(input(\"\\nDigite o segundo número: \"))\n",
    "\n",
    "    if operacao == 1:\n",
    "        resultado = num1 + num2\n",
    "        escolha = \"adição\"\n",
    "    elif operacao == 2:\n",
    "        resultado = num1 - num2\n",
    "        escolha = \"subtração\"\n",
    "    elif operacao == 3:\n",
    "        resultado = num1 * num2\n",
    "        escolha = \"multiplicação\"\n",
    "    elif operacao == 4:\n",
    "        #Verificando se haverá uma divisão por zero\n",
    "        if num2 == 0:\n",
    "            print(\"\\nOperação não permitida. Divisão por zero.\")\n",
    "            sys.exit()\n",
    "        else:\n",
    "            resultado = num1 / num2\n",
    "            escolha = \"divisão\" \n",
    "\n",
    "    #Teste par ou impar\n",
    "    if resultado%2 == 0:\n",
    "        par_ou_impar = 'par'    \n",
    "    else:\n",
    "        par_ou_impar = 'impar' \n",
    "    \n",
    "    #Teste positivo ou negativo\n",
    "    if resultado > 0:\n",
    "        pos_ou_neg = 'positivo'    \n",
    "    else:\n",
    "        pos_ou_neg = 'negativo'    \n",
    "\n",
    "    #Teste inteiro ou decimal\n",
    "    if resultado == int(resultado):\n",
    "        int_ou_dec = 'inteiro'    \n",
    "    else:\n",
    "        int_ou_dec = 'decimal'\n",
    "\n",
    "    print(\"\\nVocê escolheu a operação de {} com os números {} e {}.\\nO resultado é {}\".format(escolha, num1, num2, resultado))\n",
    "    print(\"O resultado é um número {}, {} e {}.\".format(par_ou_impar, pos_ou_neg, int_ou_dec))\n"
   ]
  },
  {
   "cell_type": "markdown",
   "metadata": {},
   "source": [
    "# 25. Faça um programa que faça 5 perguntas para uma pessoa sobre um crime. As perguntas são:\n",
    "## a. \"Telefonou para a vítima?\"\n",
    "## b. \"Esteve no local do crime?\"\n",
    "## c. \"Mora perto da vítima?\"\n",
    "## d. \"Devia para a vítima?\"\n",
    "## e. \"Já trabalhou com a vítima?\" \n",
    "## O programa deve no final emitir uma classificação sobre a participação da pessoa no crime. Se a pessoa responder positivamente a 2 questões ela deve ser classificada como \"Suspeita\", entre 3 e 4 como \"Cúmplice\" e 5 como \"Assassino\". Caso contrário, ele será classificado como \"Inocente\"."
   ]
  },
  {
   "cell_type": "code",
   "execution_count": 11,
   "metadata": {},
   "outputs": [
    {
     "name": "stdout",
     "output_type": "stream",
     "text": [
      "Telefonou para a vítima? (S para sim e N para não): s\n",
      "Esteve no local do crime? (S para sim e N para não): s\n",
      "Mora perto da vítima? (S para sim e N para não): s\n",
      "Devia para a vítima? (S para sim e N para não): s\n",
      "Já trabalhou com a vítima? (S para sim e N para não): s\n",
      "\n",
      "Assassino\n"
     ]
    }
   ],
   "source": [
    "#Depoimento da pessoa\n",
    "contador = 0\n",
    "\n",
    "resposta = input(\"Telefonou para a vítima? (S para sim e N para não): \")\n",
    "if resposta == \"S\" or resposta == \"s\":\n",
    "    contador = contador + 1\n",
    "elif resposta == \"N\" or resposta == \"n\":\n",
    "    contador = contador\n",
    "else:\n",
    "    print(\"Valor inválido\")    \n",
    "\n",
    "resposta = input(\"Esteve no local do crime? (S para sim e N para não): \")\n",
    "if resposta == \"S\" or resposta == \"s\":\n",
    "    contador = contador + 1\n",
    "elif resposta == \"N\" or resposta == \"n\":\n",
    "    contador = contador\n",
    "else:\n",
    "    print(\"Valor inválido\")  \n",
    "    \n",
    "resposta = input(\"Mora perto da vítima? (S para sim e N para não): \")\n",
    "if resposta == \"S\" or resposta == \"s\":\n",
    "    contador = contador + 1\n",
    "elif resposta == \"N\" or resposta == \"n\":\n",
    "    contador = contador\n",
    "else:\n",
    "    print(\"Valor inválido\")  \n",
    "    \n",
    "resposta = input(\"Devia para a vítima? (S para sim e N para não): \")\n",
    "if resposta == \"S\" or resposta == \"s\":\n",
    "    contador = contador + 1\n",
    "elif resposta == \"N\" or resposta == \"n\":\n",
    "    contador = contador\n",
    "else:\n",
    "    print(\"Valor inválido\")  \n",
    "    \n",
    "resposta = input(\"Já trabalhou com a vítima? (S para sim e N para não): \")\n",
    "if resposta == \"S\" or resposta == \"s\":\n",
    "    contador = contador + 1\n",
    "elif resposta == \"N\" or resposta == \"n\":\n",
    "    contador = contador\n",
    "else:\n",
    "    print(\"Valor inválido\")  \n",
    "\n",
    "\n",
    "#teste de participação no crime\n",
    "if contador == 2:\n",
    "    print(\"\\nSuspeita\")\n",
    "elif contador == 3 or contador == 4:\n",
    "    print(\"\\nCúmplice\")\n",
    "elif contador == 5:\n",
    "    print(\"\\nAssassino\")\n",
    "else:\n",
    "    print(\"\\nInocente\")\n"
   ]
  },
  {
   "cell_type": "markdown",
   "metadata": {},
   "source": [
    "# 26. Um posto está vendendo combustíveis com a seguinte tabela de descontos:\n",
    "## a. Álcool:\n",
    "### b. até 20 litros, desconto de 3% por litro\n",
    "### c. acima de 20 litros, desconto de 5% por litro\n",
    "## d. Gasolina:\n",
    "### e. até 20 litros, desconto de 4% por litro\n",
    "### f. acima de 20 litros, desconto de 6% por litro\n",
    "# Escreva um algoritmo que leia o número de litros vendidos, o tipo de combustível (codificado da seguinte forma: A-álcool, G-gasolina), calcule e imprima o valor a ser pago pelo cliente sabendo-se que o preço do litro da gasolina é 2,50 o preço do litro do álcool é 1,90."
   ]
  },
  {
   "cell_type": "code",
   "execution_count": 5,
   "metadata": {},
   "outputs": [
    {
     "name": "stdout",
     "output_type": "stream",
     "text": [
      "\n",
      "Escolha o tipo de combustível desejado: \n",
      "A para Alcool\n",
      "G para Gasolina\n",
      "g\n",
      "\n",
      "Escolha quntos litros deseja: \n",
      "50\n",
      "\n",
      "Cupom fiscal de compra\n",
      "\n",
      "Combustivel escolhido: Gasolina\n",
      "Quantidade: 50.0 L\n",
      "Valor sem desconto: R$ 95.00\n",
      "Valor a pagar: R$ 89.30 \n"
     ]
    }
   ],
   "source": [
    "#Esse módulo será importado para garantir a condição de divisão por zero. \n",
    "#Existem outras formas de fazer isso como a utilização de exceções ou loop while\n",
    "import sys\n",
    "\n",
    "#Escolhendo tipo de combustivel\n",
    "tipo_combustivel = input(\"\\nEscolha o tipo de combustível desejado: \\nA para Alcool\\nG para Gasolina\\n\")\n",
    "if tipo_combustivel == \"A\" or tipo_combustivel == \"a\":\n",
    "    nome_combustivel = \"Alcool\"    \n",
    "elif tipo_combustivel == \"G\" or tipo_combustivel == \"g\":\n",
    "    nome_combustivel = \"Gasolina\"   \n",
    "else:\n",
    "    print(\"Opção inválida\")\n",
    "    #Esse é só um exemplo didático. Em um sistema real, a abordagem de fechar o programa não é a mais adequada.\n",
    "    sys.exit()\n",
    "\n",
    "#Definindo preço. Isso foi feito aqui para facilitar um futura revisão de preços\n",
    "preco_gasolina = 1.9\n",
    "preco_alcool = 2.5    \n",
    "    \n",
    "#Escolhendo quantidade abastecida\n",
    "qtde_combustivel = float(input(\"\\nEscolha quntos litros deseja: \\n\"))\n",
    "if qtde_combustivel > 20:\n",
    "    if tipo_combustivel == \"A\" or tipo_combustivel == \"a\":\n",
    "        total_pgto = preco_alcool * qtde_combustivel * 0.95\n",
    "        subtotal = preco_alcool * qtde_combustivel\n",
    "    else:\n",
    "        total_pgto = preco_gasolina * qtde_combustivel* 0.94\n",
    "        subtotal = preco_gasolina * qtde_combustivel\n",
    "\n",
    "else:\n",
    "    if tipo_combustivel == \"A\" or tipo_combustivel == \"a\":\n",
    "        total_pgto = preco_alcool * qtde_combustivel * 0.97\n",
    "        subtotal = preco_alcool * qtde_combustivel\n",
    "\n",
    "    else:\n",
    "        total_pgto = preco_gasolina * qtde_combustivel* 0.96 \n",
    "        subtotal = preco_gasolina * qtde_combustivel\n",
    "\n",
    "#Imprimindo cupom fiscal\n",
    "print(\"\\nCupom fiscal de compra\\n\")\n",
    "print(\"Combustivel escolhido: {0}\\nQuantidade: {1} L\\nValor sem desconto: R$ {2:.2f}\\nValor a pagar: R$ {3:.2f} \".format(nome_combustivel,qtde_combustivel,subtotal,total_pgto))\n",
    "\n",
    "   "
   ]
  },
  {
   "cell_type": "code",
   "execution_count": null,
   "metadata": {},
   "outputs": [],
   "source": [
    "#Escolhendo tipo de combustivel\n",
    "tipo_combustivel = input(\"\\nEscolha o tipo de combustível desejado: \\nA para Alcool\\nG para Gasolina\\n\")\n",
    "if tipo_combustivel == \"A\" or tipo_combustivel == \"a\":\n",
    "    forma_pgto = \"Alcool\"    \n",
    "elif tipo_combustivel == \"G\" or tipo_combustivel == \"g\":\n",
    "    forma_pgto = \"Gasolina\"   \n",
    "else:\n",
    "    print(\"Opção inválida\")\n",
    "    #Esse é só um exemplo didático. Em um sistema real, a abordagem de fechar o programa não é a mais adequada.\n",
    "    sys.exit()"
   ]
  },
  {
   "cell_type": "markdown",
   "metadata": {},
   "source": [
    "# 27. Uma fruteira está vendendo frutas com a seguinte tabela de preços:\n",
    "## Até 5 Kg Acima de 5 Kg\n",
    "### Morango 2,50 por Kg 2,20 por Kg\n",
    "### Maçã 1,80 por Kg 1,50 por Kg\n",
    "# Se o cliente comprar mais de 8 Kg em frutas ou o valor total da compra ultrapassar 25,00, receberá ainda um desconto de 10 por cento sobre este total. Escreva um algoritmo para ler a quantidade (em Kg) de morangos e a quantidade (em Kg) de maças adquiridas e escreva o valor a ser pago pelo cliente."
   ]
  },
  {
   "cell_type": "code",
   "execution_count": 17,
   "metadata": {},
   "outputs": [
    {
     "name": "stdout",
     "output_type": "stream",
     "text": [
      "Informe quantos kilos de morango foram comprados: 10\n",
      "Informe quantos kilos de maçã foram comprados: 10\n",
      "\n",
      "Você ganhou um desconto de 10%\n",
      "Valor da conta sem desconto R$ 37.00\n",
      "Valor da conta com desconto R$ 33.30\n"
     ]
    }
   ],
   "source": [
    "kg_morango = float(input(\"Informe quantos kilos de morango foram comprados: \"))\n",
    "kg_maca = float(input(\"Informe quantos kilos de maçã foram comprados: \"))\n",
    "\n",
    "if kg_morango > 0 and kg_morango <= 5:\n",
    "    valor_mor = kg_morango * 2.5\n",
    "else:\n",
    "    valor_mor = kg_morango * 2.2\n",
    "    \n",
    "if kg_maca > 0 and kg_maca <= 5:\n",
    "    valor_mac = kg_maca * 1.8\n",
    "else:\n",
    "    valor_mac = kg_maca * 1.5\n",
    "    \n",
    "if (kg_morango+kg_maca)>8 or (valor_mor+valor_mac)>25:\n",
    "    print(\"\\nVocê ganhou um desconto de 10%\")\n",
    "    print(\"Valor da conta sem desconto R$ {0:.2f}\\nValor da conta com desconto R$ {1:.2f}\".format((valor_mor+valor_mac),((valor_mor+valor_mac)*0.9)))\n",
    "else:\n",
    "    print(\"\\nValor da conta com desconto R$ {0:.2f}\".format((valor_mor+valor_mac)))\n"
   ]
  },
  {
   "cell_type": "markdown",
   "metadata": {},
   "source": [
    "# 28. O Hipermercado Tabajara está com uma promoção de carnes que é imperdível. Confira:\n",
    "## Até 5 Kg Acima de 5 Kg\n",
    "### File Duplo 4,90 por Kg 5,80 por Kg\n",
    "### Alcatra 5,90 por Kg 6,80 por Kg\n",
    "### Picanha 6,90 por Kg 7,80 por Kg\n",
    "# Para atender a todos os clientes, cada cliente poderá levar apenas um dos tipos de carne da promoção, porém não há limites para a quantidade de carne por cliente. Se compra for feita no cartão Tabajara o cliente receberá ainda um desconto de 5 por cento sobre o total da compra. Escreva um programa que peça o tipo e a quantidade de carne comprada pelo usuário e gere um cupom fiscal, contendo as informações da compra: tipo e quantidade de carne, preço total, tipo de pagamento, valor do desconto e valor a pagar."
   ]
  },
  {
   "cell_type": "code",
   "execution_count": null,
   "metadata": {},
   "outputs": [
    {
     "name": "stdout",
     "output_type": "stream",
     "text": [
      "Promoção supermercado Tajabara\n",
      "\n",
      "Tabela de preços:\n",
      "               Até 5 Kg     Acima de 5 Kg \n",
      "File Duplo R$ 4,90 por Kg  R$ 5,80 por Kg\n",
      "Alcatra    R$ 5,90 por Kg  R$ 6,80 por Kg\n",
      "Picanha    R$ 6,90 por Kg  R$ 7,80 por Kg  \n"
     ]
    }
   ],
   "source": [
    "#Esse módulo será importado para garantir a condição de divisão por zero. \n",
    "#Existem outras formas de fazer isso como a utilização de exceções ou loop while\n",
    "import sys\n",
    "\n",
    "print(\"Promoção supermercado Tajabara\")\n",
    "print(\"\\nTabela de preços:\")\n",
    "print(\"               Até 5 Kg     Acima de 5 Kg \\nFile Duplo R$ 4,90 por Kg  R$ 5,80 por Kg\\nAlcatra    R$ 5,90 por Kg  R$ 6,80 por Kg\\nPicanha    R$ 6,90 por Kg  R$ 7,80 por Kg  \")\n",
    "tipo_carne = int(input(\"\\nEscolha o tipo de carne desejada: \\n1 para Filé Duplo\\n2 para Alcatra\\n3 para Picanha\\n\"))\n",
    "\n",
    "#Definindo preço. Isso foi feito aqui para facilitar um futura revisão de preços\n",
    "preco_file = 4.9\n",
    "preco_alcatra = 5.9\n",
    "preco_picanha = 6.9\n",
    "preco_file_acima_5 = 5.8\n",
    "preco_alcatra_acima_5 = 6.8\n",
    "preco_picanha_acima_5 = 7.8\n",
    "\n",
    "#Escolhendo o tipo de carne\n",
    "if tipo_carne == 1:\n",
    "    qtde_carne = float(input(\"\\nVocê escolheu Filé Duplo. Agora, me diga quantos kilos você deseja levar: \"))\n",
    "    nome_carne = \"Filé Duplo\"\n",
    "elif tipo_carne == 2:\n",
    "    qtde_carne = float(input(\"\\nVocê escolheu Alcatra. Agora, me diga quantos kilos você deseja levar: \"))\n",
    "    nome_carne = \"Alcatra\"\n",
    "elif tipo_carne == 3:\n",
    "    qtde_carne = float(input(\"\\nVocê escolheu Picanha. Agora, me diga quantos kilos você deseja levar: \"))\n",
    "    nome_carne = \"Picanha\"\n",
    "else:\n",
    "    print(\"O tipo de carne escolhido não existe. \")\n",
    "    sys.exit()\n",
    "    #Esse é só um exemplo didático. Em um sistema real, a abordagem de fechar o programa não é a mais adequada.\n",
    "\n",
    "#Escolhendo a forma de pagamento\n",
    "pagamento = input(\"\\nDeseja pagar com cartão Tabajara? (S para sim e N para não): \")\n",
    "if pagamento == \"S\" or pagamento == \"s\":\n",
    "    forma_pgto = \"Cartão Tabajara\"\n",
    "elif pagamento == \"N\" or pagamento == \"n\":\n",
    "    forma_pgto = \"Cartão crédito\"\n",
    "else:\n",
    "    print(\"Opção de pagamento inválida\")\n",
    "    #Esse é só um exemplo didático. Em um sistema real, a abordagem de fechar o programa não é a mais adequada.\n",
    "    sys.exit()\n",
    "\n",
    "#Calculando total a pagar   \n",
    "desconto_cartao = 0.95    \n",
    "if forma_pgto == \"Cartão Tabajara\":\n",
    "    if qtde_carne > 5: \n",
    "        if tipo_carne == 1:\n",
    "            subtotal_pagto = qtde_carne * preco_file_acima_5\n",
    "            total_pagamento = subtotal_pagto * desconto_cartao        \n",
    "        elif tipo_carne == 2:\n",
    "            subtotal_pagto = qtde_carne * preco_alcatra_acima_5\n",
    "            total_pagamento = subtotal_pagto * desconto_cartao         \n",
    "        else:\n",
    "            subtotal_pagto = qtde_carne * preco_picanha_acima_5\n",
    "            total_pagamento = subtotal_pagto * desconto_cartao \n",
    "    else:\n",
    "        if tipo_carne == 1:\n",
    "            subtotal_pagto = qtde_carne * preco_file\n",
    "            total_pagamento = subtotal_pagto * desconto_cartao        \n",
    "        elif tipo_carne == 2:\n",
    "            subtotal_pagto = qtde_carne * preco_alcatra\n",
    "            total_pagamento = subtotal_pagto * desconto_cartao         \n",
    "        else:\n",
    "            subtotal_pagto = qtde_carne * preco_picanha\n",
    "            total_pagamento = subtotal_pagto * desconto_cartao        \n",
    "else:\n",
    "    if qtde_carne > 5: \n",
    "        if tipo_carne == 1:\n",
    "            total_pagamento = qtde_carne * preco_file_acima_5       \n",
    "        elif tipo_carne == 2:\n",
    "            total_pagamento = qtde_carne * preco_alcatra_acima_5         \n",
    "        else:\n",
    "            total_pagamento = qtde_carne * preco_picanha_acima_5 \n",
    "    else:\n",
    "        if tipo_carne == 1:\n",
    "            total_pagamento = qtde_carne * preco_file        \n",
    "        elif tipo_carne == 2:\n",
    "            total_pagamento = qtde_carne * preco_alcatra         \n",
    "        else:\n",
    "            total_pagamento = qtde_carne * preco_picanha  \n",
    "\n",
    "#Imprimindo cupom fiscal\n",
    "print(\"\\nCupom fiscal de compra\\n\")\n",
    "if forma_pgto == \"Cartão Tabajara\":      \n",
    "    print(\"Tipo de carne: {0}\\nQuantidade: {1} kilos\\nForma de pagamento: {2}\\nValor desconto: 5%\\nValor a pagar: R$ {3:.2f} \".format(nome_carne,qtde_carne,forma_pgto,total_pagamento))\n",
    "else:\n",
    "    print(\"Tipo de carne: {0}\\nQuantidade: {1} kilos\\nForma de pagamento: {2}\\nValor desconto: 0%\\nValor a pagar: R$ {3:.2f} \".format(nome_carne,qtde_carne,forma_pgto,total_pagamento))\n",
    "         "
   ]
  }
 ],
 "metadata": {
  "kernelspec": {
   "display_name": "Python 3",
   "language": "python",
   "name": "python3"
  },
  "language_info": {
   "codemirror_mode": {
    "name": "ipython",
    "version": 3
   },
   "file_extension": ".py",
   "mimetype": "text/x-python",
   "name": "python",
   "nbconvert_exporter": "python",
   "pygments_lexer": "ipython3",
   "version": "3.7.4"
  }
 },
 "nbformat": 4,
 "nbformat_minor": 2
}
