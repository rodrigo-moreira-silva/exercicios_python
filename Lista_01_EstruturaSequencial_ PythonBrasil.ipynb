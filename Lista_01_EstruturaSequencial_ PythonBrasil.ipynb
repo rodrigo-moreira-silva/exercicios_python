{
 "cells": [
  {
   "cell_type": "markdown",
   "metadata": {},
   "source": [
    "# Lista 01 https://wiki.python.org.br/EstruturaSequencial"
   ]
  },
  {
   "cell_type": "markdown",
   "metadata": {},
   "source": [
    "# 1. Faça um Programa que mostre a mensagem \"Alo mundo\" na tela."
   ]
  },
  {
   "cell_type": "code",
   "execution_count": null,
   "metadata": {},
   "outputs": [],
   "source": [
    "print('Alô mundo')"
   ]
  },
  {
   "cell_type": "markdown",
   "metadata": {},
   "source": [
    "# 2. Faça um Programa que peça um número e então mostre a mensagem O número informado foi [número]."
   ]
  },
  {
   "cell_type": "code",
   "execution_count": null,
   "metadata": {},
   "outputs": [],
   "source": [
    "numero = input('Digite um número: ')\n",
    "print('o número é ' + numero)"
   ]
  },
  {
   "cell_type": "markdown",
   "metadata": {},
   "source": [
    "# 3. Faça um Programa que peça dois números e imprima a soma."
   ]
  },
  {
   "cell_type": "code",
   "execution_count": null,
   "metadata": {},
   "outputs": [],
   "source": [
    "numero1 = int(input('Digite o primeiro número: '))\n",
    "numero2 = int(input('Digite o segundo número: '))\n",
    "print('A soma de %d e %d é %d' % (numero1, numero2, numero1 + numero2))"
   ]
  },
  {
   "cell_type": "markdown",
   "metadata": {},
   "source": [
    "# 4. Faça um Programa que peça as 4 notas bimestrais e mostre a média."
   ]
  },
  {
   "cell_type": "code",
   "execution_count": null,
   "metadata": {},
   "outputs": [],
   "source": [
    "nota1 = int(input('Digite a primeira nota: '))\n",
    "nota2 = int(input('Digite a segunda nota: '))\n",
    "nota3 = int(input('Digite a terceira nota: '))\n",
    "nota4 = int(input('Digite a quarta nota: '))\n",
    "media = (nota1+nota2+nota3+nota4)/4\n",
    "print('A média é %5.2f' % (media))"
   ]
  },
  {
   "cell_type": "markdown",
   "metadata": {},
   "source": [
    "# 5. Faça um Programa que converta metros para centímetros."
   ]
  },
  {
   "cell_type": "code",
   "execution_count": null,
   "metadata": {},
   "outputs": [],
   "source": [
    "medida_em_M = float(input('Digite a medida: '))\n",
    "conversao_para_cm = medida_em_M * 100\n",
    "print('A medida convertida é %5.2f centímetros' % (conversao_para_cm))"
   ]
  },
  {
   "cell_type": "markdown",
   "metadata": {},
   "source": [
    "# 6. Faça um Programa que peça o raio de um círculo, calcule e mostre sua área."
   ]
  },
  {
   "cell_type": "code",
   "execution_count": null,
   "metadata": {},
   "outputs": [],
   "source": [
    "raio = float(input('Digite o raio do círculo em centímetros: '))\n",
    "pi = 3.14159265359\n",
    "area = pi * raio *raio\n",
    "print('A área do círculo é %5.2f centímetros quadrados' % (area))"
   ]
  },
  {
   "cell_type": "markdown",
   "metadata": {},
   "source": [
    "# 7. Faça um Programa que calcule a área de um quadrado, em seguida mostre o dobro desta área para o usuário."
   ]
  },
  {
   "cell_type": "code",
   "execution_count": null,
   "metadata": {},
   "outputs": [],
   "source": [
    "lado1 = float(input('Digite um lado do quadrado: '))\n",
    "lado2 = float(input('Digite o outro lado do quadrado: '))\n",
    "\n",
    "area = lado1 * lado2\n",
    "print('A área do quadrado é %5.2f unidades de medida quadradas' % (area))\n",
    "print('O dobro dessa área é %5.2f ' % (area*2))"
   ]
  },
  {
   "cell_type": "markdown",
   "metadata": {},
   "source": [
    "# 8. Faça um Programa que pergunte quanto você ganha por hora e o número de horas trabalhadas no mês. Calcule e mostre o total do seu salário no referido mês."
   ]
  },
  {
   "cell_type": "code",
   "execution_count": null,
   "metadata": {},
   "outputs": [],
   "source": [
    "valor = float(input('Digite quanto você ganha por hora: '))\n",
    "hora = float(input('Digite quantas horas trabalhou nesse mês: '))\n",
    "\n",
    "print('Seu salário bruto será de R$ %5.2f' % (valor*hora))"
   ]
  },
  {
   "cell_type": "markdown",
   "metadata": {},
   "source": [
    " # 9. Faça um Programa que peça a temperatura em graus Farenheit, transforme e mostre a temperatura em graus Celsius.\n",
    "## C = (5 * (F-32) / 9)."
   ]
  },
  {
   "cell_type": "code",
   "execution_count": null,
   "metadata": {},
   "outputs": [],
   "source": [
    "temp_F = float(input('Digite a temperatura em graus Farenheit: '))\n",
    "temp_C = (5 * (temp_F-32) / 9)\n",
    "print('A temperatura em em graus Celsius é %5.1f' % (temp_C))"
   ]
  },
  {
   "cell_type": "markdown",
   "metadata": {},
   "source": [
    "# 10. Faça um Programa que peça a temperatura em graus Celsius, transforme e mostre em graus Farenheit."
   ]
  },
  {
   "cell_type": "code",
   "execution_count": null,
   "metadata": {},
   "outputs": [],
   "source": [
    "temp_C = float(input('Digite a temperatura  em graus Celsius: '))\n",
    "temp_F = (9 / 5) * temp_C + 32\n",
    "print('A temperatura em graus Farenheit é %5.1f' % (temp_F))"
   ]
  },
  {
   "cell_type": "markdown",
   "metadata": {},
   "source": [
    "# 11. Faça um Programa que peça 2 números inteiros e um número real. \n",
    "# Calcule e mostre:\n",
    "## o produto do dobro do primeiro com metade do segundo .\n",
    "## a soma do triplo do primeiro com o terceiro.\n",
    "## o terceiro elevado ao cubo."
   ]
  },
  {
   "cell_type": "code",
   "execution_count": null,
   "metadata": {},
   "outputs": [],
   "source": [
    "n1 = int(input('Digite o um número inteiro: '))\n",
    "n2 = int(input('Digite outro número inteiro: '))\n",
    "n3 = float(input('Digite um número real: '))\n",
    "\n",
    "res1 = (n1*2) * (n2/2)\n",
    "res2 = n1*3 + n3\n",
    "res3 = n3**3\n",
    "\n",
    "print('O produto do dobro do primeiro com metade do segundo é %5.2f' % (res1))\n",
    "print('A soma do triplo do primeiro com o terceiro é %5.2f' % (res2))\n",
    "print('O número real elevado ao cubo é %5.2f' % (res3))\n"
   ]
  },
  {
   "cell_type": "markdown",
   "metadata": {},
   "source": [
    "# 12. Tendo como dados de entrada a altura de uma pessoa, construa um algoritmo que calcule seu peso ideal, usando a seguinte fórmula: (72.7*altura) - 58"
   ]
  },
  {
   "cell_type": "code",
   "execution_count": null,
   "metadata": {},
   "outputs": [],
   "source": [
    "altura = float(input('Digite a altura em metros: '))\n",
    "peso_ideal = (72.7 * altura) - 58\n",
    "print('O peso ideal é %5.1f' % (peso_ideal))"
   ]
  },
  {
   "cell_type": "markdown",
   "metadata": {},
   "source": [
    "# 13. Tendo como dado de entrada a altura (h) de uma pessoa, construa um algoritmo que calcule seu peso ideal, utilizando as seguintes fórmulas:\n",
    "## a. Para homens: (72.7*h) - 58\n",
    "## b. Para mulheres: (62.1*h) - 44.7"
   ]
  },
  {
   "cell_type": "code",
   "execution_count": null,
   "metadata": {},
   "outputs": [],
   "source": [
    "altura_H = float(input('Digite a altura em metros do homem: '))\n",
    "altura_M = float(input('Digite a altura em metros da mulher: '))\n",
    "\n",
    "peso_ideal_H = (72.7 * altura) - 58\n",
    "peso_ideal_M = (62.1 * altura) - 44.7\n",
    "\n",
    "print('O peso ideal do homem é %5.1f' % (peso_ideal_H))\n",
    "print('O peso ideal da mulher é %5.1f' % (peso_ideal_M))"
   ]
  },
  {
   "cell_type": "markdown",
   "metadata": {},
   "source": [
    "# 14. João Papo-de-Pescador, homem de bem, comprou um microcomputador para controlar o rendimento diário de seu trabalho. Toda vez que ele traz um peso de peixes maior que o estabelecido pelo regulamento de pesca do estado de São Paulo (50 quilos) deve pagar uma multa de 4,00 por quilo excedente. João precisa que você faça um programa que leia a variável peso (peso de peixes) e calcule o excesso. Gravar na variável excesso a quantidade de quilos além do limite e na variável multa o valor da multa que João deverá pagar. Imprima os dados do programa com as mensagens adequadas."
   ]
  },
  {
   "cell_type": "code",
   "execution_count": null,
   "metadata": {},
   "outputs": [],
   "source": [
    "peso_total = float(input('Digite peso total da pescaria: '))\n",
    "\n",
    "limite_peso = 50.0\n",
    "multa_por_kg = 4.00\n",
    "\n",
    "excesso = peso_total - 50\n",
    "multa = excesso * multa_por_kg\n",
    "\n",
    "print('João pescou %5.2f quilos de peixe. \\nO excesso de peso foi de %5.2f \\nA multa pelo excesso será de R$ %5.2f' % (peso_total,excesso,multa))\n"
   ]
  },
  {
   "cell_type": "markdown",
   "metadata": {},
   "source": [
    "# 15. Faça um Programa que pergunte quanto você ganha por hora e o número de horas trabalhadas no mês. Calcule e mostre o total do seu salário no referido mês, sabendo-se que são descontados 11% para o Imposto de Renda, 8% para o INSS e 5% para o sindicato, faça um programa que nos dê:\n",
    "## a. salário bruto.\n",
    "## b. quanto pagou ao INSS.\n",
    "## c. quanto pagou ao sindicato.\n",
    "## d. o salário líquido.\n",
    "## e. calcule os descontos e o salário líquido, conforme a tabela abaixo:\n",
    "## Salário Bruto : \n",
    "## IR (11%) : \n",
    "## INSS (8%) : \n",
    "## Sindicato ( 5%) : \n",
    "## Salário Liquido : "
   ]
  },
  {
   "cell_type": "code",
   "execution_count": null,
   "metadata": {},
   "outputs": [],
   "source": [
    "valor = float(input('Digite quanto você ganha por hora: '))\n",
    "hora = float(input('Digite quantas horas trabalhou nesse mês: '))\n",
    "\n",
    "salario_bruto = valor * hora\n",
    "ir = 0.11\n",
    "inss = 0.08\n",
    "sindicato = 0.05\n",
    "salario_liquido = salario_bruto - salario_bruto*ir - salario_bruto*inss - salario_bruto*sindicato\n",
    "\n",
    "print('Seu salário bruto será de                      R$ %5.2f' % (salario_bruto))\n",
    "print('O valor descontado de imposto de renda será de R$ %5.2f' % (salario_bruto*ir))\n",
    "print('O valor descontado para o INSS será de         R$ %5.2f' % (salario_bruto*inss))\n",
    "print('O valor descontado para o sindicato será de    R$ %5.2f' % (salario_bruto*sindicato))\n",
    "print('Seu salário líquido será de                    R$ %5.2f' % (salario_liquido))\n"
   ]
  },
  {
   "cell_type": "markdown",
   "metadata": {},
   "source": [
    "# 16. Faça um programa para uma loja de tintas. O programa deverá pedir o tamanho em metros quadrados da área a ser pintada. Considere que a cobertura da tinta é de 1 litro para cada 3 metros quadrados e que a tinta é vendida em latas de 18 litros, que custam 80,00. Informe ao usuário a quantidades de latas de tinta a serem compradas e o preço total."
   ]
  },
  {
   "cell_type": "code",
   "execution_count": null,
   "metadata": {},
   "outputs": [],
   "source": [
    "area = float(input('Digite a área (m2) que será pintada: '))\n",
    "\n",
    "rendimento_lata = 3*18\n",
    "preco_lata = 80\n",
    "\n",
    "qtde_latas = area / rendimento_lata\n",
    "total_pago = preco_lata * qtde_latas\n",
    "\n",
    "print('Para uma área de %5.2f metros quadrados, você precisará de:\\n\\t%5.2f latas de tinta \\n\\tTotal a pagar de R$ %5.2f' % (area,qtde_latas,total_pago))\n"
   ]
  },
  {
   "cell_type": "markdown",
   "metadata": {},
   "source": [
    "# 17. Faça um Programa para uma loja de tintas. O programa deverá pedir o tamanho em metros quadrados da área a ser pintada. Considere que a cobertura da tinta é de 1 litro para cada 6 metros quadrados e que a tinta é vendida em latas de 18 litros, que custam 80,00 ou em galões de 3,6 litros, que custam 25,00.\n",
    "# Informe ao usuário as quantidades de tinta a serem compradas e os respectivos preços em 3 situações:\n",
    "## comprar apenas latas de 18 litros;\n",
    "## comprar apenas galões de 3,6 litros;\n",
    "## misturar latas e galões, de forma que o preço seja o menor. \n",
    "## Acrescente 10% de folga e sempre arredonde os valores para cima, isto é, considere latas cheias."
   ]
  },
  {
   "cell_type": "markdown",
   "metadata": {},
   "source": [
    "#Ficaria melhor utilizar uma estrutura de decisão aqui. Mas esse conteúdo será visto na lista 02"
   ]
  },
  {
   "cell_type": "code",
   "execution_count": 50,
   "metadata": {},
   "outputs": [
    {
     "name": "stdout",
     "output_type": "stream",
     "text": [
      "Digite a área em m2 que será pintada: 500\n",
      "\n",
      "Para uma área de 500.00 metros quadrados, você precisará de 91.67 litros de tinta: \n",
      "\n",
      "Foi utilizada uma folga de 10 % no cálculo da quantidade de tinta\n",
      "\n",
      "1ª opção - somente lata de 18 L\n",
      "\n",
      "\t 6.00 latas de tinta \n",
      "\tTotal a pagar de R$ 480.00 \n",
      "\n",
      "2ª opção - somente galão de 3,6 L\n",
      "\n",
      "\t26.00 galões de tinta \n",
      "\tTotal a pagar de R$ 650.00 \n",
      "\n",
      "3ª opção - mistura de lata e galão\n",
      "\n",
      "\t 5.00 latas e  0.46 galões de tinta \n",
      "\tTotal a pagar de R$ 411.57 \n",
      "\n"
     ]
    }
   ],
   "source": [
    "area = float(input('Digite a área em m2 que será pintada: '))\n",
    "\n",
    "preco_lata = 80\n",
    "preco_galao = 25\n",
    "folga = 1.1\n",
    "\n",
    "qtde_litros_tinta = (area / 6) * folga\n",
    "\n",
    "qtde_latas = (qtde_litros_tinta / 18) \n",
    "qtde_galao = (qtde_litros_tinta / 3.6) \n",
    "\n",
    "#Foi utilizado o arredondando do número de latas e galões para cima utilizando round(número + 0.5)\n",
    "total_pago_lata = round(qtde_latas + 0.5) * preco_lata\n",
    "total_pago_galao = round(qtde_galao + 0.5) * preco_galao\n",
    "\n",
    "#Calculando a quantidade inteira de latas\n",
    "latas_mix = round(qtde_latas)\n",
    "\n",
    "#Calculando a quantidade inteira de galoes\n",
    "galoes_mix = (qtde_litros_tinta - round(qtde_latas)*18)/3.6\n",
    "\n",
    "#Nesse caso, o valor por litro de tinta para a lata é de R$80,00 / 18 litros = 4.44 R$ por litro\n",
    "#Nesse caso, o valor por litro de tinta para o galão é de R$25,00 / 3.6 litros = 6,94 R$ por litro\n",
    "\n",
    "total_pago_mix = latas_mix * preco_lata  +  galoes_mix * preco_galao \n",
    "\n",
    "\n",
    "print('\\nPara uma área de %5.2f metros quadrados, você precisará de %5.2f litros de tinta: \\n'% (area,qtde_litros_tinta))\n",
    "print('Foi utilizada uma folga de', (int((folga-1)*100)),'% no cálculo da quantidade de tinta\\n')\n",
    "\n",
    "print(\"1ª opção - somente lata de 18 L\")\n",
    "print('\\n\\t%5.2f latas de tinta \\n\\tTotal a pagar de R$ %5.2f \\n' % (round(qtde_latas + 0.5),total_pago_lata))\n",
    "\n",
    "print(\"2ª opção - somente galão de 3,6 L\")\n",
    "print('\\n\\t%5.2f galões de tinta \\n\\tTotal a pagar de R$ %5.2f \\n' % (round(qtde_galao + 0.5),total_pago_galao))\n",
    "\n",
    "print(\"3ª opção - mistura de lata e galão\")\n",
    "print('\\n\\t%5.2f latas e %5.2f galões de tinta \\n\\tTotal a pagar de R$ %5.2f \\n' % (latas_mix,galoes_mix,total_pago_mix))\n"
   ]
  },
  {
   "cell_type": "markdown",
   "metadata": {},
   "source": [
    "# 18. Faça um programa que peça o tamanho de um arquivo para download (em MB) e a velocidade de um link de Internet (em Mbps), calcule e informe o tempo aproximado de download do arquivo usando este link (em minutos)."
   ]
  },
  {
   "cell_type": "code",
   "execution_count": 14,
   "metadata": {},
   "outputs": [
    {
     "name": "stdout",
     "output_type": "stream",
     "text": [
      "Digite o tamanho do arquvo em MB: 1000000\n",
      "Digite a velocidade do link em em Mbps: 10\n",
      "O download gastará 13333 minutos e 20 segundos\n"
     ]
    }
   ],
   "source": [
    "tamanho_arquivo = float(input(\"Digite o tamanho do arquvo em MB: \"))\n",
    "velocidade = float(input(\"Digite a velocidade do link em em Mbps: \"))\n",
    "\n",
    "#1 byte = 8 bits\n",
    "tamanho_arquivo_bits = tamanho_arquivo * 8\n",
    "\n",
    "# (tamanho_arquivo_bits/velocidade) // 60 para encontrar a parte inteira dos minutos\n",
    "# (tamanho_arquivo_bits/velocidade) % 60 para encontrar o valor dos segundos\n",
    "print(\"O download gastará %d minutos e %d segundos\" % ((tamanho_arquivo_bits/velocidade)//60,(tamanho_arquivo_bits/velocidade)%60))\n"
   ]
  }
 ],
 "metadata": {
  "kernelspec": {
   "display_name": "Python 3",
   "language": "python",
   "name": "python3"
  },
  "language_info": {
   "codemirror_mode": {
    "name": "ipython",
    "version": 3
   },
   "file_extension": ".py",
   "mimetype": "text/x-python",
   "name": "python",
   "nbconvert_exporter": "python",
   "pygments_lexer": "ipython3",
   "version": "3.7.4"
  }
 },
 "nbformat": 4,
 "nbformat_minor": 2
}
