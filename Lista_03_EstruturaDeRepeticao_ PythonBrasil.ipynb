{
 "cells": [
  {
   "cell_type": "markdown",
   "metadata": {},
   "source": [
    "# Lista 03 https://wiki.python.org.br/EstruturaDeRepeticao"
   ]
  },
  {
   "cell_type": "markdown",
   "metadata": {},
   "source": [
    "# 01 - Faça um programa que peça uma nota, entre zero e dez. Mostre uma mensagem caso o valor seja inválido e continue pedindo até que o usuário informe um valor válido."
   ]
  },
  {
   "cell_type": "code",
   "execution_count": 2,
   "metadata": {},
   "outputs": [
    {
     "name": "stdout",
     "output_type": "stream",
     "text": [
      "Digite uma nota entre zero e dez: 11\n",
      "Você digitou uma 11 que é uma nota inválida.\n",
      "Digite uma nota entre zero e dez: 12\n",
      "Você digitou uma 12.0 que é uma nota inválida.\n",
      "Digite uma nota entre zero e dez: 10\n",
      "Parabéns!\n"
     ]
    }
   ],
   "source": [
    "nota = int(input(\"Digite uma nota entre zero e dez: \"))\n",
    "while (nota<0) or (nota>10):\n",
    "    print(\"Você digitou uma {} que é uma nota inválida.\".format(nota))\n",
    "    nota = float(input(\"Digite uma nota entre zero e dez: \"))\n",
    "print(\"Parabéns!\")"
   ]
  },
  {
   "cell_type": "markdown",
   "metadata": {},
   "source": [
    "# 2 - Faça um programa que leia um nome de usuário e a sua senha e não aceite a senha igual ao nome do usuário, mostrando uma mensagem de erro e voltando a pedir as informações.\n"
   ]
  },
  {
   "cell_type": "code",
   "execution_count": 10,
   "metadata": {},
   "outputs": [
    {
     "name": "stdout",
     "output_type": "stream",
     "text": [
      "Digite seu login: 123\n",
      "Digite sua senha: 12\n",
      "Correto!\n"
     ]
    }
   ],
   "source": [
    "login = input(\"Digite seu login: \")\n",
    "senha = input(\"Digite sua senha: \")\n",
    "\n",
    "while login == senha:\n",
    "    print(\"Seu login e sua senha são iguais. Tente novamente!\")\n",
    "    login = input(\"Digite seu login: \")\n",
    "    senha = input(\"Digite sua senha: \")\n",
    "print(\"Correto!\")"
   ]
  },
  {
   "cell_type": "markdown",
   "metadata": {},
   "source": [
    "# 3 - Faça um programa que leia e valide as seguintes informações:\n",
    "## Nome: maior que 3 caracteres;\n",
    "## Idade: entre 0 e 150;\n",
    "## Salário: maior que zero;\n",
    "## Sexo: 'f' ou 'm';\n",
    "## Estado Civil: 's', 'c', 'v', 'd';"
   ]
  },
  {
   "cell_type": "code",
   "execution_count": 1,
   "metadata": {},
   "outputs": [
    {
     "name": "stdout",
     "output_type": "stream",
     "text": [
      "Digite seu nome (Deve ser maior que 3 caracteres): jj\n",
      "Digite seu nome (Deve ser maior que 3 caracteres): joao\n",
      "Digite sua idade: 500\n",
      "Digite sua idade: 70\n",
      "Digite seu salário (Deve ser maior que zero): -4\n",
      "Digite seu salário (Deve ser maior que zero): 100000\n",
      "Informe seu sexo ('f' ou 'm'): t\n",
      "Informe seu sexo ('f' ou 'm'): t\n",
      "Informe seu sexo ('f' ou 'm'): t\n",
      "Informe seu sexo ('f' ou 'm'): m\n",
      "Informe seu estado civil (Deve ser 's', 'c', 'v', 'd'): t\n",
      "Informe seu estado civil (Deve ser 's', 'c', 'v', 'd'): t\n",
      "Informe seu estado civil (Deve ser 's', 'c', 'v', 'd'): t\n",
      "Informe seu estado civil (Deve ser 's', 'c', 'v', 'd'): c\n",
      "Fim!\n"
     ]
    }
   ],
   "source": [
    "nome = input(\"Digite seu nome (Deve ser maior que 3 caracteres): \")\n",
    "while len(nome) < 3:\n",
    "    nome = input(\"Digite seu nome (Deve ser maior que 3 caracteres): \")\n",
    "        \n",
    "idade = int(input(\"Digite sua idade: \"))  \n",
    "while idade<0 or idade>150:\n",
    "    idade = int(input(\"Digite sua idade: \"))\n",
    "\n",
    "salario = float(input(\"Digite seu salário (Deve ser maior que zero): \"))\n",
    "while salario <= 0:\n",
    "    salario = float(input(\"Digite seu salário (Deve ser maior que zero): \"))\n",
    "    \n",
    "sexo = input(\"Informe seu sexo ('f' ou 'm'): \")\n",
    "teste1 = False\n",
    "while not teste1:\n",
    "    if sexo == 'F' or sexo == 'f' or sexo == 'M' or sexo == 'm':\n",
    "        teste1 = True\n",
    "    else:\n",
    "        sexo = input(\"Informe seu sexo ('f' ou 'm'): \")\n",
    "        teste1 = False\n",
    "    \n",
    "estadocivil = input(\"Informe seu estado civil (Deve ser 's', 'c', 'v', 'd'): \")\n",
    "teste2 = False\n",
    "while not teste2:\n",
    "    if estadocivil == 's' or estadocivil == 'c' or estadocivil == 'v' or estadocivil == 'd':\n",
    "        teste2 = True\n",
    "    else:\n",
    "        estadocivil = input(\"Informe seu estado civil (Deve ser 's', 'c', 'v', 'd'): \")\n",
    "        teste2 = False\n",
    "\n",
    "print(\"Fim!\")\n"
   ]
  },
  {
   "cell_type": "markdown",
   "metadata": {},
   "source": [
    "# 4 - Supondo que a população de um país A seja da ordem de 80000 habitantes com uma taxa anual de crescimento de 3% e que a população de B seja 200000 habitantes com uma taxa de crescimento de 1.5%. Faça um programa que calcule e escreva o número de anos necessários para que a população do país A ultrapasse ou iguale a população do país B, mantidas as taxas de crescimento."
   ]
  },
  {
   "cell_type": "code",
   "execution_count": 7,
   "metadata": {},
   "outputs": [
    {
     "name": "stdout",
     "output_type": "stream",
     "text": [
      "A população de A vai se igualar a de B em 63 anos.\n"
     ]
    }
   ],
   "source": [
    "#Dados de populacao e de crescimento\n",
    "popA = 80000\n",
    "popB = 200000\n",
    "txA = 1.03\n",
    "txB = 1.015\n",
    "\n",
    "#Calculos\n",
    "ano=0\n",
    "while popA <= popB:\n",
    "    popA = popA * txA\n",
    "    popB = popB * txB\n",
    "    ano +=1\n",
    "\n",
    "#Resposta\n",
    "print(\"A população de A vai se igualar a de B em {} anos.\".format(ano))"
   ]
  },
  {
   "cell_type": "markdown",
   "metadata": {},
   "source": [
    "# 5 - Altere o programa anterior permitindo ao usuário informar as populações e as taxas de crescimento iniciais. Valide a entrada e permita repetir a operação.\n"
   ]
  },
  {
   "cell_type": "code",
   "execution_count": 14,
   "metadata": {},
   "outputs": [
    {
     "name": "stdout",
     "output_type": "stream",
     "text": [
      "Informe a populacao do pais A: 80000\n",
      "Informe a taxa de crescimento do pais A: 3\n",
      "Informe a populacao do pais B: 200000\n",
      "Informe o percentual de crescimento do pais B: 1.5\n",
      "A população de A vai se igualar a de B em 63 anos.\n"
     ]
    }
   ],
   "source": [
    "#Inicializando população e taxa de crescimento do pais A\n",
    "popA = 0\n",
    "txA = 0\n",
    "\n",
    "# Solicita o valor das populacoes e taxas de crescimento e faz as validações\n",
    "while popA <= 0:\n",
    "    popA = int(input('Informe a populacao do pais A: '))\n",
    "    if (popA <= 0):\n",
    "        print ('Populacao deve ser um valor positivo.')\n",
    "        \n",
    "while (txA <= 0):\n",
    "    txA = float(input('Informe a taxa de crescimento do pais A: '))\n",
    "    if (txA <= 0):\n",
    "        print ('Percentual de crescimento deve ser um valor positivo')\n",
    "        \n",
    "popB = popA\n",
    "while (popB <= popA):\n",
    "    popB = int(input('Informe a populacao do pais B: '))\n",
    "    if (popB <= popA):\n",
    "        print ('Populacao do pais B deve ser maior que a populacao do pais A')\n",
    "        \n",
    "txB = txA\n",
    "while (txB >= txA):\n",
    "    txB = float(input('Informe o percentual de crescimento do pais B: '))\n",
    "    if (txB >= txA):\n",
    "        print ('Percentual de crescimento do pais B deve ser menor que o do pais A')\n",
    "\n",
    "#Transformando taxas em percentuais\n",
    "txA = 1 + (txA / 100.0)\n",
    "txB = 1 + (txB / 100.0)\n",
    "\n",
    "#Calculos\n",
    "ano=0\n",
    "while popA <= popB:\n",
    "    popA = popA * txA\n",
    "    popB = popB * txB\n",
    "    ano +=1\n",
    "\n",
    "#Resposta\n",
    "print(\"A população de A vai se igualar a de B em {} anos.\".format(ano))\n"
   ]
  },
  {
   "cell_type": "markdown",
   "metadata": {},
   "source": [
    "# 6 - Faça um programa que imprima na tela os números de 1 a 20, um abaixo do outro. Depois modifique o programa para que ele mostre os números um ao lado do outro.\n"
   ]
  },
  {
   "cell_type": "code",
   "execution_count": 19,
   "metadata": {},
   "outputs": [
    {
     "name": "stdout",
     "output_type": "stream",
     "text": [
      "1\n",
      "2\n",
      "3\n",
      "4\n",
      "5\n",
      "6\n",
      "7\n",
      "8\n",
      "9\n",
      "10\n",
      "11\n",
      "12\n",
      "13\n",
      "14\n",
      "15\n",
      "16\n",
      "17\n",
      "18\n",
      "19\n",
      "20\n",
      "\n",
      "\n",
      "1 2 3 4 5 6 7 8 9 10 11 12 13 14 15 16 17 18 19 20 "
     ]
    }
   ],
   "source": [
    "#Imprimindo um número abaixo do outro\n",
    "for i in range(1,21):\n",
    "    print(i)\n",
    "\n",
    "#Imprimindo uma linha em branco\n",
    "print(\"\\n\")\n",
    "\n",
    "#Imprimindo um número ao lado do outro\n",
    "#Aqui utilizamos o argumento nomeado end da função print\n",
    "for i in range(1,21):\n",
    "    print(i, end=\" \")"
   ]
  },
  {
   "cell_type": "markdown",
   "metadata": {},
   "source": [
    "# 7 - Faça um programa que leia 5 números e informe o maior número.\n"
   ]
  },
  {
   "cell_type": "code",
   "execution_count": 25,
   "metadata": {},
   "outputs": [
    {
     "name": "stdout",
     "output_type": "stream",
     "text": [
      "Digite o primeiro número: 1\n",
      "Digite o segundo número: 5\n",
      "Digite o terceiro número: 2\n",
      "Digite o quarto número: 3\n",
      "Digite o quinto número: 4\n",
      "\n",
      "Você escolheu os numeros 1, 5, 2, 3 e 4.\n",
      "O maior número é 5.\n"
     ]
    }
   ],
   "source": [
    "#Lendo os números\n",
    "num1 = int(input(\"Digite o primeiro número: \"))\n",
    "num2 = int(input(\"Digite o segundo número: \"))\n",
    "num3 = int(input(\"Digite o terceiro número: \"))\n",
    "num4 = int(input(\"Digite o quarto número: \"))\n",
    "num5 = int(input(\"Digite o quinto número: \"))\n",
    "\n",
    "#Comparando\n",
    "#Também poderia ser feito com um for e uma lista \n",
    "fim = False\n",
    "while not fim:\n",
    "    if num1 > num2 and num1 > num3 and num1 > num4 and num1 > num5:\n",
    "        maior = num1\n",
    "        fim = True\n",
    "    elif num2 > num3 and num2 > num4 and num2 > num5:\n",
    "        maior = num2\n",
    "        fim = True\n",
    "    elif num3 > num4 and num3 > num5:\n",
    "        maior = num3\n",
    "        fim = True\n",
    "    elif num4 > num5:\n",
    "        maior = num4\n",
    "        fim = True\n",
    "    else:\n",
    "        maior = num5\n",
    "        fim = True\n",
    "\n",
    "#Imprimindo resposta\n",
    "print(\"\\nVocê escolheu os numeros {0}, {1}, {2}, {3} e {4}.\".format(num1,num2,num3,num4,num5))\n",
    "print(\"O maior número é {}.\".format(maior))\n"
   ]
  },
  {
   "cell_type": "markdown",
   "metadata": {},
   "source": [
    "# 8 - Faça um programa que leia 5 números e informe a soma e a média dos números.\n"
   ]
  },
  {
   "cell_type": "code",
   "execution_count": 52,
   "metadata": {},
   "outputs": [
    {
     "name": "stdout",
     "output_type": "stream",
     "text": [
      "Digite um número: 1\n",
      "Digite um número: 2\n",
      "Digite um número: 3\n",
      "Digite um número: 4\n",
      "Digite um número: 5\n",
      "\n",
      "A soma é 15 e a média é 3.0\n"
     ]
    }
   ],
   "source": [
    "#Inicializando a soma. É necessário fazer isso para zerar a soma\n",
    "#Duvida? Comente a linha abaixo e rode o programa mais de uma vez\n",
    "soma = 0\n",
    "\n",
    "for i in range (5):\n",
    "    num = int(input(\"Digite um número: \"))\n",
    "    soma += num\n",
    "    \n",
    "print(\"\\nA soma é {} e a média é {}\".format(soma, soma/5))\n"
   ]
  },
  {
   "cell_type": "markdown",
   "metadata": {},
   "source": [
    "# 9 - Faça um programa que imprima na tela apenas os números ímpares entre 1 e 50.\n"
   ]
  },
  {
   "cell_type": "code",
   "execution_count": 2,
   "metadata": {},
   "outputs": [
    {
     "name": "stdout",
     "output_type": "stream",
     "text": [
      "1\n",
      "3\n",
      "5\n",
      "7\n",
      "9\n",
      "11\n",
      "13\n",
      "15\n",
      "17\n",
      "19\n",
      "21\n",
      "23\n",
      "25\n",
      "27\n",
      "29\n",
      "31\n",
      "33\n",
      "35\n",
      "37\n",
      "39\n",
      "41\n",
      "43\n",
      "45\n",
      "47\n",
      "49\n"
     ]
    }
   ],
   "source": [
    "#Função range( [start], stop[, step] ) \n",
    "#start - início da sequência\n",
    "#stop - último elemento da sequência. O stop possui o intervalo aberto, isto é, o número definido não estará contido na sequência numérica.\n",
    "#step - intervalo entre os elementos\n",
    "for i in range (1,50,2):\n",
    "    print(i)\n"
   ]
  },
  {
   "cell_type": "markdown",
   "metadata": {},
   "source": [
    "# 10 - Faça um programa que receba dois números inteiros e gere os números inteiros que estão no intervalo compreendido por eles.\n"
   ]
  },
  {
   "cell_type": "code",
   "execution_count": 40,
   "metadata": {},
   "outputs": [
    {
     "name": "stdout",
     "output_type": "stream",
     "text": [
      "Digite o primeiro número: 1\n",
      "Digite o segundo número: 30\n",
      "2 3 4 5 6 7 8 9 10 11 12 13 14 15 16 17 18 19 20 21 22 23 24 25 26 27 28 29 "
     ]
    }
   ],
   "source": [
    "#Lendo os números\n",
    "num1 = int(input(\"Digite o primeiro número: \"))\n",
    "num2 = int(input(\"Digite o segundo número: \"))\n",
    "\n",
    "#Imprimindo os números\n",
    "for i in range(num1+1, num2):\n",
    "    print(i, end=\" \")"
   ]
  },
  {
   "cell_type": "markdown",
   "metadata": {},
   "source": [
    "# 11- Altere o programa anterior para mostrar no final a soma dos números.\n"
   ]
  },
  {
   "cell_type": "code",
   "execution_count": 49,
   "metadata": {},
   "outputs": [
    {
     "name": "stdout",
     "output_type": "stream",
     "text": [
      "Digite o primeiro número: 1\n",
      "Digite o segundo número: 5\n",
      "2 3 4 \n",
      "A soma dos números é 9\n"
     ]
    }
   ],
   "source": [
    "#Lendo os números\n",
    "num1 = int(input(\"Digite o primeiro número: \"))\n",
    "num2 = int(input(\"Digite o segundo número: \"))\n",
    "\n",
    "#Inicializando a soma. É necessário fazer isso para zerar a soma\n",
    "#Duvida? Comente a linha abaixo e rode o programa mais de uma vez\n",
    "soma=0\n",
    "\n",
    "#Imprimindo os números\n",
    "for i in range(num1+1, num2):\n",
    "    print(i, end=\" \")\n",
    "    soma +=i\n",
    "\n",
    "#Imprimindo a soma dos números\n",
    "print(\"\\nA soma dos números é {}\".format(soma))"
   ]
  },
  {
   "cell_type": "markdown",
   "metadata": {},
   "source": [
    "# 12 - Desenvolva um gerador de tabuada, capaz de gerar a tabuada de qualquer número inteiro entre 1 a 10. O usuário deve informar de qual numero ele deseja ver a tabuada. A saída deve ser conforme o exemplo abaixo:\n",
    "## Tabuada de 5:\n",
    "## 5 X 1 = 5\n",
    "## 5 X 2 = 10\n",
    "## ...\n",
    "## 5 X 10 = 50"
   ]
  },
  {
   "cell_type": "code",
   "execution_count": 14,
   "metadata": {},
   "outputs": [
    {
     "name": "stdout",
     "output_type": "stream",
     "text": [
      "Bem vindo ao gerador de tabuada. Digite um número de zero a 10: 40\n",
      "Bem vindo ao gerador de tabuada. Digite um número de zero a 10: 12\n",
      "Bem vindo ao gerador de tabuada. Digite um número de zero a 10: 7\n",
      "\n",
      "Tabuada de 7\n",
      "7 x 1  =   7 \n",
      "7 x 2  =  14 \n",
      "7 x 3  =  21 \n",
      "7 x 4  =  28       \n",
      "7 x 5  =  35 \n",
      "7 x 6  =  42 \n",
      "7 x 7  =  49 \n",
      "7 x 8  =  56       \n",
      "7 x 9  =  63 \n",
      "7 x 10 =  70\n"
     ]
    }
   ],
   "source": [
    "num = int(input(\"Bem vindo ao gerador de tabuada. Digite um número de zero a 10: \"))\n",
    "\n",
    "while num <=0 or num >10:\n",
    "    num = int(input(\"Bem vindo ao gerador de tabuada. Digite um número de zero a 10: \"))\n",
    "\n",
    "#Aqui foi utilizado a \\ para quebrar a linha e uma sintaxe para formatação de números no .format()\n",
    "print(\"\\nTabuada de {}\".format(num))\n",
    "print(\"{0} x 1  = {1:>3} \\n{0} x 2  = {2:>3} \\n{0} x 3  = {3:>3} \\n{0} x 4  = {4:>3}  \\\n",
    "     \\n{0} x 5  = {5:>3} \\n{0} x 6  = {6:>3} \\n{0} x 7  = {7:>3} \\n{0} x 8  = {8:>3}  \\\n",
    "     \\n{0} x 9  = {9:>3} \\n{0} x 10 = {10:>3}\".format(num,num*1,num*2,num*3,num*4,num*5,num*6,num*7,num*8,num*9,num*10))    \n",
    "           "
   ]
  },
  {
   "cell_type": "markdown",
   "metadata": {},
   "source": [
    "# 13 - Faça um programa que peça dois números, base e expoente, calcule e mostre o primeiro número elevado ao segundo número. Não utilize a função de potência da linguagem.\n"
   ]
  },
  {
   "cell_type": "code",
   "execution_count": 26,
   "metadata": {},
   "outputs": [
    {
     "name": "stdout",
     "output_type": "stream",
     "text": [
      "Digite a base: -2\n",
      "Digite o expoente: 2\n",
      "\n",
      "Base -2 elevada a 2 = 4\n"
     ]
    }
   ],
   "source": [
    "#Lendo os números\n",
    "base = int(input(\"Digite a base: \"))\n",
    "expoente = int(input(\"Digite o expoente: \"))\n",
    "\n",
    "#Validando expoente\n",
    "while expoente <0:\n",
    "    expoente = int(input(\"Digite o expoente: \"))\n",
    "\n",
    "#Calculos\n",
    "potencia = 1\n",
    "for i in range(1,expoente+1):\n",
    "    potencia *= base\n",
    "\n",
    "#Resposta\n",
    "if expoente == 0:\n",
    "    print(\"\\nBase {} elevada a 0 = 1\".format(base))\n",
    "else:\n",
    "    print(\"\\nBase {0} elevada a {1} = {2}\".format(base,expoente,potencia))"
   ]
  },
  {
   "cell_type": "markdown",
   "metadata": {},
   "source": [
    "# 14 - Faça um programa que peça 10 números inteiros, calcule e mostre a quantidade de números pares e a quantidade de números impares.\n"
   ]
  },
  {
   "cell_type": "code",
   "execution_count": 42,
   "metadata": {},
   "outputs": [
    {
     "name": "stdout",
     "output_type": "stream",
     "text": [
      "Digite o número da posição  1: 0\n",
      "Digite o número da posição  2: 1\n",
      "Digite o número da posição  3: 2\n",
      "Digite o número da posição  4: 3\n",
      "Digite o número da posição  5: 4\n",
      "Digite o número da posição  6: 5\n",
      "Digite o número da posição  7: 6\n",
      "Digite o número da posição  8: 7\n",
      "Digite o número da posição  9: 8\n",
      "Digite o número da posição 10: 9\n",
      "\n",
      "Quantidade de números pares digitados:    5\n",
      "Quantidade de números ímpares digitados:  5\n"
     ]
    }
   ],
   "source": [
    "\"\"\"Inicializando valores com atribuição múltipla de variáveis. \n",
    "É necessário fazer isso para zerar a soma\n",
    "Duvida? Comente a linha abaixo e rode o programa mais de uma vez\"\"\"\n",
    "par,impar = 0,0\n",
    "\n",
    "#Calculos\n",
    "for i in range (10):\n",
    "    num = int(input(\"Digite o número da posição {0:2}: \".format(i+1)))\n",
    "    if num%2 == 0:\n",
    "        par +=1\n",
    "    else:\n",
    "        impar +=1\n",
    "\n",
    "#Resposta\n",
    "print(\"\\nQuantidade de números pares digitados:   {0:2}\\nQuantidade de números ímpares digitados: {1:2}\".format(par,impar))"
   ]
  },
  {
   "cell_type": "markdown",
   "metadata": {},
   "source": [
    "# 15 - A série de Fibonacci é formada pela seqüência 1,1,2,3,5,8,13,21,34,55,... Faça um programa capaz de gerar a série até o n−ésimo termo.\n"
   ]
  },
  {
   "cell_type": "code",
   "execution_count": 46,
   "metadata": {},
   "outputs": [
    {
     "name": "stdout",
     "output_type": "stream",
     "text": [
      "Digite a quantidade termos da série de Fibonacci que serão exibidos: 10\n",
      "0 1 1 2 3 5 8 13 21 34 "
     ]
    }
   ],
   "source": [
    "#lendo o tamanho da série\n",
    "num = int(input(\"Digite a quantidade termos da série de Fibonacci que serão exibidos: \"))\n",
    "\n",
    "#Inicializando valores com atribuição múltipla de variáveis.\n",
    "a, b = 0, 1\n",
    "\n",
    "#Imprimindo resultado\n",
    "for i in range(0,num):\n",
    "    print(a, end=\" \")\n",
    "    a, b = b, a+b\n"
   ]
  },
  {
   "cell_type": "markdown",
   "metadata": {},
   "source": [
    "# 16 - A série de Fibonacci é formada pela seqüência 0,1,1,2,3,5,8,13,21,34,55,... Faça um programa que gere a série até que o valor seja maior que 500.\n"
   ]
  },
  {
   "cell_type": "code",
   "execution_count": 52,
   "metadata": {},
   "outputs": [
    {
     "name": "stdout",
     "output_type": "stream",
     "text": [
      "0 1 1 2 3 5 8 13 21 34 55 89 144 233 377 "
     ]
    }
   ],
   "source": [
    "#Inicializando valores com atribuição múltipla de variáveis.\n",
    "a, b = 0, 1\n",
    "\n",
    "#Imprimindo resultado\n",
    "while a<500:\n",
    "    print(a, end=\" \")\n",
    "    a, b = b, a+b"
   ]
  },
  {
   "cell_type": "markdown",
   "metadata": {},
   "source": [
    "# 17 - Faça um programa que calcule o fatorial de um número inteiro fornecido pelo usuário. Ex.: 5!=5.4.3.2.1=120\n"
   ]
  },
  {
   "cell_type": "code",
   "execution_count": 20,
   "metadata": {},
   "outputs": [
    {
     "name": "stdout",
     "output_type": "stream",
     "text": [
      "Digite um número para cálculo do fatorial: 6\n",
      "\n",
      "O fatorial de 6 é 720\n"
     ]
    }
   ],
   "source": [
    "#lendo o número\n",
    "num = int(input(\"Digite um número para cálculo do fatorial: \"))\n",
    "\n",
    "fatorial=1\n",
    "\n",
    "#Validando numero\n",
    "while num<0:\n",
    "    print(\"Só existe fatorial de número inteiro não negativo\")\n",
    "    num = int(input(\"Digite um número para cálculo do fatorial: \"))    \n",
    "\n",
    "#Cálculo do fatorial\n",
    "for i in range(1,num+1):\n",
    "    fatorial *= i\n",
    "\n",
    "#Resultado\n",
    "print(\"\\nO fatorial de {} é {}\".format(num,fatorial))"
   ]
  },
  {
   "cell_type": "markdown",
   "metadata": {},
   "source": [
    "# 18 - Faça um programa que, dado um conjunto de N números, determine o menor valor, o maior valor e a soma dos valores.\n"
   ]
  },
  {
   "cell_type": "code",
   "execution_count": 2,
   "metadata": {},
   "outputs": [
    {
     "name": "stdout",
     "output_type": "stream",
     "text": [
      "Digite a quantidade de números: 5\n",
      "Digite o número da posição 1: 5\n",
      "Digite o número da posição 2: 6\n",
      "Digite o número da posição 3: 7\n",
      "Digite o número da posição 4: 8\n",
      "Digite o número da posição 5: 10\n",
      "\n",
      "A soma dos números é 31.\n",
      "O maior número é 10.\n",
      "O menor número é 5.\n"
     ]
    }
   ],
   "source": [
    "#Lendo números\n",
    "quantidade=0\n",
    "\n",
    "#Validando quantidade\n",
    "while quantidade<=0:\n",
    "    quantidade = int(input(\"Digite a quantidade de números: \"))\n",
    "    if quantidade<=0:\n",
    "        print(\"Quantidade deve ser inteira e maior que zero!\")\n",
    "        \n",
    "\n",
    "#Inicializando números\n",
    "soma = 0\n",
    "num = int(input(\"Digite o número da posição 1: \"))\n",
    "maior = num\n",
    "menor = num\n",
    "\n",
    "#Encontrando o maior, o menor e a soma\n",
    "for i in range(quantidade-1):\n",
    "    \n",
    "    num = int(input(\"Digite o número da posição{0:2}: \".format(i+2)))\n",
    "    \n",
    "    if num > maior:\n",
    "        maior = num\n",
    "\n",
    "    if num < menor:\n",
    "        menor = num\n",
    "\n",
    "    soma += num\n",
    "\n",
    "\n",
    "#Imprimindo a soma dos números\n",
    "print(\"\\nA soma dos números é {}.\\nO maior número é {}.\\nO menor número é {}.\".format(soma,maior,menor))"
   ]
  },
  {
   "cell_type": "markdown",
   "metadata": {},
   "source": [
    "# 19 - Altere o programa anterior para que ele aceite apenas números entre 0 e 1000.\n",
    "\n"
   ]
  },
  {
   "cell_type": "code",
   "execution_count": 4,
   "metadata": {},
   "outputs": [
    {
     "name": "stdout",
     "output_type": "stream",
     "text": [
      "Digite a quantidade de números: 4\n",
      "Digite o número da posição  1: 10000\n",
      "Os números devem estar entre 0 e 1000!\n",
      "Digite o número da posição  1: 1\n",
      "Digite o número da posição  2: 2\n",
      "Digite o número da posição  3: 3\n",
      "Digite o número da posição  4: 4\n",
      "\n",
      "A soma dos números é 10.\n",
      "O maior número é 4.\n",
      "O menor número é 1.\n"
     ]
    }
   ],
   "source": [
    "#Lendo números\n",
    "quantidade=0\n",
    "\n",
    "#Validando quantidade\n",
    "while quantidade<=0:\n",
    "    quantidade = int(input(\"Digite a quantidade de números: \"))\n",
    "    if quantidade<=0:\n",
    "        print(\"Quantidade deve ser inteira e maior que zero!\")\n",
    "        \n",
    "#Inicializando números\n",
    "soma = 0\n",
    "maior = -1\n",
    "menor = 1001\n",
    "      \n",
    "for i in range(quantidade):\n",
    "    \n",
    "    #Testando se número está entre 0 e 1000\n",
    "    num = 1001\n",
    "    while num > 1000 or num<0:\n",
    "        num = int(input(\"Digite o número da posição {0:2}: \".format(i+1)))\n",
    "        if (num > 1000 or num<0):\n",
    "            print ('Os números devem estar entre 0 e 1000!')\n",
    "    \n",
    "    #Encontrando o maior, o menor e a soma\n",
    "    if num > maior:\n",
    "        maior = num\n",
    "    if num < menor:\n",
    "        menor = num\n",
    "\n",
    "    soma += num\n",
    "\n",
    "#Imprimindo a soma dos números\n",
    "print(\"\\nA soma dos números é {}.\\nO maior número é {}.\\nO menor número é {}.\".format(soma,maior,menor))"
   ]
  },
  {
   "cell_type": "markdown",
   "metadata": {},
   "source": [
    "# 20 - Altere o programa de cálculo do fatorial, permitindo ao usuário calcular o fatorial várias vezes e limitando o fatorial a números inteiros positivos e menores que 16.\n"
   ]
  },
  {
   "cell_type": "code",
   "execution_count": 1,
   "metadata": {},
   "outputs": [
    {
     "name": "stdout",
     "output_type": "stream",
     "text": [
      "\n",
      "Digite um número para cálculo do fatorial entre 1 e 16. \n",
      "Digite qualquer outro número para encerrar: 5\n",
      "\n",
      "O fatorial de 5 é 120\n",
      "\n",
      "Digite um número para cálculo do fatorial entre 1 e 16. \n",
      "Digite qualquer outro número para encerrar: 9\n",
      "\n",
      "O fatorial de 9 é 362880\n",
      "\n",
      "Digite um número para cálculo do fatorial entre 1 e 16. \n",
      "Digite qualquer outro número para encerrar: 0\n",
      "\n",
      "Fim do programa\n"
     ]
    }
   ],
   "source": [
    "while True:\n",
    "    #lendo o número\n",
    "    num = int(input(\"\\nDigite um número para cálculo do fatorial entre 1 e 16. \\nDigite qualquer outro número para encerrar: \"))\n",
    "    \n",
    "    #Validando entrada\n",
    "    if num>0 and num<17:\n",
    "        fatorial=1\n",
    "        for i in range(1,num+1):\n",
    "            fatorial *= i\n",
    "        print(\"\\nO fatorial de {} é {}\".format(num,fatorial))\n",
    "    \n",
    "    #Saindo do programa\n",
    "    else:\n",
    "        print(\"\\nFim do programa\")\n",
    "        break\n"
   ]
  },
  {
   "cell_type": "markdown",
   "metadata": {},
   "source": [
    "# 21 - Faça um programa que peça um número inteiro e determine se ele é ou não um número primo. Um número primo é aquele que é divisível somente por ele mesmo e por 1.\n"
   ]
  },
  {
   "cell_type": "code",
   "execution_count": 38,
   "metadata": {},
   "outputs": [
    {
     "name": "stdout",
     "output_type": "stream",
     "text": [
      "Digite um número maior que zero: 10\n",
      "\n",
      "O número de 10 não é primo.\n"
     ]
    }
   ],
   "source": [
    "num = int(input(\"Digite um número maior que zero: \"))\n",
    "\n",
    "while True:\n",
    "    if num <=0:\n",
    "        num = int(input(\"Digite um número maior que zero: \"))\n",
    "    else:\n",
    "        break\n",
    "        \n",
    "primo=True\n",
    "if num==1:\n",
    "    print(\"\\nO número 1 é primo\")\n",
    "elif num==2:\n",
    "    print(\"\\nO número 2 é primo\")\n",
    "else:\n",
    "    for i in range(2,int(num/2)):\n",
    "        if num%i==0:\n",
    "            primo=False\n",
    "    if primo:\n",
    "        print(\"\\nO número de {} é primo.\".format(num))\n",
    "    else:\n",
    "        print(\"\\nO número de {} não é primo.\".format(num))"
   ]
  },
  {
   "cell_type": "markdown",
   "metadata": {},
   "source": [
    "# 22 - Altere o programa de cálculo dos números primos, informando, caso o número não seja primo, por quais número ele é divisível.\n"
   ]
  },
  {
   "cell_type": "code",
   "execution_count": 60,
   "metadata": {},
   "outputs": [
    {
     "name": "stdout",
     "output_type": "stream",
     "text": [
      "Digite um número maior que zero: 100\n",
      "\n",
      "O número de 100 não é primo e tem 9 divisores.\n",
      "Os divisores são: 1 2 4 5 10 20 25 50 100 "
     ]
    }
   ],
   "source": [
    "#A variável divisores foi inciada em 2 porque o numero 1 e o próprio número são divisores de todos os numeros\n",
    "divisores = 2\n",
    "\n",
    "num = int(input(\"Digite um número maior que zero: \"))\n",
    "\n",
    "#Foi criada uma lista para armazenar os divisores\n",
    "#A lista foi inciada com 2 números porque o numero 1 e o próprio número são divisores de todos os numeros\n",
    "lista_div = [1,num]\n",
    "\n",
    "while True:\n",
    "    if num <=0:\n",
    "        num = int(input(\"Digite um número maior que zero: \"))\n",
    "    else:\n",
    "        break\n",
    "        \n",
    "primo=True\n",
    "if num==1:\n",
    "    print(\"\\nO número 1 é primo\")\n",
    "elif num==2:\n",
    "    print(\"\\nO número 2 é primo\")\n",
    "else:\n",
    "    for i in range(2,int(num)):\n",
    "        if num%i==0:\n",
    "            primo=False\n",
    "        if num%i==0:\n",
    "            divisores += 1\n",
    "            lista_div.append(i)\n",
    "    \n",
    "    #ordenando a lista \n",
    "    lista_div.sort()\n",
    "    \n",
    "    if primo:\n",
    "        print(\"\\nO número de {} é primo.\".format(num))\n",
    "    else:\n",
    "        print(\"\\nO número de {} não é primo e tem {} divisores.\".format(num,divisores))\n",
    "        print(\"Os divisores são:\", end=\" \")\n",
    "        for i in lista_div:\n",
    "            print(i, end=\" \")\n"
   ]
  },
  {
   "cell_type": "markdown",
   "metadata": {},
   "source": [
    "# 23 - Faça um programa que mostre todos os primos entre 1 e N sendo N um número inteiro fornecido pelo usuário. O programa deverá mostrar também o número de divisões que ele executou para encontrar os números primos. Serão avaliados o funcionamento, o estilo e o número de testes (divisões) executados.\n"
   ]
  },
  {
   "cell_type": "code",
   "execution_count": 81,
   "metadata": {},
   "outputs": [
    {
     "name": "stdout",
     "output_type": "stream",
     "text": [
      "Digite um número maior que zero: 200\n",
      "\n",
      "Primos: 2 3 5 7 11 13 17 19 23 29 31 37 41 43 47 53 59 61 67 71 73 79 83 89 97 101 103 107 109 113 127 131 137 139 149 151 157 163 167 173 179 181 191 193 197 199 \n",
      "\n",
      "\n",
      "Quantidade de números primos encontrados: 46 \n",
      "Foram executados 1127 testes (divisões).\n"
     ]
    }
   ],
   "source": [
    "ops = 1\n",
    "p = 1\n",
    "\n",
    "num = int(input(\"Digite um número maior que zero: \"))\n",
    "\n",
    "while True:\n",
    "    if num <=0:\n",
    "        num = int(input(\"Digite um número maior que zero: \"))\n",
    "    else:\n",
    "        break\n",
    "\n",
    "print(\"\\nPrimos: 2\",end=\" \")\n",
    "\n",
    "primos = [2,]\n",
    "for numero in range(3,num+1):\n",
    "    for i in primos:\n",
    "        if numero % i == 0: \n",
    "            break\n",
    "        ops += 1\n",
    "    else:\n",
    "        primos.append(numero)\n",
    "        print (numero, end=\" \")\n",
    "        p += 1\n",
    "\n",
    "print (\"\\n\")\n",
    "print (\"\\nQuantidade de números primos encontrados: {} \".format(p))\n",
    "print (\"Foram executados {} testes (divisões).\".format(ops))\n"
   ]
  },
  {
   "cell_type": "markdown",
   "metadata": {},
   "source": [
    "# 24 - Faça um programa que calcule o mostre a média aritmética de N notas.\n"
   ]
  },
  {
   "cell_type": "code",
   "execution_count": 3,
   "metadata": {},
   "outputs": [
    {
     "name": "stdout",
     "output_type": "stream",
     "text": [
      "Digite a quantidade de números: 4\n",
      "Digite o número da posição  1: 1\n",
      "Digite o número da posição  2: 2\n",
      "Digite o número da posição  3: 3\n",
      "Digite o número da posição  4: 4\n",
      "\n",
      "A média dos números é 2.5\n"
     ]
    }
   ],
   "source": [
    "#Lendo números\n",
    "quantidade=0\n",
    "\n",
    "#Validando quantidade\n",
    "while quantidade<=0:\n",
    "    quantidade = int(input(\"Digite a quantidade de números: \"))\n",
    "    if quantidade<=0:\n",
    "        print(\"Quantidade deve ser inteira e maior que zero!\")\n",
    "        \n",
    "#Encontrando a soma\n",
    "soma = 0\n",
    "for i in range(quantidade):\n",
    "    \n",
    "    num = int(input(\"Digite o número da posição {0:2}: \".format(i+1)))\n",
    "    soma += num\n",
    "\n",
    "print(\"\\nA média dos números é {}\".format(soma/quantidade))"
   ]
  },
  {
   "cell_type": "markdown",
   "metadata": {},
   "source": [
    "# 25 - Faça um programa que peça para n pessoas a sua idade, ao final o programa devera verificar se a média de idade da turma varia entre 0 e 25,26 e 60 e maior que 60; e então, dizer se a turma é jovem, adulta ou idosa, conforme a média calculada.\n"
   ]
  },
  {
   "cell_type": "code",
   "execution_count": 6,
   "metadata": {},
   "outputs": [
    {
     "name": "stdout",
     "output_type": "stream",
     "text": [
      "Digite a quantidade de pessoas: 2\n",
      "Digite o idade da pessoa  1: 50\n",
      "Digite o idade da pessoa  2: 50\n",
      "\n",
      "A média das idade é 50.0. A turma é adulta.\n"
     ]
    }
   ],
   "source": [
    "#Lendo números\n",
    "quantidade=0\n",
    "\n",
    "#Validando quantidade\n",
    "while quantidade<=0:\n",
    "    quantidade = int(input(\"Digite a quantidade de pessoas: \"))\n",
    "    if quantidade<=0:\n",
    "        print(\"Quantidade deve ser inteira e maior que zero!\")\n",
    "        \n",
    "#Encontrando a soma\n",
    "soma = 0\n",
    "for i in range(quantidade):\n",
    "    num = int(input(\"Digite o idade da pessoa {0:2}: \".format(i+1)))\n",
    "    soma += num\n",
    "\n",
    "#Verificando a média e o tipo de turma\n",
    "if soma/quantidade <=25:\n",
    "    print(\"\\nA média das idade é {}. A turma é jovem.\".format(soma/quantidade))\n",
    "elif soma/quantidade <=60:\n",
    "    print(\"\\nA média das idade é {}. A turma é adulta.\".format(soma/quantidade))\n",
    "else:\n",
    "    print(\"\\nA média das idade é {}. A turma é idosa.\".format(soma/quantidade))\n"
   ]
  },
  {
   "cell_type": "markdown",
   "metadata": {},
   "source": [
    "# 26 - Numa eleição existem três candidatos. Faça um programa que peça o número total de eleitores. Peça para cada eleitor votar e ao final mostrar o número de votos de cada candidato.\n"
   ]
  },
  {
   "cell_type": "code",
   "execution_count": 8,
   "metadata": {},
   "outputs": [
    {
     "name": "stdout",
     "output_type": "stream",
     "text": [
      "Digite a quantidade de eleitores: 3\n",
      "\n",
      "Os candidatos são: \n",
      "Candidato 1: escolha X\n",
      "Candidato 2: escolha Y\n",
      "Candidato 3: escolha Z\n",
      "Digite o voto do eleitor 1: e\n",
      "\n",
      "Você escolheu um candidato inexistente. Tente novamente!\n",
      "\n",
      "Os candidatos são: \n",
      "Candidato 1: escolha X\n",
      "Candidato 2: escolha Y\n",
      "Candidato 3: escolha Z\n",
      "Digite o voto do eleitor 1: X\n",
      "\n",
      "Os candidatos são: \n",
      "Candidato 1: escolha X\n",
      "Candidato 2: escolha Y\n",
      "Candidato 3: escolha Z\n",
      "Digite o voto do eleitor 2: Y\n",
      "\n",
      "Os candidatos são: \n",
      "Candidato 1: escolha X\n",
      "Candidato 2: escolha Y\n",
      "Candidato 3: escolha Z\n",
      "Digite o voto do eleitor 3: z\n",
      "\n",
      "Resultado da votação\n",
      "Número de votos do candidato X: 1\n",
      "Número de votos do candidato Y: 1\n",
      "Número de votos do candidato Z: 1\n"
     ]
    }
   ],
   "source": [
    "#Lendo numero de eleitores e validando \n",
    "eleitores=0\n",
    "while eleitores<=0:\n",
    "    eleitores = int(input(\"Digite a quantidade de eleitores: \"))\n",
    "    if eleitores<=0:\n",
    "        print(\"O Número de eleitores deve ser maior que zero!\")\n",
    "\n",
    "#Votando\n",
    "votoX, votoY, votoZ = 0,0,0\n",
    "for i in range(eleitores):\n",
    "    \n",
    "    #Lendo o voto\n",
    "    print(\"\\nOs candidatos são: \\nCandidato 1: escolha X\\nCandidato 2: escolha Y\" \\\n",
    "         \"\\nCandidato 3: escolha Z\")\n",
    "    voto = input(\"Digite o voto do eleitor {}: \".format(i+1))\n",
    "    \n",
    "    #Validando a opção\n",
    "    while (voto.lower()!=\"x\" and voto.lower()!=\"y\" and voto.lower()!=\"z\"):\n",
    "        print(\"\\nVocê escolheu um candidato inexistente. Tente novamente!\")\n",
    "        print(\"\\nOs candidatos são: \\nCandidato 1: escolha X\\nCandidato 2: escolha Y\" \\\n",
    "                                                           \"\\nCandidato 3: escolha Z\")\n",
    "        voto = input(\"Digite o voto do eleitor {}: \".format(i+1))\n",
    "   \n",
    "    #Contabilizando votos\n",
    "    if voto.lower()==\"x\":\n",
    "        votoX +=1\n",
    "    elif voto.lower()==\"y\":\n",
    "        votoY +=1\n",
    "    else:\n",
    "        votoZ +=1\n",
    "\n",
    "#Imprimindo apuração\n",
    "print(\"\\nResultado da votação\")\n",
    "print(\"Número de votos do candidato X: {}\".format(votoX))\n",
    "print(\"Número de votos do candidato Y: {}\".format(votoY))\n",
    "print(\"Número de votos do candidato Z: {}\".format(votoZ))\n",
    " "
   ]
  },
  {
   "cell_type": "markdown",
   "metadata": {},
   "source": [
    "# 27 - Faça um programa que calcule o número médio de alunos por turma. Para isto, peça a quantidade de turmas e a quantidade de alunos para cada turma. As turmas não podem ter mais de 40 alunos.\n",
    "\n",
    "\n"
   ]
  },
  {
   "cell_type": "code",
   "execution_count": 6,
   "metadata": {},
   "outputs": [
    {
     "name": "stdout",
     "output_type": "stream",
     "text": [
      "Informe o número de turmas: 4\n",
      "Informe o numero de alunos da turma  1: 50\n",
      "O numero de alunos por turma deve ser maior que zero e menor que 41\n",
      "Informe o numero de alunos da turma  1: 40\n",
      "Informe o numero de alunos da turma  2: 30\n",
      "Informe o numero de alunos da turma  3: 20\n",
      "Informe o numero de alunos da turma  4: 10\n",
      "\n",
      "A média de alunos por turma é de 25 alunos\n"
     ]
    }
   ],
   "source": [
    "#Lendo o número de turmas\n",
    "turmas = int(input(\"Informe o número de turmas: \"))\n",
    "while turmas<=0:\n",
    "    print(\"O número de turmas deve ser maior que zero\")   \n",
    "    turmas = int(input(\"Informe o número de turmas: \"))\n",
    "\n",
    "#Lendo o numero de alunos por turma\n",
    "soma_alunos = 0\n",
    "for i in range(turmas):\n",
    "    alunos = int(input(\"Informe o numero de alunos da turma {0:2}: \".format(i+1)))\n",
    "    #Validando o numero de alunos por turma\n",
    "    while alunos <0 or alunos>41:\n",
    "        print(\"O numero de alunos por turma deve ser maior que zero e menor que 41\")\n",
    "        alunos = int(input(\"Informe o numero de alunos da turma {0:2}: \".format(i+1)))\n",
    "        continue\n",
    "    \n",
    "    #Somando a quantidade de alunos\n",
    "    soma_alunos += alunos\n",
    "\n",
    "#Publicaando resultado\n",
    "print(\"\\nA média de alunos por turma é de {} alunos\".format(int(soma_alunos/turmas)))\n"
   ]
  },
  {
   "cell_type": "markdown",
   "metadata": {},
   "source": [
    "# 28 - Faça um programa que calcule o valor total investido por um colecionador em sua coleção de CDs e o valor médio gasto em cada um deles. O usuário deverá informar a quantidade de CDs e o valor para em cada um.\n"
   ]
  },
  {
   "cell_type": "code",
   "execution_count": 10,
   "metadata": {},
   "outputs": [
    {
     "name": "stdout",
     "output_type": "stream",
     "text": [
      "Informe o número de CDs: 4\n",
      "Informe o preço do CD  1: 10\n",
      "Informe o preço do CD  2: 15\n",
      "Informe o preço do CD  3: 20\n",
      "Informe o preço do CD  4: 30\n",
      "\n",
      "Sua coleção tem 4 CDs\n",
      "Você gastou R$ 75.00 para adquirir toda a coleção\n",
      "O valor médio gasto por CD foi de R$ 18.00\n"
     ]
    }
   ],
   "source": [
    "#Lendo o número de cds\n",
    "cds = int(input(\"Informe o número de CDs: \"))\n",
    "while cds<=0:\n",
    "    print(\"O número de CDs deve ser maior que zero\")   \n",
    "    cds = int(input(\"Informe o número de CDs: \"))\n",
    "\n",
    "#Lendo o numero de CDs\n",
    "soma = 0\n",
    "for i in range(cds):\n",
    "    preco = int(input(\"Informe o preço do CD {0:2}: \".format(i+1)))\n",
    "    #Validando o preço dos CDs\n",
    "    while preco <0:\n",
    "        print(\"O preço do CD deve ser maior que zero\")\n",
    "        preco = int(input(\"Informe o preço do CD {0:2}: \".format(i+1)))\n",
    "        continue   \n",
    "    soma += preco\n",
    "\n",
    "#Publicaando resultado\n",
    "print(\"\\nSua coleção tem {} CDs\".format(cds)) \n",
    "print(\"Você gastou R$ {:5.2f} para adquirir toda a coleção\".format(soma)) \n",
    "print(\"O valor médio gasto por CD foi de R$ {:5.2f}\".format(int(soma/cds)))        \n"
   ]
  },
  {
   "cell_type": "markdown",
   "metadata": {},
   "source": [
    "# 29 - O Sr. Manoel Joaquim possui uma grande loja de artigos de 1,99, com cerca de 10 caixas. Para agilizar o cálculo de quanto cada cliente deve pagar ele desenvolveu um tabela que contém o número de itens que o cliente comprou e ao lado o valor da conta. Desta forma a atendente do caixa precisa apenas contar quantos itens o cliente está levando e olhar na tabela de preços. Você foi contratado para desenvolver o programa que monta esta tabela de preços, que conterá os preços de 1 até 50 produtos, conforme o exemplo abaixo:\n",
    "### Lojas Quase Dois - Tabela de preços\n",
    "### 1 - 1.99\n",
    "### 2 - 3.98\n",
    "### ...\n",
    "### 50 - 99.50"
   ]
  },
  {
   "cell_type": "code",
   "execution_count": 19,
   "metadata": {},
   "outputs": [
    {
     "name": "stdout",
     "output_type": "stream",
     "text": [
      "****** Lojas Quase Dois - Tabela de preços *******\n",
      " 1 - R$  1.99 \n",
      " 2 - R$  3.98 \n",
      " 3 - R$  5.97 \n",
      " 4 - R$  7.96 \n",
      " 5 - R$  9.95 \n",
      " 6 - R$ 11.94 \n",
      " 7 - R$ 13.93 \n",
      " 8 - R$ 15.92 \n",
      " 9 - R$ 17.91 \n",
      "10 - R$ 19.90 \n",
      "11 - R$ 21.89 \n",
      "12 - R$ 23.88 \n",
      "13 - R$ 25.87 \n",
      "14 - R$ 27.86 \n",
      "15 - R$ 29.85 \n",
      "16 - R$ 31.84 \n",
      "17 - R$ 33.83 \n",
      "18 - R$ 35.82 \n",
      "19 - R$ 37.81 \n",
      "20 - R$ 39.80 \n",
      "21 - R$ 41.79 \n",
      "22 - R$ 43.78 \n",
      "23 - R$ 45.77 \n",
      "24 - R$ 47.76 \n",
      "25 - R$ 49.75 \n",
      "26 - R$ 51.74 \n",
      "27 - R$ 53.73 \n",
      "28 - R$ 55.72 \n",
      "29 - R$ 57.71 \n",
      "30 - R$ 59.70 \n",
      "31 - R$ 61.69 \n",
      "32 - R$ 63.68 \n",
      "33 - R$ 65.67 \n",
      "34 - R$ 67.66 \n",
      "35 - R$ 69.65 \n",
      "36 - R$ 71.64 \n",
      "37 - R$ 73.63 \n",
      "38 - R$ 75.62 \n",
      "39 - R$ 77.61 \n",
      "40 - R$ 79.60 \n",
      "41 - R$ 81.59 \n",
      "42 - R$ 83.58 \n",
      "43 - R$ 85.57 \n",
      "44 - R$ 87.56 \n",
      "45 - R$ 89.55 \n",
      "46 - R$ 91.54 \n",
      "47 - R$ 93.53 \n",
      "48 - R$ 95.52 \n",
      "49 - R$ 97.51 \n",
      "50 - R$ 99.50 \n"
     ]
    }
   ],
   "source": [
    "print(\" Lojas Quase Dois - Tabela de preços \".center(50,\"*\"))\n",
    "for i in range (50):\n",
    "    print(\"{0:2} - R$ {1:>5.2f} \".format(i+1,(i+1)*1.99))  "
   ]
  },
  {
   "cell_type": "markdown",
   "metadata": {},
   "source": [
    "# 30 - O Sr. Manoel Joaquim acaba de adquirir uma panificadora e pretende implantar a metodologia da tabelinha, que já é um sucesso na sua loja de 1,99. Você foi contratado para desenvolver o programa que monta a tabela de preços de pães, de 1 até 50 pães, a partir do preço do pão informado pelo usuário, conforme o exemplo abaixo:\n",
    "### Preço do pão: 0.18\n",
    "### Panificadora Pão de Ontem - Tabela de preços\n",
    "### 1 - 1.99\n",
    "### 2 - 3.98\n",
    "### ...\n",
    "### 50 - 99.50"
   ]
  },
  {
   "cell_type": "code",
   "execution_count": 22,
   "metadata": {},
   "outputs": [
    {
     "name": "stdout",
     "output_type": "stream",
     "text": [
      "Digite o preço do pão: 0.18\n",
      "\n",
      "Panificadora Pão de Ontem - Tabela de preços\n",
      " 1 - R$  0.18 \n",
      " 2 - R$  0.36 \n",
      " 3 - R$  0.54 \n",
      " 4 - R$  0.72 \n",
      " 5 - R$  0.90 \n",
      " 6 - R$  1.08 \n",
      " 7 - R$  1.26 \n",
      " 8 - R$  1.44 \n",
      " 9 - R$  1.62 \n",
      "10 - R$  1.80 \n",
      "11 - R$  1.98 \n",
      "12 - R$  2.16 \n",
      "13 - R$  2.34 \n",
      "14 - R$  2.52 \n",
      "15 - R$  2.70 \n",
      "16 - R$  2.88 \n",
      "17 - R$  3.06 \n",
      "18 - R$  3.24 \n",
      "19 - R$  3.42 \n",
      "20 - R$  3.60 \n",
      "21 - R$  3.78 \n",
      "22 - R$  3.96 \n",
      "23 - R$  4.14 \n",
      "24 - R$  4.32 \n",
      "25 - R$  4.50 \n",
      "26 - R$  4.68 \n",
      "27 - R$  4.86 \n",
      "28 - R$  5.04 \n",
      "29 - R$  5.22 \n",
      "30 - R$  5.40 \n",
      "31 - R$  5.58 \n",
      "32 - R$  5.76 \n",
      "33 - R$  5.94 \n",
      "34 - R$  6.12 \n",
      "35 - R$  6.30 \n",
      "36 - R$  6.48 \n",
      "37 - R$  6.66 \n",
      "38 - R$  6.84 \n",
      "39 - R$  7.02 \n",
      "40 - R$  7.20 \n",
      "41 - R$  7.38 \n",
      "42 - R$  7.56 \n",
      "43 - R$  7.74 \n",
      "44 - R$  7.92 \n",
      "45 - R$  8.10 \n",
      "46 - R$  8.28 \n",
      "47 - R$  8.46 \n",
      "48 - R$  8.64 \n",
      "49 - R$  8.82 \n",
      "50 - R$  9.00 \n"
     ]
    }
   ],
   "source": [
    "preco = float(input(\"Digite o preço do pão: \"))\n",
    "print(\"\\nPanificadora Pão de Ontem - Tabela de preços\")\n",
    "for i in range (50):\n",
    "    print(\"{0:2} - R$ {1:>5.2f} \".format(i+1,(i+1)*preco))  "
   ]
  },
  {
   "cell_type": "markdown",
   "metadata": {},
   "source": [
    "# 31 - O Sr. Manoel Joaquim expandiu seus negócios para além dos negócios de 1,99 e agora possui uma loja de conveniências. Faça um programa que implemente uma caixa registradora rudimentar. O programa deverá receber um número desconhecido de valores referentes aos preços das mercadorias. Um valor zero deve ser informado pelo operador para indicar o final da compra. O programa deve então mostrar o total da compra e perguntar o valor em dinheiro que o cliente forneceu, para então calcular e mostrar o valor do troco. Após esta operação, o programa deverá voltar ao ponto inicial, para registrar a próxima compra. A saída deve ser conforme o exemplo abaixo:\n",
    "### Lojas Tabajara \n",
    "### Produto 1: 2.20\n",
    "### Produto 2:  5.80\n",
    "### Produto 3:  0\n",
    "### Total:  9.00\n",
    "### Dinheiro:  20.00\n",
    "### Troco:  11.00\n",
    "### ..."
   ]
  },
  {
   "cell_type": "code",
   "execution_count": 16,
   "metadata": {},
   "outputs": [
    {
     "name": "stdout",
     "output_type": "stream",
     "text": [
      "*********** Loja Tabajara ************\n",
      "Produto 1 R$ 10.00\n",
      "Produto 2 R$ 10.00\n",
      "Produto 3 R$ 20.00\n",
      "Produto 4 R$ 0\n",
      "Total     R$ 40.00\n",
      "Dinheiro R$ 100.00\n",
      "Troco     R$ 60.00\n"
     ]
    }
   ],
   "source": [
    "produto_index = 1\n",
    "total = 0\n",
    "\n",
    "print(\" Loja Tabajara \".center(38,\"*\"))\n",
    "\n",
    "#Lendo os preços dos produtos\n",
    "while True:\n",
    "    preco = float(input(\"Produto {} R$ \".format(produto_index)))\n",
    "    if preco == 0:\n",
    "        break\n",
    "    else:\n",
    "        produto_index +=1\n",
    "        total +=preco\n",
    "\n",
    "#Imprimindo respostas\n",
    "#Aqui cabe uma observação: Várias validações poderiam ser feitas. Por exemplo:\n",
    "#Validar se o valor do dinheiro é maior que zero\n",
    "#Validar se o valor o dinheiro é maior que o da conta\n",
    "\n",
    "print(\"Total     R$ {0:5.2f}\".format(total))\n",
    "dinheiro = float(input(\"Dinheiro R$ \"))\n",
    "print(\"Troco     R$ {0:5.2f}\".format(dinheiro-total))\n",
    "\n",
    "    "
   ]
  },
  {
   "cell_type": "markdown",
   "metadata": {},
   "source": [
    "# 32 - Faça um programa que calcule o fatorial de um número inteiro fornecido pelo usuário. Ex.: 5!=5.4.3.2.1=120. A saída deve ser conforme o exemplo abaixo:\n",
    "### Fatorial de: 5\n",
    "### 5! =  5 . 4 . 3 . 2 . 1 = 120\n"
   ]
  },
  {
   "cell_type": "code",
   "execution_count": 59,
   "metadata": {},
   "outputs": [
    {
     "name": "stdout",
     "output_type": "stream",
     "text": [
      "Digite um número: 10\n",
      "\n",
      "Fatorial de 10\n",
      "10! =  10  . 9  . 8  . 7  . 6  . 5  . 4  . 3  . 2  . 1  = 3628800 \n"
     ]
    }
   ],
   "source": [
    "#lendo o número\n",
    "num = int(input(\"Digite um número: \"))\n",
    "\n",
    "fatorial=1\n",
    "\n",
    "#Validando numero\n",
    "while num<0:\n",
    "    print(\"Só existe fatorial de número inteiro não negativo\")\n",
    "    num = int(input(\"Digite um número para cálculo do fatorial: \"))    \n",
    "\n",
    "#Cálculo do fatorial\n",
    "for i in range(1,num+1):\n",
    "    fatorial *= i\n",
    "\n",
    "#Calculando\n",
    "\n",
    "print(\"\\nFatorial de {}\".format(num))\n",
    "print(\"{}! = \".format(num), end=\" \")\n",
    "\n",
    "#Função range() dentro da função reversed() para mostrar a variavel num na ordem reversa\n",
    "for i in reversed(range(1,num+1)):\n",
    "    print((\"{} \".format(i)), end=\" \")\n",
    "    \n",
    "    #Para não imprimir o ponto após o último numero\n",
    "    if i==1:\n",
    "        break\n",
    "    print(\".\",end=\" \")\n",
    "    \n",
    "print(\"= {} \".format(fatorial))\n"
   ]
  },
  {
   "cell_type": "markdown",
   "metadata": {},
   "source": [
    "# 33 - O Departamento Estadual de Meteorologia lhe contratou para desenvolver um programa que leia as um conjunto indeterminado de temperaturas, e informe ao final a menor e a maior temperaturas informadas, bem como a média das temperaturas.\n"
   ]
  },
  {
   "cell_type": "code",
   "execution_count": 5,
   "metadata": {},
   "outputs": [
    {
     "name": "stdout",
     "output_type": "stream",
     "text": [
      "Digite a quantidade de temperaturas: 4\n",
      "Digite a temperatura  1: 10.2\n",
      "Digite a temperatura  2: 15.3\n",
      "Digite a temperatura  3: 10.5\n",
      "Digite a temperatura  4: 11.4\n",
      "\n",
      "A temperatura média é  11.8 °C.\n",
      "A maior temperatura é  15.3 °C.\n",
      "A menor temperatura é  10.2 °C.\n"
     ]
    }
   ],
   "source": [
    "#Muito parecido com o exercício nº 18 dessa lista\n",
    "#Lendo números\n",
    "quantidade=0\n",
    "\n",
    "#Validando quantidade\n",
    "while quantidade<=0:\n",
    "    quantidade = int(input(\"Digite a quantidade de temperaturas: \"))\n",
    "    if quantidade<=0:\n",
    "        print(\"Quantidade deve ser inteira e maior que zero!\")\n",
    "        \n",
    "#Encontrando o maior, o menor e a média\n",
    "soma = 0\n",
    "maior = -1000000\n",
    "menor = 1000000\n",
    "\n",
    "for i in range(quantidade):\n",
    "    \n",
    "    num = float(input(\"Digite a temperatura {0:2}: \".format(i+1)))\n",
    "    \n",
    "    if num > maior:\n",
    "        maior = num\n",
    "\n",
    "    if num < menor:\n",
    "        menor = num\n",
    "\n",
    "    soma += num\n",
    "\n",
    "\n",
    "#Imprimindo a média, maior e menor \n",
    "print(\"\\nA temperatura média é {0:5.1f} °C.\\nA maior temperatura é {1:5.1f} °C.\\nA menor temperatura é {2:5.1f} °C.\".format(soma/quantidade,maior,menor))"
   ]
  },
  {
   "cell_type": "markdown",
   "metadata": {},
   "source": [
    "# 34 - Os números primos possuem várias aplicações dentro da Computação, por exemplo na Criptografia. Um número primo é aquele que é divisível apenas por um e por ele mesmo. Faça um programa que peça um número inteiro e determine se ele é ou não um número primo.\n"
   ]
  },
  {
   "cell_type": "code",
   "execution_count": 12,
   "metadata": {},
   "outputs": [],
   "source": [
    "#Idêntico ao exercício nº 21 dessa lista"
   ]
  },
  {
   "cell_type": "markdown",
   "metadata": {},
   "source": [
    "# 35 - Encontrar números primos é uma tarefa difícil. Faça um programa que gera uma lista dos números primos existentes entre 1 e um número inteiro informado pelo usuário.\n"
   ]
  },
  {
   "cell_type": "code",
   "execution_count": null,
   "metadata": {},
   "outputs": [],
   "source": [
    "#Idêntico ao exercício nº 23 dessa lista"
   ]
  },
  {
   "cell_type": "markdown",
   "metadata": {},
   "source": [
    "# 36 - Desenvolva um programa que faça a tabuada de um número qualquer inteiro que será digitado pelo usuário, mas a tabuada não deve necessariamente iniciar em 1 e terminar em 10, o valor inicial e final devem ser informados também pelo usuário, conforme exemplo abaixo:\n",
    "### Montar a tabuada de: 5\n",
    "### Começar por: 4\n",
    "### Terminar em: 7\n",
    "\n",
    "### Vou montar a tabuada de 5 começando em 4 e terminando em 7:\n",
    "### 5 X 4 = 20\n",
    "### 5 X 5 = 25\n",
    "### 5 X 6 = 30\n",
    "### 5 X 7 = 35"
   ]
  },
  {
   "cell_type": "code",
   "execution_count": 9,
   "metadata": {},
   "outputs": [
    {
     "name": "stdout",
     "output_type": "stream",
     "text": [
      "Bem vindo ao gerador de tabuada. Digite um número de zero a 10: 5\n",
      "Digite um número inicial: 4\n",
      "Digite um final: 7\n",
      "\n",
      "Montar a tabuada de 5\n",
      "Começar por: 4\n",
      "Terminar em: 7\n",
      "Vou montar a tabuada de 5 começando em 4 e terminando em 7:\n",
      "5 x 4 =  20\n",
      "5 x 5 =  25\n",
      "5 x 6 =  30\n",
      "5 x 7 =  35\n"
     ]
    }
   ],
   "source": [
    "#Lendo número\n",
    "num = int(input(\"Bem vindo ao gerador de tabuada. Digite um número de zero a 10: \"))\n",
    "\n",
    "#Validando entrada\n",
    "while num <=0 or num >10:\n",
    "    num = int(input(\"Bem vindo ao gerador de tabuada. Digite um número de zero a 10: \"))\n",
    "\n",
    "#Lendo início\n",
    "inicio = int(input(\"Digite um número inicial: \"))\n",
    "while (inicio <=0 or inicio >10):\n",
    "    inicio = int(input(\"Digite um número inicial: \"))\n",
    "\n",
    "#lendo fim\n",
    "fim = int(input(\"Digite um final: \"))\n",
    "while fim <=0 or fim >10 or fim <inicio:\n",
    "    fim = int(input(\"Digite um final: \"))\n",
    "\n",
    "#Imprimindo\n",
    "print(\"\\nMontar a tabuada de {}\".format(num))\n",
    "print(\"Começar por: {}\".format(inicio))\n",
    "print(\"Terminar em: {}\".format(fim))\n",
    "print(\"Vou montar a tabuada de {} começando em {} e terminando em {}:\".format(num,inicio,fim))\n",
    "for i in range(inicio,fim+1):\n",
    "    print(\"{0} x {1} = {2:>3}\".format(num,i,num*i)) \n",
    "  "
   ]
  },
  {
   "cell_type": "markdown",
   "metadata": {},
   "source": [
    "# 37 - Uma academia deseja fazer um senso entre seus clientes para descobrir o mais alto, o mais baixo, a mais gordo e o mais magro, para isto você deve fazer um programa que pergunte a cada um dos clientes da academia seu código, sua altura e seu peso. O final da digitação de dados deve ser dada quando o usuário digitar 0 (zero) no campo código. Ao encerrar o programa também deve ser informados os códigos e valores do clente mais alto, do mais baixo, do mais gordo e do mais magro, além da média das alturas e dos pesos dos clientes\n"
   ]
  },
  {
   "cell_type": "code",
   "execution_count": 8,
   "metadata": {},
   "outputs": [
    {
     "name": "stdout",
     "output_type": "stream",
     "text": [
      "Digite seu código: 1\n",
      "Digite sua altura em cm: 170\n",
      "Digite seu peso em Kg: 70\n",
      "Digite seu código: 2\n",
      "Digite sua altura em cm: 180\n",
      "Digite seu peso em Kg: 80\n",
      "Digite seu código: 3\n",
      "Digite sua altura em cm: 190\n",
      "Digite seu peso em Kg: 90\n",
      "Digite seu código: 0\n",
      "\n",
      "O cliente mais alto é 3 em tem 300 cm\n",
      "O cliente mais baixo é 1 em tem 100 cm\n",
      "O cliente mais gordo é 3 em tem 300.0 Kg\n",
      "O cliente mais magro é 1 em tem 70.0 Kg\n",
      "A média das alturas é 180.0 cm\n",
      "A média dos pesos é 80.0 Kg\n"
     ]
    }
   ],
   "source": [
    "soma_alturas = 0\n",
    "soma_pesos = 0\n",
    "total_clientes = 0\n",
    "\n",
    "while True:\n",
    "    codigo = int(input(\"Digite seu código: \"))\n",
    "    if codigo==0:\n",
    "        break\n",
    "    altura = int(input(\"Digite sua altura em cm: \"))\n",
    "    peso = float(input(\"Digite seu peso em Kg: \"))\n",
    "    \n",
    "    soma_alturas += altura\n",
    "    soma_pesos += peso\n",
    "    total_clientes += 1\n",
    "    \n",
    "    if ('mais_alto' not in vars()) or (altura > mais_alto):\n",
    "        mais_alto = altura\n",
    "        codigo_alto = codigo\n",
    "    if ('mais_baixo' not in vars()) or (altura < mais_baixo):\n",
    "        mais_baixo = altura\n",
    "        codigo_baixo = codigo\n",
    "    if ('mais_gordo' not in vars()) or (peso > mais_gordo):\n",
    "        mais_gordo = peso\n",
    "        codigo_gordo = codigo\n",
    "    if ('mais_magro' not in vars()) or (peso < mais_magro):\n",
    "        mais_magro = peso\n",
    "        codigo_magro = codigo\n",
    "\n",
    "print(\"\\nO cliente mais alto é {} em tem {} cm\".format(codigo_alto,mais_alto))\n",
    "print(\"O cliente mais baixo é {} em tem {} cm\".format(codigo_baixo,mais_baixo))\n",
    "print(\"O cliente mais gordo é {} em tem {} Kg\".format(codigo_gordo,mais_gordo))\n",
    "print(\"O cliente mais magro é {} em tem {} Kg\".format(codigo_magro,mais_magro))\n",
    "print(\"A média das alturas é {} cm\".format(soma_alturas/total_clientes))\n",
    "print(\"A média dos pesos é {} Kg\".format(soma_pesos/total_clientes))\n"
   ]
  },
  {
   "cell_type": "markdown",
   "metadata": {},
   "source": [
    "# 38 - Um funcionário de uma empresa recebe aumento salarial anualmente: Sabe-se que:\n",
    "### Esse funcionário foi contratado em 1995, com salário inicial de R 1.000,00;\n",
    "### Em 1996 recebeu aumento de 1,5% sobre seu salário inicial;\n",
    "### A partir de 1997 (inclusive), os aumentos salariais sempre correspondem ao dobro do percentual do ano anterior. Faça um programa que determine o salário atual desse funcionário. Após concluir isto, altere o programa permitindo que o usuário digite o salário inicial do funcionário."
   ]
  },
  {
   "cell_type": "code",
   "execution_count": 101,
   "metadata": {},
   "outputs": [
    {
     "name": "stdout",
     "output_type": "stream",
     "text": [
      "Ano 1996 Salario R$ 1000.00 \n",
      "Ano 1997 Salario R$ 1015.00 aumento 1.50%\n",
      "Ano 1997 Salario R$ 1045.45 aumento 3.00%\n",
      "Ano 1998 Salario R$ 1108.18 aumento 6.00%\n",
      "Ano 1999 Salario R$ 1241.16 aumento 12.00%\n",
      "Ano 2000 Salario R$ 1539.04 aumento 24.00%\n",
      "Ano 2001 Salario R$ 2277.77 aumento 48.00%\n",
      "Ano 2002 Salario R$ 4464.44 aumento 96.00%\n",
      "Ano 2003 Salario R$ 13036.15 aumento 192.00%\n",
      "Ano 2004 Salario R$ 63094.98 aumento 384.00%\n",
      "Ano 2005 Salario R$ 547664.47 aumento 768.00%\n",
      "Ano 2006 Salario R$ 8959790.69 aumento 1536.00%\n",
      "Ano 2007 Salario R$ 284204560.82 aumento 3072.00%\n",
      "Ano 2008 Salario R$ 17745732777.31 aumento 6144.00%\n",
      "Ano 2009 Salario R$ 2198341376452.89 aumento 12288.00%\n",
      "Ano 2010 Salario R$ 542462718053512.38 aumento 24576.00%\n",
      "Ano 2011 Salario R$ 267173737895714176.00 aumento 49152.00%\n",
      "Ano 2012 Salario R$ 262909645038896873472.00 aumento 98304.00%\n",
      "Ano 2013 Salario R$ 517164304563109925748736.00 aumento 196608.00%\n",
      "Ano 2014 Salario R$ 2034089956135428252971827200.00 aumento 393216.00%\n",
      "Ano 2015 Salario R$ 15998768413791002669203826147328.00 aumento 786432.00%\n",
      "Ano 2016 Salario R$ 251654867592301858941838579531251712.00 aumento 1572864.00%\n",
      "Ano 2017 Salario R$ 7916629288081506571860256469138014208000.00 aumento 3145728.00%\n",
      "Ano 2018 Salario R$ 498079164972046069403784059582374270088511488.00 aumento 6291456.00%\n",
      "Ano 2019 Salario R$ 62673361097931944066267127572323735879875362291712.00 aumento 12582912.00%\n",
      "Ano 2020 Salario R$ 15772330422151015632112524421127594454484538690486927360.00 aumento 25165824.00%\n"
     ]
    }
   ],
   "source": [
    "from datetime import datetime\n",
    "\n",
    "#Definindo salário inicial\n",
    "salario_inicial = 1000\n",
    "\n",
    "#Definindo datas\n",
    "ano_incial=1996\n",
    "now = datetime.now()\n",
    "ano_final=now.year\n",
    "\n",
    "print(\"Ano {0} Salario R$ {1:.2f} \".format(ano_incial,salario_inicial))\n",
    "\n",
    "aumento = 1.015\n",
    "salario_atual=1000*aumento\n",
    "ano_incial +=1\n",
    "\n",
    "print(\"Ano {0} Salario R$ {1:.2f} aumento {2:.2f}%\".format(ano_incial,salario_atual,((round(aumento,3))-1)*100))\n",
    "\n",
    "#Calculando salário\n",
    "for i in range(1,(ano_final)-(ano_incial-2)):\n",
    "    salario_atual *= (1+(aumento-1)*2) \n",
    "    aumento = 1+(aumento-1)*2\n",
    "    print(\"Ano {0} Salario R$ {1:.2f} aumento {2:.2f}%\".format(ano_incial,salario_atual,((round(aumento,3))-1)*100))\n",
    "    ano_incial +=1\n"
   ]
  },
  {
   "cell_type": "markdown",
   "metadata": {},
   "source": [
    "# 39 - Faça um programa que leia dez conjuntos de dois valores, o primeiro representando o número do aluno e o segundo representando a sua altura em centímetros. Encontre o aluno mais alto e o mais baixo. Mostre o número do aluno mais alto e o número do aluno mais baixo, junto com suas alturas.\n"
   ]
  },
  {
   "cell_type": "code",
   "execution_count": 63,
   "metadata": {},
   "outputs": [
    {
     "name": "stdout",
     "output_type": "stream",
     "text": [
      "Digite o código do aluno: 1\n",
      "Digite a altura em cm: 100\n",
      "Digite o código do aluno: 2\n",
      "Digite a altura em cm: 101\n",
      "Digite o código do aluno: 0\n",
      "\n",
      "O aluno mais alto é 3 em tem 300 cm\n",
      "O aluno mais baixo é 1 em tem 100 cm\n"
     ]
    }
   ],
   "source": [
    "#Semelhante ao exercício nº 37 dessa lista\n",
    "\n",
    "soma_alturas = 0\n",
    "total_clientes = 0\n",
    "\n",
    "while True:\n",
    "    codigo = int(input(\"Digite o código do aluno: \"))\n",
    "    if codigo==0:\n",
    "        break\n",
    "    altura = int(input(\"Digite a altura em cm: \"))\n",
    "    \n",
    "    soma_alturas += altura\n",
    "    total_clientes += 1\n",
    "    \n",
    "    if ('mais_alto' not in vars()) or (altura > mais_alto):\n",
    "        mais_alto = altura\n",
    "        codigo_alto = codigo\n",
    "    if ('mais_baixo' not in vars()) or (altura < mais_baixo):\n",
    "        mais_baixo = altura\n",
    "        codigo_baixo = codigo    \n",
    "\n",
    "print(\"\\nO aluno mais alto é {} em tem {} cm\".format(codigo_alto,mais_alto))\n",
    "print(\"O aluno mais baixo é {} em tem {} cm\".format(codigo_baixo,mais_baixo))\n"
   ]
  },
  {
   "cell_type": "markdown",
   "metadata": {},
   "source": [
    "# 40 - Foi feita uma estatística em cinco cidades brasileiras para coletar dados sobre acidentes de trânsito. Foram obtidos os seguintes dados:\n",
    "### Código da cidade;\n",
    "### Número de veículos de passeio (em 1999);\n",
    "### Número de acidentes de trânsito com vítimas (em 1999). \n",
    "## Deseja-se saber:\n",
    "### Qual o maior e menor índice de acidentes de transito e a que cidade pertence;\n",
    "### Qual a média de veículos nas cinco cidades juntas;\n",
    "### Qual a média de acidentes de trânsito nas cidades com menos de 2.000 veículos de passeio."
   ]
  },
  {
   "cell_type": "code",
   "execution_count": 3,
   "metadata": {},
   "outputs": [
    {
     "name": "stdout",
     "output_type": "stream",
     "text": [
      "Informe o código da cidade: 1\n",
      "Número de veículos de passeio (em 1999): 1000\n",
      "Número de acidentes de trânsito com vítimas (em 1999): 100\n",
      "\n",
      "\n",
      "Informe o código da cidade: 2\n",
      "Número de veículos de passeio (em 1999): 2000\n",
      "Número de acidentes de trânsito com vítimas (em 1999): 200\n",
      "\n",
      "\n",
      "Informe o código da cidade: 3\n",
      "Número de veículos de passeio (em 1999): 3000\n",
      "Número de acidentes de trânsito com vítimas (em 1999): 300\n",
      "\n",
      "\n",
      "Informe o código da cidade: 4\n",
      "Número de veículos de passeio (em 1999): 4000\n",
      "Número de acidentes de trânsito com vítimas (em 1999): 400\n",
      "\n",
      "\n",
      "Informe o código da cidade: 5\n",
      "Número de veículos de passeio (em 1999): 5000\n",
      "Número de acidentes de trânsito com vítimas (em 1999): 500\n",
      "\n",
      "\n",
      "\n",
      "A cidade com menor número de acidentes é a 1 com 100 acidentes\n",
      "\n",
      "A cidade com maior número de acidentes é a 5 com 500 acidentes\n",
      "\n",
      "A média de veículos de passeio por cidade é de 3000.00.\n",
      "\n",
      "A média de média de acidentes de trânsito nas cidades com menos de 2.000 veículos de passeio é de 150.00.\n"
     ]
    }
   ],
   "source": [
    "soma_veiculos = 0\n",
    "soma_acidentes = 0\n",
    "maior_acidentes = 0\n",
    "menor_acidentes = 1000000000\n",
    "cidade_menor_acidentes = 0\n",
    "cidade_maior_acidentes =0\n",
    "\n",
    "soma_acidentes_2000 = 0\n",
    "cont = 0\n",
    "\n",
    "for i in range(5):\n",
    "    cidade = int(input(\"Informe o código da cidade: \"))\n",
    "    passeio = int(input(\"Número de veículos de passeio (em 1999): \"))\n",
    "    acidentes = int(input(\"Número de acidentes de trânsito com vítimas (em 1999): \"))\n",
    "    print(\"\\n\")\n",
    "    \n",
    "    if acidentes > maior_acidentes:\n",
    "        maior_acidentes = acidentes\n",
    "        cidade_maior_acidentes = cidade\n",
    "\n",
    "    if acidentes < menor_acidentes:\n",
    "        menor_acidentes = acidentes\n",
    "        cidade_menor_acidentes = cidade\n",
    "    \n",
    "    soma_veiculos += passeio\n",
    "    \n",
    "    if passeio <=2000:\n",
    "        soma_acidentes_2000 += acidentes\n",
    "        cont +=1\n",
    "\n",
    "        \n",
    "#Saída de dados\n",
    "print(\"\\nA cidade com menor número de acidentes é a {} com {} acidentes\".format(cidade_menor_acidentes,menor_acidentes))\n",
    "print(\"\\nA cidade com maior número de acidentes é a {} com {} acidentes\".format(cidade_maior_acidentes,maior_acidentes))\n",
    "print(\"\\nA média de veículos de passeio por cidade é de {0:5.2f}.\".format(soma_veiculos/5))\n",
    "print(\"\\nA média de média de acidentes de trânsito nas cidades com menos de 2.000 veículos de passeio é de {0:5.2f}.\".format(soma_acidentes_2000/cont))\n",
    "\n",
    "    "
   ]
  },
  {
   "attachments": {
    "ex%2041.png": {
     "image/png": "[encoded data removed]"
    }
   },
   "cell_type": "markdown",
   "metadata": {},
   "source": [
    "# 41 - Faça um programa que receba o valor de uma dívida e mostre uma tabela com os seguintes dados: valor da dívida, valor dos juros, quantidade de parcelas e valor da parcela.\n",
    "\n",
    "![ex%2041.png](attachment:ex%2041.png)"
   ]
  },
  {
   "cell_type": "code",
   "execution_count": 32,
   "metadata": {},
   "outputs": [
    {
     "name": "stdout",
     "output_type": "stream",
     "text": [
      "Informe o valor da dívida: 1000\n",
      "\n",
      "Valor da dívida  Valor dos Juros       Qte de parcelas   Valor da parcela\n",
      "R$  1000.00             R$   0.00                  1                   R$  1000.00\n",
      "R$  1100.00             R$ 100.00                  3                   R$   366.67\n",
      "R$  1150.00             R$ 150.00                  6                   R$   191.67\n",
      "R$  1200.00             R$ 200.00                  9                   R$   133.33\n",
      "R$  1250.00             R$ 250.00                 12                   R$   104.17\n"
     ]
    }
   ],
   "source": [
    "divida = float(input(\"Informe o valor da dívida: \"))\n",
    "\n",
    "print(\"\\nValor da dívida  Valor dos Juros       Qte de parcelas   Valor da parcela\")\n",
    "print(\"R$ {0:8.2f}             R$   0.00                  1                   R$ {0:8.2f}\".format(divida,divida))\n",
    "\n",
    "juros = 0.1\n",
    "for i in range(3,15,3):\n",
    "    parcela = i\n",
    "    valor_juros = divida * juros\n",
    "    valor_parcela = (divida*(1+juros))/parcela\n",
    "    print(\"R$ {0:8.2f}             R$ {1:5.2f}                 {2:>2}                   R$ {3:8.2f}\".format(divida*(1+juros),valor_juros,parcela,valor_parcela))\n",
    "    juros += 0.05 \n"
   ]
  },
  {
   "cell_type": "markdown",
   "metadata": {},
   "source": [
    "# 42 - Faça um programa que leia uma quantidade indeterminada de números positivos e conte quantos deles estão nos seguintes intervalos: [0-25], [26-50], [51-75] e [76-100]. A entrada de dados deverá terminar quando for lido um número negativo."
   ]
  },
  {
   "cell_type": "code",
   "execution_count": 35,
   "metadata": {},
   "outputs": [
    {
     "name": "stdout",
     "output_type": "stream",
     "text": [
      "Digite um número positivo: 1\n",
      "Digite um número positivo: 2\n",
      "Digite um número positivo: 3\n",
      "Digite um número positivo: 4\n",
      "Digite um número positivo: 5\n",
      "Digite um número positivo: 30\n",
      "Digite um número positivo: 31\n",
      "Digite um número positivo: 32\n",
      "Digite um número positivo: 60\n",
      "Digite um número positivo: 78\n",
      "Digite um número positivo: 79\n",
      "Digite um número positivo: 80\n",
      "Digite um número positivo: 10000\n",
      "Digite um número positivo: -1\n",
      "Quantidade de números no intervalo [  0-25]: 5\n",
      "Quantidade de números no intervalo [ 26-50]: 3\n",
      "Quantidade de números no intervalo [ 51-75]: 1\n",
      "Quantidade de números no intervalo [76-100]: 3\n",
      "Quantidade de números fora dos intervalos  : 1\n"
     ]
    }
   ],
   "source": [
    "num = int(input(\"Digite um número positivo: \"))\n",
    "\n",
    "#Inicializando contadores\n",
    "int1 = 0\n",
    "int2 = 0\n",
    "int3 = 0\n",
    "int4 = 0\n",
    "int5 = 0\n",
    "\n",
    "#Contabilizando intervalos\n",
    "while num >=0:\n",
    "    if num >=0 and num<=25:\n",
    "        int1 +=1\n",
    "    elif num >=26 and num<=50:\n",
    "        int2 +=1\n",
    "    elif num >=51 and num<=75:\n",
    "        int3 +=1  \n",
    "    elif num >=76 and num<=100:\n",
    "        int4 +=1\n",
    "    else:\n",
    "        int5 +=1\n",
    "    num = int(input(\"Digite um número positivo: \"))\n",
    "\n",
    "#Imprimindo valores\n",
    "print(\"Quantidade de números no intervalo [  0-25]: {}\".format(int1))\n",
    "print(\"Quantidade de números no intervalo [ 26-50]: {}\".format(int2))\n",
    "print(\"Quantidade de números no intervalo [ 51-75]: {}\".format(int3))\n",
    "print(\"Quantidade de números no intervalo [76-100]: {}\".format(int4))\n",
    "print(\"Quantidade de números fora dos intervalos  : {}\".format(int5))"
   ]
  },
  {
   "attachments": {
    "ex%2043.png": {
     "image/png": "[encoded data removed]"
    }
   },
   "cell_type": "markdown",
   "metadata": {},
   "source": [
    "# 43 - O cardápio de uma lanchonete é o seguinte:\n",
    "\n",
    "![ex%2043.png](attachment:ex%2043.png)\n",
    "\n",
    "## Faça um programa que leia o código dos itens pedidos e as quantidades desejadas. Calcule e mostre o valor a ser pago por item (preço * quantidade) e o total geral do pedido. Considere que o cliente deve informar quando o pedido deve ser encerrado.\n"
   ]
  },
  {
   "cell_type": "code",
   "execution_count": 43,
   "metadata": {},
   "outputs": [
    {
     "name": "stdout",
     "output_type": "stream",
     "text": [
      "           Cardápio           \n",
      "Cachorro Quente 100     R$ 1,20 \n",
      "Bauru Simples   101     R$ 1,30 \n",
      "Bauru com ovo   102     R$ 1,50 \n",
      "Hambúrguer      103     R$ 1,20 \n",
      "Cheeseburguer   104     R$ 1,30 \n",
      "Refrigerante    105     R$ 1,00\n"
     ]
    }
   ],
   "source": [
    "#Definindo variáveis\n",
    "codigo100 = 100\n",
    "codigo101 = 101\n",
    "codigo102 = 102\n",
    "codigo103 = 103\n",
    "codigo104 = 104\n",
    "codigo105 = 105\n",
    "\n",
    "nomecodigo100 = \"Cachorro Quente\"\n",
    "nomecodigo101 = \"Bauru Simples\"\n",
    "nomecodigo102 = \"Bauru com ovo\"\n",
    "nomecodigo103 = \"Hambúrguer\"\n",
    "nomecodigo104 = \"Cheeseburguer\"\n",
    "nomecodigo106 = \"Refrigerante\"\n",
    "\n",
    "precocodigo100 = 1.20\n",
    "precocodigo101 = 1.30\n",
    "precocodigo102 = 1.50\n",
    "precocodigo103 = 1.20\n",
    "precocodigo104 = 1.30\n",
    "precocodigo105 = 1.00\n",
    "\n",
    "print(\"Cardápio\".center(30))\n",
    "print(\"Cachorro Quente 100     R$ 1,20 \\n\\\n",
    "Bauru Simples   101     R$ 1,30 \\n\\\n",
    "Bauru com ovo   102     R$ 1,50 \\n\\\n",
    "Hambúrguer      103     R$ 1,20 \\n\\\n",
    "Cheeseburguer   104     R$ 1,30 \\n\\\n",
    "Refrigerante    105     R$ 1,00\")\n",
    "\n",
    "while True:\n",
    "    \n",
    "    \n",
    "    \n",
    "    \n",
    "    \n",
    "    \n",
    "    \n",
    "    "
   ]
  },
  {
   "cell_type": "markdown",
   "metadata": {},
   "source": [
    "# 44 - Em uma eleição presidencial existem quatro candidatos. Os votos são informados por meio de código. Os códigos utilizados são:\n",
    "\n",
    "### 1 , 2, 3, 4  - Votos para os respectivos candidatos \n",
    "### (você deve montar a tabela ex: 1 - Jose/ 2- João/etc)\n",
    "### 5 - Voto Nulo\n",
    "### 6 - Voto em Branco\n",
    "\n",
    "### Faça um programa que calcule e mostre:\n",
    "### O total de votos para cada candidato;\n",
    "### O total de votos nulos;\n",
    "### O total de votos em branco;\n",
    "### A percentagem de votos nulos sobre o total de votos;\n",
    "###  A percentagem de votos em branco sobre o total de votos. Para finalizar o conjunto de votos tem-se o valor zero."
   ]
  },
  {
   "cell_type": "code",
   "execution_count": 11,
   "metadata": {},
   "outputs": [
    {
     "name": "stdout",
     "output_type": "stream",
     "text": [
      "\n",
      "Os candidatos são: \n",
      "1 - Voto em Fulano: \n",
      "2 - Voto em Sicrano:                              \n",
      "3 - Voto em Beltrano: \n",
      "4 - Voto no Zé:                             \n",
      "5 - Voto Nulo: \n",
      "6 - Voto em Branco: \n",
      "Digite 0 para parar! 1\n",
      "\n",
      "Os candidatos são: \n",
      "1 - Voto em Fulano: \n",
      "2 - Voto em Sicrano:                              \n",
      "3 - Voto em Beltrano: \n",
      "4 - Voto no Zé:                             \n",
      "5 - Voto Nulo: \n",
      "6 - Voto em Branco: \n",
      "Digite 0 para parar! 2\n",
      "\n",
      "Os candidatos são: \n",
      "1 - Voto em Fulano: \n",
      "2 - Voto em Sicrano:                              \n",
      "3 - Voto em Beltrano: \n",
      "4 - Voto no Zé:                             \n",
      "5 - Voto Nulo: \n",
      "6 - Voto em Branco: \n",
      "Digite 0 para parar! 3\n",
      "\n",
      "Os candidatos são: \n",
      "1 - Voto em Fulano: \n",
      "2 - Voto em Sicrano:                              \n",
      "3 - Voto em Beltrano: \n",
      "4 - Voto no Zé:                             \n",
      "5 - Voto Nulo: \n",
      "6 - Voto em Branco: \n",
      "Digite 0 para parar! 4\n",
      "\n",
      "Os candidatos são: \n",
      "1 - Voto em Fulano: \n",
      "2 - Voto em Sicrano:                              \n",
      "3 - Voto em Beltrano: \n",
      "4 - Voto no Zé:                             \n",
      "5 - Voto Nulo: \n",
      "6 - Voto em Branco: \n",
      "Digite 0 para parar! 5\n",
      "\n",
      "Os candidatos são: \n",
      "1 - Voto em Fulano: \n",
      "2 - Voto em Sicrano:                              \n",
      "3 - Voto em Beltrano: \n",
      "4 - Voto no Zé:                             \n",
      "5 - Voto Nulo: \n",
      "6 - Voto em Branco: \n",
      "Digite 0 para parar! 6\n",
      "\n",
      "Os candidatos são: \n",
      "1 - Voto em Fulano: \n",
      "2 - Voto em Sicrano:                              \n",
      "3 - Voto em Beltrano: \n",
      "4 - Voto no Zé:                             \n",
      "5 - Voto Nulo: \n",
      "6 - Voto em Branco: \n",
      "Digite 0 para parar! 1\n",
      "\n",
      "Os candidatos são: \n",
      "1 - Voto em Fulano: \n",
      "2 - Voto em Sicrano:                              \n",
      "3 - Voto em Beltrano: \n",
      "4 - Voto no Zé:                             \n",
      "5 - Voto Nulo: \n",
      "6 - Voto em Branco: \n",
      "Digite 0 para parar! 1\n",
      "\n",
      "Os candidatos são: \n",
      "1 - Voto em Fulano: \n",
      "2 - Voto em Sicrano:                              \n",
      "3 - Voto em Beltrano: \n",
      "4 - Voto no Zé:                             \n",
      "5 - Voto Nulo: \n",
      "6 - Voto em Branco: \n",
      "Digite 0 para parar! 1\n",
      "\n",
      "Os candidatos são: \n",
      "1 - Voto em Fulano: \n",
      "2 - Voto em Sicrano:                              \n",
      "3 - Voto em Beltrano: \n",
      "4 - Voto no Zé:                             \n",
      "5 - Voto Nulo: \n",
      "6 - Voto em Branco: \n",
      "Digite 0 para parar! 1\n",
      "\n",
      "Os candidatos são: \n",
      "1 - Voto em Fulano: \n",
      "2 - Voto em Sicrano:                              \n",
      "3 - Voto em Beltrano: \n",
      "4 - Voto no Zé:                             \n",
      "5 - Voto Nulo: \n",
      "6 - Voto em Branco: \n",
      "Digite 0 para parar! 7\n",
      "\n",
      "Você informou uma opção errada! Tente novamente.\n",
      "\n",
      "Os candidatos são: \n",
      "1 - Voto em Fulano: \n",
      "2 - Voto em Sicrano:                              \n",
      "3 - Voto em Beltrano: \n",
      "4 - Voto no Zé:                             \n",
      "5 - Voto Nulo: \n",
      "6 - Voto em Branco: \n",
      "Digite 0 para parar! 0\n",
      "\n",
      "Resultado da votação\n",
      "Número de votos do candidato 1 - Fulano:   5\n",
      "Número de votos do candidato 2 - Sicrano:  1\n",
      "Número de votos do candidato 3 - Beltrano: 1\n",
      "Número de votos do candidato 4 - Zé:       1\n",
      "Número de votos nulos:                     1\n",
      "Número de votos em branco:                 1\n",
      "Percentagem de votos nulos sobre o total de votos:     10 %\n",
      "Percentagem de votos em branco sobre o total de votos: 10 %\n"
     ]
    }
   ],
   "source": [
    "#Definindo contadores\n",
    "voto1, voto2, voto3, voto4, voto5, voto6, total = 0,0,0,0,0,0,0\n",
    "\n",
    "while True:\n",
    "        \n",
    "        #Lendo o voto\n",
    "        voto = int(input(\"\\nOs candidatos são: \\n1 - Voto em Fulano: \\n2 - Voto em Sicrano:  \\\n",
    "                            \\n3 - Voto em Beltrano: \\n4 - Voto no Zé: \\\n",
    "                            \\n5 - Voto Nulo: \\n6 - Voto em Branco: \\nDigite 0 para parar! \"))\n",
    "        \n",
    "        #Validando a opção\n",
    "        if voto ==0:\n",
    "            break\n",
    "        elif voto<0 or voto>6:\n",
    "            print(\"\\nVocê informou uma opção errada! Tente novamente.\")\n",
    "            continue    \n",
    "        else:\n",
    "            total +=1\n",
    "            if voto==1:\n",
    "                voto1 +=1\n",
    "            elif voto==2:\n",
    "                voto2 +=1\n",
    "            elif voto==3:\n",
    "                voto3 +=1\n",
    "            elif voto==4:\n",
    "                voto4 +=1\n",
    "            elif voto==5:\n",
    "                voto5 +=1\n",
    "            else:\n",
    "                voto6 +=1\n",
    "\n",
    "print(\"\\nResultado da votação\")                \n",
    "print(\"Número de votos do candidato 1 - Fulano:   {}\".format(voto1))\n",
    "print(\"Número de votos do candidato 2 - Sicrano:  {}\".format(voto2))\n",
    "print(\"Número de votos do candidato 3 - Beltrano: {}\".format(voto3))\n",
    "print(\"Número de votos do candidato 4 - Zé:       {}\".format(voto4))\n",
    "print(\"Número de votos nulos:                     {}\".format(voto5))\n",
    "print(\"Número de votos em branco:                 {}\".format(voto6))\n",
    "print(\"Percentagem de votos nulos sobre o total de votos:     {} %\".format(round(((voto5/total)*100))))\n",
    "print(\"Percentagem de votos em branco sobre o total de votos: {} %\".format(round(((voto6/total)*100))))\n"
   ]
  },
  {
   "cell_type": "markdown",
   "metadata": {},
   "source": [
    "# 45 - Desenvolver um programa para verificar a nota do aluno em uma prova com 10 questões, o programa deve perguntar ao aluno a resposta de cada questão e ao final comparar com o gabarito da prova e assim calcular o total de acertos e a nota (atribuir 1 ponto por resposta certa). Após cada aluno utilizar o sistema deve ser feita uma pergunta se outro aluno vai utilizar o sistema. \n",
    "### Após todos os alunos terem respondido informar:\n",
    "### a -Maior e Menor Acerto;\n",
    "### b -Total de Alunos que utilizaram o sistema;\n",
    "### c -A Média das Notas da Turma.\n",
    "\n",
    "Gabarito da Prova:\n",
    "\n",
    "01 - A\n",
    "02 - B\n",
    "03 - C\n",
    "04 - D\n",
    "05 - E\n",
    "06 - E\n",
    "07 - D\n",
    "08 - C\n",
    "09 - B\n",
    "10 - A\n",
    "\n"
   ]
  },
  {
   "cell_type": "code",
   "execution_count": 8,
   "metadata": {},
   "outputs": [
    {
     "name": "stdout",
     "output_type": "stream",
     "text": [
      "Digite as suas respostas:\n",
      "Digite a resposta da questão  1: a\n",
      "Digite a resposta da questão  2: a\n",
      "Digite a resposta da questão  3: a\n",
      "Digite a resposta da questão  4: a\n",
      "Digite a resposta da questão  5: a\n",
      "Digite a resposta da questão  6: a\n",
      "Digite a resposta da questão  7: a\n",
      "Digite a resposta da questão  8: a\n",
      "Digite a resposta da questão  9: a\n",
      "Digite a resposta da questão 10: a\n",
      "Sua nota é 2.\n",
      "\n",
      "Deseja digitar notas de outro aluno? Digite S para sim ou N para não: s\n",
      "Digite a resposta da questão  1: b\n",
      "Digite a resposta da questão  2: b\n",
      "Digite a resposta da questão  3: b\n",
      "Digite a resposta da questão  4: b\n",
      "Digite a resposta da questão  5: b\n",
      "Digite a resposta da questão  6: b\n",
      "Digite a resposta da questão  7: b\n",
      "Digite a resposta da questão  8: b\n",
      "Digite a resposta da questão  9: b\n",
      "Digite a resposta da questão 10: b\n",
      "Sua nota é 2.\n",
      "\n",
      "Deseja digitar notas de outro aluno? Digite S para sim ou N para não: n\n",
      "\n",
      "Fim\n"
     ]
    }
   ],
   "source": [
    "#Gabarito\n",
    "Q1  = 'A' \n",
    "Q2  = 'B' \n",
    "Q3  = 'C' \n",
    "Q4  = 'D' \n",
    "Q5  = 'E' \n",
    "Q6  = 'E' \n",
    "Q7  = 'D' \n",
    "Q8  = 'C' \n",
    "Q9  = 'B' \n",
    "Q10 = 'A'\n",
    "\n",
    "#Definindo variáveis\n",
    "nota = 0\n",
    "\n",
    "print(\"Digite as suas respostas:\")\n",
    "while True:\n",
    "    for i in range(10):\n",
    "        resposta = input(\"Digite a resposta da questão {0:>2}: \".format(i+1)).upper()\n",
    "        if i == 0 and resposta == Q1:\n",
    "            nota +=1\n",
    "        elif i == 1 and resposta == Q2:\n",
    "            nota +=1\n",
    "        elif i == 2 and resposta == Q3:\n",
    "            nota +=1\n",
    "        elif i == 3 and resposta == Q4:\n",
    "            nota +=1\n",
    "        elif i == 4 and resposta == Q5:\n",
    "            nota +=1\n",
    "        elif i == 5 and resposta == Q6:\n",
    "            nota +=1\n",
    "        elif i == 6 and resposta == Q7:\n",
    "            nota +=1\n",
    "        elif i == 7 and resposta == Q8:\n",
    "            nota +=1\n",
    "        elif i == 8 and resposta == Q9:\n",
    "            nota +=1\n",
    "        elif i == 8 and resposta == Q10:\n",
    "            nota +=1\n",
    "    print(\"Sua nota é {}.\".format(nota))\n",
    "    nota = 0\n",
    "    \n",
    "    opcao= input(\"\\nDeseja digitar notas de outro aluno? Digite S para sim ou N para não: \")\n",
    "    if opcao == \"s\" or opcao == \"S\":\n",
    "        continue\n",
    "    else:\n",
    "        break\n",
    "    \n",
    "print(\"\\nFim\")        \n",
    "        \n"
   ]
  },
  {
   "cell_type": "markdown",
   "metadata": {},
   "source": [
    "# 46 - Em uma competição de salto em distância cada atleta tem direito a cinco saltos. No final da série de saltos de cada atleta, o melhor e o pior resultados são eliminados. O seu resultado fica sendo a média dos três valores restantes. Você deve fazer um programa que receba o nome e as cinco distâncias alcançadas pelo atleta em seus saltos e depois informe a média dos saltos conforme a descrição acima informada (retirar o melhor e o pior salto e depois calcular a média). Faça uso de uma lista para armazenar os saltos. Os saltos são informados na ordem da execução, portanto não são ordenados. O programa deve ser encerrado quando não for informado o nome do atleta. A saída do programa deve ser conforme o exemplo abaixo:\n",
    "\n",
    "Atleta: Rodrigo Curvêllo\n",
    "\n",
    "Primeiro Salto: 6.5 m\n",
    "Segundo Salto: 6.1 m\n",
    "Terceiro Salto: 6.2 m\n",
    "Quarto Salto: 5.4 m\n",
    "Quinto Salto: 5.3 m\n",
    "\n",
    "Melhor salto:  6.5 m\n",
    "Pior salto: 5.3 m\n",
    "Média dos demais saltos: 5.9 m\n",
    "\n",
    "Resultado final:\n",
    "Rodrigo Curvêllo: 5.9 m"
   ]
  },
  {
   "cell_type": "code",
   "execution_count": 13,
   "metadata": {},
   "outputs": [
    {
     "name": "stdout",
     "output_type": "stream",
     "text": [
      "Informe o salto 1: 10\n",
      "Informe o salto 2: 11\n",
      "Informe o salto 3: 12\n",
      "Informe o salto 4: 13\n",
      "Informe o salto 5: 14\n",
      "Informe o nome do atleta: Rodrigo \n",
      "\n",
      "Atleta: Rodrigo \n",
      "Primeiro salto: 10.0\n",
      "Segundo salto:  11.0\n",
      "Terceiro salto: 12.0\n",
      "Quarto salto:   13.0\n",
      "Quinto salto:   14.0\n",
      "\n",
      "Melhor salto: 14.0\n",
      "Pior salto:  10.0\n",
      "Médias dos demais saltos: 12.00\n",
      "\n",
      "Resultado final: Rodrigo  12.00\n"
     ]
    }
   ],
   "source": [
    "#lendo os saltos e nome\n",
    "saltos = []\n",
    "maior = 0\n",
    "menor = 1000000\n",
    "soma = 0\n",
    "for i in range(5):\n",
    "    saltos.append(float(input(\"Informe o salto {}: \".format(i+1))))\n",
    "    if saltos[i] > maior:\n",
    "        maior = saltos[i]\n",
    "    if saltos[i] < menor:\n",
    "        menor = saltos[i]\n",
    "\n",
    "nome = input(\"Informe o nome do atleta: \")\n",
    "\n",
    "#Imprimindo primeira parte dos resultados\n",
    "print(\"\\nAtleta: {}\".format(nome))\n",
    "print(\"Primeiro salto: {}\\nSegundo salto:  {}\\nTerceiro salto: {}\\nQuarto salto:   {}\\nQuinto salto:   {}\".format(saltos[0],saltos[1],saltos[2],saltos[3],saltos[4]))\n",
    "\n",
    "#Removendo o maior e o menor\n",
    "saltos.remove(maior)\n",
    "saltos.remove(menor)\n",
    "\n",
    "#somando valores dos saltos\n",
    "for i in saltos:\n",
    "    soma += i   \n",
    "\n",
    "#Imprimindo segunda parte dos resultados\n",
    "print(\"\\nMelhor salto: {0}\\nPior salto:  {1}\\nMédia dos demais saltos: {2:5.2f}\".format(maior,menor,(soma/3)))\n",
    "print(\"\\nResultado final: {0} {1:5.2f}\".format(nome,(soma/3) ))\n"
   ]
  },
  {
   "attachments": {
    "ex%2047.png": {
     "image/png": "[encoded data removed]"
    }
   },
   "cell_type": "markdown",
   "metadata": {},
   "source": [
    "# 47 - Em uma competição de ginástica, cada atleta recebe votos de sete jurados. A melhor e a pior nota são eliminadas. A sua nota fica sendo a média dos votos restantes. Você deve fazer um programa que receba o nome do ginasta e as notas dos sete jurados alcançadas pelo atleta em sua apresentação e depois informe a sua média, conforme a descrição acima informada (retirar o melhor e o pior salto e depois calcular a média com as notas restantes). As notas não são informados ordenadas. Um exemplo de saída do programa deve ser conforme o exemplo abaixo:\n",
    "\n",
    "![ex%2047.png](attachment:ex%2047.png)"
   ]
  },
  {
   "cell_type": "code",
   "execution_count": 15,
   "metadata": {},
   "outputs": [
    {
     "name": "stdout",
     "output_type": "stream",
     "text": [
      "Informe o nome do atleta: Aparecido Parente\n",
      "Informe o nota 1: 9.9\n",
      "Informe o nota 2: 7.5\n",
      "Informe o nota 3: 9.5\n",
      "Informe o nota 4: 8.5\n",
      "Informe o nota 5: 9.0\n",
      "Informe o nota 6: 8.5\n",
      "Informe o nota 7: 9.7\n",
      "\n",
      "Resultado Final\n",
      "\n",
      "Atleta: Aparecido Parente\n",
      "\n",
      "Melhor nota: 9.9\n",
      "Pior nota:   7.5\n",
      "Média :     9.04\n"
     ]
    }
   ],
   "source": [
    "#lendo os saltos e nome\n",
    "saltos = []\n",
    "maior = 0\n",
    "menor = 1000000\n",
    "soma = 0\n",
    "\n",
    "nome = input(\"Informe o nome do atleta: \")\n",
    "\n",
    "for i in range(7):\n",
    "    saltos.append(float(input(\"Informe o nota {}: \".format(i+1))))\n",
    "    if saltos[i] > maior:\n",
    "        maior = saltos[i]\n",
    "    if saltos[i] < menor:\n",
    "        menor = saltos[i]\n",
    "\n",
    "#Removendo o maior e o menor\n",
    "saltos.remove(maior)\n",
    "saltos.remove(menor)\n",
    "\n",
    "#somando valores dos saltos\n",
    "for i in saltos:\n",
    "    soma += i  \n",
    "    \n",
    "#Imprimindo resultados\n",
    "print(\"\\nResultado Final\")\n",
    "print(\"\\nAtleta: {}\".format(nome))\n",
    "print(\"\\nMelhor nota: {0}\\nPior nota:   {1}\\nMédia :    {2:5.2f}\".format(maior,menor,(soma/5)))\n"
   ]
  },
  {
   "cell_type": "markdown",
   "metadata": {},
   "source": [
    "# 48 - Faça um programa que peça um numero inteiro positivo e em seguida mostre este numero invertido.\n",
    "Exemplo:  12376489 => 98467321"
   ]
  },
  {
   "cell_type": "code",
   "execution_count": 25,
   "metadata": {},
   "outputs": [
    {
     "name": "stdout",
     "output_type": "stream",
     "text": [
      "Digite um número inteiro: \n",
      "123456789\n",
      "987654321"
     ]
    }
   ],
   "source": [
    "#Lendo o número\n",
    "num = input(\"Digite um número inteiro: \\n\")\n",
    "\n",
    "#Imprimindo na ordem inversa\n",
    "for i in reversed(num):\n",
    "    print(i, end=\"\")"
   ]
  },
  {
   "cell_type": "markdown",
   "metadata": {},
   "source": [
    "# 49 - Faça um programa que mostre os n termos da Série a seguir:\n",
    " S = 1/1 + 2/3 + 3/5 + 4/7 + 5/9 + ... + n/m. \n",
    " ### Imprima no final a soma da série."
   ]
  },
  {
   "cell_type": "code",
   "execution_count": 42,
   "metadata": {},
   "outputs": [
    {
     "name": "stdout",
     "output_type": "stream",
     "text": [
      "Informe um valor para n: 9\n",
      "\n",
      "S =  1/1 + 2/3 + 3/5 + 4/7 + 5/9 + 6/11 + 7/13 + 8/15 + 9/17 \n",
      "Soma da série:  5.54\n"
     ]
    }
   ],
   "source": [
    "n = int(input(\"Informe um valor para n: \"))\n",
    "m = 1\n",
    "soma = 0\n",
    "print(\"\\nS = \",end=\" \")\n",
    "\n",
    "for i in range(1,n+1):\n",
    "    print(\"{0}/{1}\".format(i,m),end=\" \")\n",
    "    soma += (i/m)\n",
    "    m += 2\n",
    "    if i == n:\n",
    "        break\n",
    "    print(\"+\",end=\" \")\n",
    "\n",
    "print(\"\\nSoma da série: {:5.2f}\".format(soma))\n",
    "   "
   ]
  },
  {
   "cell_type": "markdown",
   "metadata": {},
   "source": [
    "# 50 - Sendo H= 1 + 1/2 + 1/3 + 1/4 + ... + 1/N, Faça um programa que calcule o valor de H com N termos.\n"
   ]
  },
  {
   "cell_type": "code",
   "execution_count": 46,
   "metadata": {},
   "outputs": [
    {
     "name": "stdout",
     "output_type": "stream",
     "text": [
      "Informe o número de termos para H: 5\n",
      "\n",
      "H =  1 + 1/2 + 1/3 + 1/4 + 1/5 \n",
      "Soma da série:  2.28\n"
     ]
    }
   ],
   "source": [
    "n = int(input(\"Informe o número de termos para H: \"))\n",
    "m = 1\n",
    "soma = 0\n",
    "print(\"\\nH = \",end=\" \")\n",
    "\n",
    "for i in range(1,n+1):\n",
    "    if i == 1:\n",
    "        print(\"{0}\".format(1),end=\" \")\n",
    "    else:\n",
    "        print(\"{0}/{1}\".format(1,m),end=\" \")\n",
    "    soma += (1/m)\n",
    "    m += 1\n",
    "    if i == n:\n",
    "        break\n",
    "    print(\"+\",end=\" \")\n",
    "\n",
    "print(\"\\nSoma da série: {:5.2f}\".format(soma))"
   ]
  },
  {
   "cell_type": "markdown",
   "metadata": {},
   "source": [
    "# 51 - Faça um programa que mostre os n termos da Série a seguir:\n",
    "  S = 1/1 + 2/3 + 3/5 + 4/7 + 5/9 + ... + n/m. \n",
    "### Imprima no final a soma da série."
   ]
  },
  {
   "cell_type": "code",
   "execution_count": null,
   "metadata": {},
   "outputs": [],
   "source": [
    "#idêntico ao exercicio 49"
   ]
  }
 ],
 "metadata": {
  "kernelspec": {
   "display_name": "Python 3",
   "language": "python",
   "name": "python3"
  },
  "language_info": {
   "codemirror_mode": {
    "name": "ipython",
    "version": 3
   },
   "file_extension": ".py",
   "mimetype": "text/x-python",
   "name": "python",
   "nbconvert_exporter": "python",
   "pygments_lexer": "ipython3",
   "version": "3.7.4"
  }
 },
 "nbformat": 4,
 "nbformat_minor": 2
}
