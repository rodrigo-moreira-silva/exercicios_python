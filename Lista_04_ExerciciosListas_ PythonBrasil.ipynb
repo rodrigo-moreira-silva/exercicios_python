{
 "cells": [
  {
   "cell_type": "markdown",
   "metadata": {},
   "source": [
    "# Lista 04 https://wiki.python.org.br/ExerciciosListas"
   ]
  },
  {
   "cell_type": "markdown",
   "metadata": {},
   "source": [
    "# 01 - Faça um Programa que leia um vetor de 5 números inteiros e mostre-os.\n"
   ]
  },
  {
   "cell_type": "code",
   "execution_count": 11,
   "metadata": {},
   "outputs": [
    {
     "name": "stdout",
     "output_type": "stream",
     "text": [
      "Digite um número inteiro: 11\n",
      "Digite um número inteiro: 22\n",
      "Digite um número inteiro: 33\n",
      "Digite um número inteiro: 44\n",
      "Digite um número inteiro: 55\n",
      "\n",
      "Você digitou os números: 11 22 33 44 55 "
     ]
    }
   ],
   "source": [
    "num = []\n",
    "for i in range(5):\n",
    "    n = int(input(\"Digite um número inteiro: \"))\n",
    "    num.append(n)\n",
    "\n",
    "print(\"\\nVocê digitou os números:\", end=\" \")    \n",
    "for i in num:\n",
    "    print(\"{}\".format(i), end=\" \")"
   ]
  },
  {
   "cell_type": "markdown",
   "metadata": {},
   "source": [
    "# 2 - Faça um Programa que leia um vetor de 10 números reais e mostre-os na ordem inversa.\n"
   ]
  },
  {
   "cell_type": "code",
   "execution_count": 13,
   "metadata": {},
   "outputs": [
    {
     "name": "stdout",
     "output_type": "stream",
     "text": [
      "Digite um número inteiro: 1\n",
      "Digite um número inteiro: 2\n",
      "Digite um número inteiro: 3\n",
      "Digite um número inteiro: 4\n",
      "Digite um número inteiro: 5\n",
      "Digite um número inteiro: 6\n",
      "Digite um número inteiro: 7\n",
      "Digite um número inteiro: 8\n",
      "Digite um número inteiro: 9\n",
      "Digite um número inteiro: 10\n",
      "\n",
      "Você digitou os números: 10 9 8 7 6 5 4 3 2 1 "
     ]
    }
   ],
   "source": [
    "num = []\n",
    "for i in range(10):\n",
    "    n = int(input(\"Digite um número inteiro: \"))\n",
    "    num.append(n)\n",
    "\n",
    "print(\"\\nVocê digitou os números:\", end=\" \")    \n",
    "for i in reversed(num):\n",
    "    print(\"{}\".format(i), end=\" \")"
   ]
  },
  {
   "cell_type": "markdown",
   "metadata": {},
   "source": [
    "# 3 - Faça um Programa que leia 4 notas, mostre as notas e a média na tela.\n"
   ]
  },
  {
   "cell_type": "code",
   "execution_count": 33,
   "metadata": {},
   "outputs": [
    {
     "name": "stdout",
     "output_type": "stream",
     "text": [
      "Digite a nota 1: 10\n",
      "Digite a nota 2: 8\n",
      "Digite a nota 3: 9\n",
      "Digite a nota 4: 10\n",
      "\n",
      "Soma das notas =  37.00\n",
      "Média das notas =  9.25\n"
     ]
    }
   ],
   "source": [
    "notas = []\n",
    "soma = 0\n",
    "\n",
    "for i in range(4):\n",
    "    n = int(input(\"Digite a nota {}: \".format(i+1)))\n",
    "    notas.append(n)\n",
    "\n",
    "print(\"\\nSoma das notas = {0:>6.2f}\\nMédia das notas = {1:>5.2f}\".format(sum(notas), sum(notas)/4))\n"
   ]
  },
  {
   "cell_type": "markdown",
   "metadata": {},
   "source": [
    "# 4 - Faça um Programa que leia um vetor de 10 caracteres, e diga quantas consoantes foram lidas. Imprima as consoantes.\n"
   ]
  },
  {
   "cell_type": "code",
   "execution_count": 60,
   "metadata": {},
   "outputs": [
    {
     "name": "stdout",
     "output_type": "stream",
     "text": [
      "Digite uma letra: q\n",
      "Digite uma letra: w\n",
      "Digite uma letra: e\n",
      "Digite uma letra: r\n",
      "Digite uma letra: t\n",
      "Digite uma letra: y\n",
      "Digite uma letra: u\n",
      "Digite uma letra: i\n",
      "Digite uma letra: o\n",
      "Digite uma letra: p\n",
      "\n",
      "Foram lidas 6 consoantes: q w r t y p "
     ]
    }
   ],
   "source": [
    "vetor = []\n",
    "consoante = 0\n",
    "consoantes_lidas = []\n",
    "\n",
    "for i in range(10):\n",
    "    n = input(\"Digite uma letra: \").lower()\n",
    "    vetor.append(n)\n",
    "    if vetor[i].isalpha and vetor[i] != \"a\" and vetor[i] != \"e\" and vetor[i] != \"i\" and vetor[i] != \"o\" and vetor[i] != \"u\":\n",
    "        consoante +=1\n",
    "        consoantes_lidas.append(vetor[i])\n",
    "        \n",
    "print(\"\\nForam lidas {} consoantes:\".format(consoante), end=\" \")\n",
    "for i in consoantes_lidas:\n",
    "    print(\"{}\".format(i), end=\" \")\n"
   ]
  },
  {
   "cell_type": "markdown",
   "metadata": {},
   "source": [
    "# 5 - Faça um Programa que leia 20 números inteiros e armazene-os num vetor. Armazene os números pares no vetor PAR e os números IMPARES no vetor impar. Imprima os três vetores.\n"
   ]
  },
  {
   "cell_type": "code",
   "execution_count": 71,
   "metadata": {},
   "outputs": [
    {
     "name": "stdout",
     "output_type": "stream",
     "text": [
      "Digite um número inteiro: 1\n",
      "Digite um número inteiro: 1\n",
      "Digite um número inteiro: 1\n",
      "Digite um número inteiro: 1\n",
      "Digite um número inteiro: 1\n",
      "Digite um número inteiro: 1\n",
      "Digite um número inteiro: 1\n",
      "Digite um número inteiro: 1\n",
      "Digite um número inteiro: 1\n",
      "Digite um número inteiro: 1\n",
      "Digite um número inteiro: 1\n",
      "Digite um número inteiro: 1\n",
      "Digite um número inteiro: 11\n",
      "Digite um número inteiro: 2\n",
      "Digite um número inteiro: 3\n",
      "Digite um número inteiro: 1\n",
      "Digite um número inteiro: 2\n",
      "Digite um número inteiro: 2\n",
      "Digite um número inteiro: 2\n",
      "Digite um número inteiro: 2\n",
      "\n",
      "Números lidos:    1 1 1 1 1 1 1 1 1 1 1 1 11 2 3 1 2 2 2 2 \n",
      "Números pares:    2 2 2 2 2 \n",
      "Números impares:  1 1 1 1 1 1 1 1 1 1 1 1 11 3 1 "
     ]
    }
   ],
   "source": [
    "num = []\n",
    "par = []\n",
    "impar = []\n",
    "\n",
    "for i in range(20):\n",
    "    n = int(input(\"Digite um número inteiro: \"))\n",
    "    num.append(n)\n",
    "    if n%2==0:\n",
    "        par.append(n)\n",
    "    else:\n",
    "        impar.append(n)\n",
    "\n",
    "print(\"\\nNúmeros lidos:   \", end=\" \")\n",
    "for i in num:\n",
    "    print(i, end=\" \")\n",
    "\n",
    "print(\"\\nNúmeros pares:   \", end=\" \")\n",
    "for i in par:\n",
    "    print(i, end=\" \")\n",
    "\n",
    "print(\"\\nNúmeros impares: \", end=\" \")\n",
    "for i in impar:\n",
    "    print(i, end=\" \")    "
   ]
  },
  {
   "cell_type": "markdown",
   "metadata": {},
   "source": [
    "# 6 - Faça um Programa que peça as quatro notas de 10 alunos, calcule e armazene num vetor a média de cada aluno, imprima o número de alunos com média maior ou igual a 7.0.\n",
    "\n"
   ]
  },
  {
   "cell_type": "code",
   "execution_count": 32,
   "metadata": {},
   "outputs": [
    {
     "name": "stdout",
     "output_type": "stream",
     "text": [
      "Informe notas do aluno 1:\n",
      "Informe a nota :9\n",
      "Informe a nota :9\n",
      "Informe a nota :9\n",
      "Informe a nota :9\n",
      "Informe notas do aluno 2:\n",
      "Informe a nota :9\n",
      "Informe a nota :9\n",
      "Informe a nota :9\n",
      "Informe a nota :9\n",
      "Informe notas do aluno 3:\n",
      "Informe a nota :9\n",
      "Informe a nota :9\n",
      "Informe a nota :9\n",
      "Informe a nota :9\n",
      "Informe notas do aluno 4:\n",
      "Informe a nota :9\n",
      "Informe a nota :9\n",
      "Informe a nota :9\n",
      "Informe a nota :9\n",
      "Informe notas do aluno 5:\n",
      "Informe a nota :9\n",
      "Informe a nota :9\n",
      "Informe a nota :9\n",
      "Informe a nota :9\n",
      "Informe notas do aluno 6:\n",
      "Informe a nota :9\n",
      "Informe a nota :9\n",
      "Informe a nota :9\n",
      "Informe a nota :9\n",
      "Informe notas do aluno 7:\n",
      "Informe a nota :9\n",
      "Informe a nota :9\n",
      "Informe a nota :9\n",
      "Informe a nota :9\n",
      "Informe notas do aluno 8:\n",
      "Informe a nota :1\n",
      "Informe a nota :1\n",
      "Informe a nota :1\n",
      "Informe a nota :1\n",
      "Informe notas do aluno 9:\n",
      "Informe a nota :1\n",
      "Informe a nota :1\n",
      "Informe a nota :1\n",
      "Informe a nota :1\n",
      "Informe notas do aluno 10:\n",
      "Informe a nota :1\n",
      "Informe a nota :1\n",
      "Informe a nota :1\n",
      "Informe a nota :1\n",
      "O número de alunos com média acima de 7 é 7\n"
     ]
    }
   ],
   "source": [
    "alunos = []\n",
    "notas_alunos = []\n",
    "\n",
    "#Lendo as notas\n",
    "#As notas estão em uma lista (índices ímpares) dentro da lista notas_alunos\n",
    "for i in range(10):\n",
    "    print(\"Informe notas do aluno {}:\".format(i+1))\n",
    "    alunos.append(i)\n",
    "    for n in range(4):\n",
    "        notas_alunos.append(float(input(\"Informe a nota :\".format(n+1))))\n",
    "    alunos.append(notas_alunos)\n",
    "    notas_alunos = []\n",
    "\n",
    "#Calculando as médias\n",
    "cont = 0\n",
    "for i in range(1,20,2):\n",
    "    soma= 0\n",
    "    for n in range(4):\n",
    "        soma += alunos[i][n]\n",
    "    if (soma/4) >= 7:\n",
    "        cont +=1\n",
    "        \n",
    "print(\"\\nO número de alunos com média acima de 7 é {}\".format(cont))\n"
   ]
  },
  {
   "cell_type": "markdown",
   "metadata": {},
   "source": [
    "# 7 - Faça um Programa que leia um vetor de 5 números inteiros, mostre a soma, a multiplicação e os números.\n"
   ]
  },
  {
   "cell_type": "code",
   "execution_count": 1,
   "metadata": {},
   "outputs": [
    {
     "name": "stdout",
     "output_type": "stream",
     "text": [
      "Digite um número inteiro: 1258\n",
      "Digite um número inteiro: 4524\n",
      "Digite um número inteiro: 1254\n",
      "Digite um número inteiro: 1258\n",
      "Digite um número inteiro: 9863\n",
      "\n",
      "Os números digitados foram:  1258 4524 1254 1258 9863 \n",
      "A soma desses números é: 18157\n",
      "A multiplicação desses números é: 88550383844194272\n"
     ]
    }
   ],
   "source": [
    "num = []\n",
    "soma = 0\n",
    "mult = 1\n",
    "\n",
    "for i in range(5):\n",
    "    num.append(int(input(\"Digite um número inteiro: \")))\n",
    "    soma += num[i]\n",
    "    mult *= num[i]\n",
    "\n",
    "print(\"\\nOs números digitados foram: \", end=\" \")\n",
    "for i in num:\n",
    "    print(\"{}\".format(i), end=\" \")\n",
    "print(\"\\nA soma desses números é: {}\".format(soma))\n",
    "print(\"A multiplicação desses números é: {}\".format(mult))\n"
   ]
  },
  {
   "cell_type": "markdown",
   "metadata": {},
   "source": [
    "# 8 - Faça um Programa que peça a idade e a altura de 5 pessoas, armazene cada informação no seu respectivo vetor. Imprima a idade e a altura na ordem inversa a ordem lida.\n"
   ]
  },
  {
   "cell_type": "code",
   "execution_count": 9,
   "metadata": {},
   "outputs": [
    {
     "name": "stdout",
     "output_type": "stream",
     "text": [
      "Informe a idade da pessoa   1: 50\n",
      "Informe a altura da pessoa 1: 150\n",
      "Informe a idade da pessoa   2: 60\n",
      "Informe a altura da pessoa 2: 160\n",
      "Informe a idade da pessoa   3: 70\n",
      "Informe a altura da pessoa 3: 170\n",
      "Informe a idade da pessoa   4: 80\n",
      "Informe a altura da pessoa 4: 180\n",
      "Informe a idade da pessoa   5: 90\n",
      "Informe a altura da pessoa 5: 190\n",
      "\n",
      "A ordem inversa das idades:  90 80 70 60 50 \n",
      "A ordem inversa das alturas:  190 180 170 160 150 "
     ]
    }
   ],
   "source": [
    "idade = []\n",
    "altura = []\n",
    "\n",
    "for i in range(5):\n",
    "    idade.append(int(input(\"Informe a idade da pessoa  {}: \".format(i+1))))\n",
    "    altura.append(int(input(\"Informe a altura da pessoa {}: \".format(i+1))))\n",
    "\n",
    "print(\"\\nA ordem inversa das idades: \",end = \" \")\n",
    "for i in reversed(idade):\n",
    "    print(i,end = \" \")\n",
    "    \n",
    "print(\"\\nA ordem inversa das alturas: \",end = \" \")\n",
    "for i in reversed(altura):\n",
    "    print(i,end = \" \")"
   ]
  },
  {
   "cell_type": "markdown",
   "metadata": {},
   "source": [
    "# 9 - Faça um Programa que leia um vetor A com 10 números inteiros, calcule e mostre a soma dos quadrados dos elementos do vetor.\n"
   ]
  },
  {
   "cell_type": "code",
   "execution_count": 17,
   "metadata": {},
   "outputs": [
    {
     "name": "stdout",
     "output_type": "stream",
     "text": [
      "Digite um número inteiro: 1\n",
      "Digite um número inteiro: 2\n",
      "Digite um número inteiro: 3\n",
      "Digite um número inteiro: 4\n",
      "Digite um número inteiro: 5\n",
      "Digite um número inteiro: 6\n",
      "Digite um número inteiro: 7\n",
      "Digite um número inteiro: 8\n",
      "Digite um número inteiro: 9\n",
      "Digite um número inteiro: 10\n",
      "\n",
      "A soma dos quadrados desses números é 385\n"
     ]
    }
   ],
   "source": [
    "num = []\n",
    "soma = 0\n",
    "\n",
    "for i in range(10):\n",
    "    num.append(int(input(\"Digite um número inteiro: \")))\n",
    "    soma += num[i]*num[i]\n",
    "\n",
    "print(\"\\nA soma dos quadrados desses números é {}\".format(soma))"
   ]
  },
  {
   "cell_type": "markdown",
   "metadata": {},
   "source": [
    "# 10 - Faça um Programa que leia dois vetores com 10 elementos cada. Gere um terceiro vetor de 20 elementos, cujos valores deverão ser compostos pelos elementos intercalados dos dois outros vetores."
   ]
  },
  {
   "cell_type": "code",
   "execution_count": 6,
   "metadata": {},
   "outputs": [
    {
     "name": "stdout",
     "output_type": "stream",
     "text": [
      "Informe um elemento 1 do vetor 1: 1\n",
      "Informe um elemento 1 do vetor 2: 2\n",
      "Informe um elemento 2 do vetor 1: 1\n",
      "Informe um elemento 2 do vetor 2: 2\n",
      "Informe um elemento 3 do vetor 1: \n",
      "Informe um elemento 3 do vetor 2: 2\n",
      "Informe um elemento 4 do vetor 1: 1\n",
      "Informe um elemento 4 do vetor 2: 2\n",
      "Informe um elemento 5 do vetor 1: 1\n",
      "Informe um elemento 5 do vetor 2: 2\n",
      "Informe um elemento 6 do vetor 1: 1\n",
      "Informe um elemento 6 do vetor 2: 2\n",
      "Informe um elemento 7 do vetor 1: 1\n",
      "Informe um elemento 7 do vetor 2: 2\n",
      "Informe um elemento 8 do vetor 1: 1\n",
      "Informe um elemento 8 do vetor 2: 2\n",
      "Informe um elemento 9 do vetor 1: 1\n",
      "Informe um elemento 9 do vetor 2: 2\n",
      "Informe um elemento 10 do vetor 1: 1\n",
      "Informe um elemento 10 do vetor 2: 2\n",
      "Vetor 1\n",
      "['1', '1', '', '1', '1', '1', '1', '1', '1', '1']\n",
      "Vetor 2\n",
      "['2', '2', '2', '2', '2', '2', '2', '2', '2', '2']\n",
      "Vetor 3\n",
      "['1', '2', '1', '2', '', '2', '1', '2', '1', '2', '1', '2', '1', '2', '1', '2', '1', '2', '1', '2']\n"
     ]
    }
   ],
   "source": [
    "vetor1 = []\n",
    "vetor2 = []\n",
    "vetor3 = []\n",
    "\n",
    "for i in range(10):\n",
    "    vetor1.append(input(\"Informe um elemento {} do vetor 1: \".format(i+1)))\n",
    "    vetor2.append(input(\"Informe um elemento {} do vetor 2: \".format(i+1)))\n",
    "\n",
    "for i in range(10):\n",
    "    vetor3.append(vetor1[i])\n",
    "    vetor3.append(vetor2[i])\n",
    "\n",
    "print(\"Vetor 1\")    \n",
    "print(vetor1)\n",
    "print(\"Vetor 2\")    \n",
    "print(vetor2)\n",
    "print(\"Vetor 3\")    \n",
    "print(vetor3)"
   ]
  },
  {
   "cell_type": "markdown",
   "metadata": {},
   "source": [
    "# 11 - Altere o programa anterior, intercalando 3 vetores de 10 elementos cada.\n"
   ]
  },
  {
   "cell_type": "code",
   "execution_count": 7,
   "metadata": {},
   "outputs": [
    {
     "name": "stdout",
     "output_type": "stream",
     "text": [
      "Informe um elemento 1 do vetor 1: 1\n",
      "Informe um elemento 1 do vetor 2: 2\n",
      "Informe um elemento 1 do vetor 3: 3\n",
      "Informe um elemento 2 do vetor 1: 1\n",
      "Informe um elemento 2 do vetor 2: 2\n",
      "Informe um elemento 2 do vetor 3: 3\n",
      "Informe um elemento 3 do vetor 1: 1\n",
      "Informe um elemento 3 do vetor 2: 2\n",
      "Informe um elemento 3 do vetor 3: 3\n",
      "Informe um elemento 4 do vetor 1: 1\n",
      "Informe um elemento 4 do vetor 2: 2\n",
      "Informe um elemento 4 do vetor 3: 3\n",
      "Informe um elemento 5 do vetor 1: 1\n",
      "Informe um elemento 5 do vetor 2: 2\n",
      "Informe um elemento 5 do vetor 3: 3\n",
      "Informe um elemento 6 do vetor 1: 1\n",
      "Informe um elemento 6 do vetor 2: 2\n",
      "Informe um elemento 6 do vetor 3: 3\n",
      "Informe um elemento 7 do vetor 1: 1\n",
      "Informe um elemento 7 do vetor 2: 2\n",
      "Informe um elemento 7 do vetor 3: 3\n",
      "Informe um elemento 8 do vetor 1: 1\n",
      "Informe um elemento 8 do vetor 2: 2\n",
      "Informe um elemento 8 do vetor 3: 3\n",
      "Informe um elemento 9 do vetor 1: 1\n",
      "Informe um elemento 9 do vetor 2: 2\n",
      "Informe um elemento 9 do vetor 3: 3\n",
      "Informe um elemento 10 do vetor 1: 1\n",
      "Informe um elemento 10 do vetor 2: 2\n",
      "Informe um elemento 10 do vetor 3: 3\n",
      "Vetor 1\n",
      "['1', '1', '1', '1', '1', '1', '1', '1', '1', '1']\n",
      "Vetor 2\n",
      "['2', '2', '2', '2', '2', '2', '2', '2', '2', '2']\n",
      "Vetor 3\n",
      "['3', '3', '3', '3', '3', '3', '3', '3', '3', '3']\n",
      "Vetor 4\n",
      "['1', '2', '3', '1', '2', '3', '1', '2', '3', '1', '2', '3', '1', '2', '3', '1', '2', '3', '1', '2', '3', '1', '2', '3', '1', '2', '3', '1', '2', '3']\n"
     ]
    }
   ],
   "source": [
    "vetor1 = []\n",
    "vetor2 = []\n",
    "vetor3 = []\n",
    "vetor4 = []\n",
    "\n",
    "for i in range(10):\n",
    "    vetor1.append(input(\"Informe um elemento {} do vetor 1: \".format(i+1)))\n",
    "    vetor2.append(input(\"Informe um elemento {} do vetor 2: \".format(i+1)))\n",
    "    vetor3.append(input(\"Informe um elemento {} do vetor 3: \".format(i+1)))\n",
    "\n",
    "for i in range(10):\n",
    "    vetor4.append(vetor1[i])\n",
    "    vetor4.append(vetor2[i])\n",
    "    vetor4.append(vetor3[i])\n",
    "    \n",
    "print(\"Vetor 1\")    \n",
    "print(vetor1)\n",
    "print(\"Vetor 2\")    \n",
    "print(vetor2)\n",
    "print(\"Vetor 3\")    \n",
    "print(vetor3)\n",
    "print(\"Vetor 4\")    \n",
    "print(vetor4)"
   ]
  },
  {
   "cell_type": "markdown",
   "metadata": {},
   "source": [
    "# 12 - Foram anotadas as idades e alturas de 30 alunos. Faça um Programa que determine quantos alunos com mais de 13 anos possuem altura inferior à média de altura desses alunos.\n"
   ]
  },
  {
   "cell_type": "code",
   "execution_count": 14,
   "metadata": {},
   "outputs": [
    {
     "name": "stdout",
     "output_type": "stream",
     "text": [
      "Informe a idade do aluno  1: 15\n",
      "Informe a altura do aluno 1: 120\n",
      "Informe a idade do aluno  2: 16\n",
      "Informe a altura do aluno 2: 121\n",
      "Informe a idade do aluno  3: 17\n",
      "Informe a altura do aluno 3: 121\n",
      "Informe a idade do aluno  4: 15\n",
      "Informe a altura do aluno 4: 130\n",
      "Informe a idade do aluno  5: 13\n",
      "Informe a altura do aluno 5: 120\n",
      "Informe a idade do aluno  6: 14\n",
      "Informe a altura do aluno 6: 120\n",
      "Informe a idade do aluno  7: 15\n",
      "Informe a altura do aluno 7: 160\n",
      "Informe a idade do aluno  8: 15\n",
      "Informe a altura do aluno 8: 120\n",
      "Informe a idade do aluno  9: 14\n",
      "Informe a altura do aluno 9: 125\n",
      "Informe a idade do aluno  10: 17\n",
      "Informe a altura do aluno 10: 123\n",
      "Informe a idade do aluno  11: 12\n",
      "Informe a altura do aluno 11: 100\n",
      "Informe a idade do aluno  12: 13\n",
      "Informe a altura do aluno 12: 150\n",
      "Informe a idade do aluno  13: 15\n",
      "Informe a altura do aluno 13: 160\n",
      "Informe a idade do aluno  14: 14\n",
      "Informe a altura do aluno 14: 150\n",
      "Informe a idade do aluno  15: 15\n",
      "Informe a altura do aluno 15: 150\n",
      "Informe a idade do aluno  16: 14\n",
      "Informe a altura do aluno 16: 125\n",
      "Informe a idade do aluno  17: 18\n",
      "Informe a altura do aluno 17: 125\n",
      "Informe a idade do aluno  18: 14\n",
      "Informe a altura do aluno 18: 120\n",
      "Informe a idade do aluno  19: 16\n",
      "Informe a altura do aluno 19: 120\n",
      "Informe a idade do aluno  20: 12\n",
      "Informe a altura do aluno 20: 100\n",
      "Informe a idade do aluno  21: 11\n",
      "Informe a altura do aluno 21: 100\n",
      "Informe a idade do aluno  22: 12\n",
      "Informe a altura do aluno 22: 130\n",
      "Informe a idade do aluno  23: 15\n",
      "Informe a altura do aluno 23: 160\n",
      "Informe a idade do aluno  24: 18\n",
      "Informe a altura do aluno 24: 180\n",
      "Informe a idade do aluno  25: 14\n",
      "Informe a altura do aluno 25: 125\n",
      "Informe a idade do aluno  26: 17\n",
      "Informe a altura do aluno 26: 175\n",
      "Informe a idade do aluno  27: 14\n",
      "Informe a altura do aluno 27: 120\n",
      "Informe a idade do aluno  28: 13\n",
      "Informe a altura do aluno 28: 125\n",
      "Informe a idade do aluno  29: 14\n",
      "Informe a altura do aluno 29: 126\n",
      "Informe a idade do aluno  30: 15\n",
      "Informe a altura do aluno 30: 128\n",
      "\n",
      "O número de alunos com mais de 13 anos que possuem altura inferior à média de altura da turma é 16\n"
     ]
    }
   ],
   "source": [
    "idade = []\n",
    "altura = []\n",
    "soma = 0\n",
    "cont = 0\n",
    "\n",
    "for i in range(30):\n",
    "    idade.append(int(input(\"Informe a idade do aluno  {}: \".format(i+1))))\n",
    "    altura.append(int(input(\"Informe a altura do aluno {}: \".format(i+1))))\n",
    "    soma += altura[i]\n",
    "    \n",
    "media_altura = soma/(len(altura))\n",
    "\n",
    "for i in range(30):\n",
    "    if idade[i]>13:\n",
    "        if altura[i]<media_altura:\n",
    "            cont +=1\n",
    "    \n",
    "print(\"\\nO número de alunos com mais de 13 anos que possuem altura inferior à média de altura da turma é {}\".format(cont))\n",
    "\n"
   ]
  },
  {
   "cell_type": "markdown",
   "metadata": {},
   "source": [
    "# 13 - Faça um programa que receba a temperatura média de cada mês do ano e armazene-as em uma lista. Após isto, calcule a média anual das temperaturas e mostre todas as temperaturas acima da média anual, e em que mês elas ocorreram (mostrar o mês por extenso: 1 – Janeiro, 2 – Fevereiro, . . . ).\n"
   ]
  },
  {
   "cell_type": "code",
   "execution_count": 37,
   "metadata": {},
   "outputs": [
    {
     "name": "stdout",
     "output_type": "stream",
     "text": [
      "Informe a temperatura média do mês 1: 10\n",
      "Informe a temperatura média do mês 2: 10\n",
      "Informe a temperatura média do mês 3: 10\n",
      "Informe a temperatura média do mês 4: 9\n",
      "Informe a temperatura média do mês 5: 9\n",
      "Informe a temperatura média do mês 6: 9\n",
      "Informe a temperatura média do mês 7: 15\n",
      "Informe a temperatura média do mês 8: 15\n",
      "Informe a temperatura média do mês 9: 15\n",
      "Informe a temperatura média do mês 10: 8\n",
      "Informe a temperatura média do mês 11: 8\n",
      "Informe a temperatura média do mês 12: 8\n",
      "\n",
      "A temperatura média anual foi de 10.50\n",
      "Meses com temperatura média maior que a média anual:\n",
      "    Mês 7 - Julho com 15.0 ºC\n",
      "    Mês 8 - Agosto com 15.0 ºC\n",
      "    Mês 9 - Setembro com 15.0 ºC\n"
     ]
    }
   ],
   "source": [
    "meses = [\"Janeiro\",\"Fevereiro\",\"Março\",\"Abril\",\"Maio\",\"Junho\",\"Julho\",\"Agosto\",\"Setembro\",\"Outubro\",\"Novembro\",\"Dezembro\"]\n",
    "soma = 0\n",
    "temperatura_mes = []\n",
    "\n",
    "for i in range(12):\n",
    "    temperatura_mes.append(float(input(\"Informe a temperatura média do mês {}: \".format(i+1))))\n",
    "    temp = temperatura_mes[i]\n",
    "    soma += temp\n",
    "    \n",
    "print(\"\\nA temperatura média anual foi de {0:5.2f}\".format(soma/12))\n",
    "print(\"Meses com temperatura média maior que a média anual:\")\n",
    "\n",
    "for i in range(12):\n",
    "    if temperatura_mes[i] > soma/12:\n",
    "        print(\"    Mês {} - {} com {} ºC\".format(i+1,meses[i],temperatura_mes[i]))\n"
   ]
  },
  {
   "cell_type": "markdown",
   "metadata": {},
   "source": [
    "# 14 - Utilizando listas faça um programa que faça 5 perguntas para uma pessoa sobre um crime. As perguntas são:\n",
    "\"Telefonou para a vítima?\"\n",
    "\n",
    "\"Esteve no local do crime?\"\n",
    "\n",
    "\"Mora perto da vítima?\"\n",
    "\n",
    "\"Devia para a vítima?\"\n",
    "\n",
    "\"Já trabalhou com a vítima?\" \n",
    "\n",
    "O programa deve no final emitir uma classificação sobre a participação da pessoa no crime. Se a pessoa responder positivamente a 2 questões ela deve ser classificada como \"Suspeita\", entre 3 e 4 como \"Cúmplice\" e 5 como \"Assassino\". Caso contrário, ele será classificado como \"Inocente\"."
   ]
  },
  {
   "cell_type": "code",
   "execution_count": 52,
   "metadata": {},
   "outputs": [
    {
     "name": "stdout",
     "output_type": "stream",
     "text": [
      "Você deverá responder a 5 perguntas com S para sim ou N para não: \n",
      "\n",
      "Telefonou para a vítima? s\n",
      "Esteve no local do crime? s\n",
      "Mora perto da vítima? s\n",
      "Devia para a vítima? S\n",
      "Já trabalhou com a vítima? n\n",
      "\n",
      "A classificação da pessoa analisada é: Cúmplice\n"
     ]
    }
   ],
   "source": [
    "perguntas = [\"Telefonou para a vítima? \",\"Esteve no local do crime? \",\"Mora perto da vítima? \",\"Devia para a vítima? \",\"Já trabalhou com a vítima? \"]\n",
    "evidencias=0\n",
    "\n",
    "print(\"Você deverá responder a 5 perguntas com S para sim ou N para não: \\n\")\n",
    "for p in perguntas:\n",
    "    resposta = input(p).lower()\n",
    "    if resposta == \"s\":\n",
    "        evidencias +=1\n",
    "        \n",
    "print(\"\\nA classificação da pessoa analisada é:\", end = \" \")\n",
    "if evidencias == 5:\n",
    "    print(\"Assassina\")\n",
    "elif evidencias == 3 or evidencias == 4:\n",
    "    print(\"Cúmplice\")\n",
    "elif evidencias == 2:\n",
    "    print(\"Suspeita\")\n",
    "else:\n",
    "    print(\"Inocente\")\n",
    "  "
   ]
  },
  {
   "cell_type": "markdown",
   "metadata": {},
   "source": [
    "# 15 - Faça um programa que leia um número indeterminado de valores, correspondentes a notas, encerrando a entrada de dados quando for informado um valor igual a -1 (que não deve ser armazenado). Após esta entrada de dados, faça:\n",
    "\n",
    "Mostre a quantidade de valores que foram lidos;\n",
    "\n",
    "Exiba todos os valores na ordem em que foram informados, um ao lado do outro;\n",
    "\n",
    "Exiba todos os valores na ordem inversa à que foram informados, um abaixo do outro;\n",
    "\n",
    "Calcule e mostre a soma dos valores;\n",
    "\n",
    "Calcule e mostre a média dos valores;\n",
    "\n",
    "Calcule e mostre a quantidade de valores acima da média calculada;\n",
    "\n",
    "Calcule e mostre a quantidade de valores abaixo de sete;\n",
    "\n",
    "Encerre o programa com uma mensagem;"
   ]
  },
  {
   "cell_type": "code",
   "execution_count": 16,
   "metadata": {},
   "outputs": [
    {
     "name": "stdout",
     "output_type": "stream",
     "text": [
      "Digite uma nota (utilize -1 para parar): 1\n",
      "Digite uma nota (utilize -1 para parar): 2\n",
      "Digite uma nota (utilize -1 para parar): 3\n",
      "Digite uma nota (utilize -1 para parar): 4\n",
      "Digite uma nota (utilize -1 para parar): 5\n",
      "Digite uma nota (utilize -1 para parar): 6\n",
      "Digite uma nota (utilize -1 para parar): 7\n",
      "Digite uma nota (utilize -1 para parar): 8\n",
      "Digite uma nota (utilize -1 para parar): 9\n",
      "Digite uma nota (utilize -1 para parar): 10\n",
      "Digite uma nota (utilize -1 para parar): -1\n",
      "\n",
      "Vamos iniciar os cálculos!\n",
      "\n",
      "Todos os valores na ordem em que foram informados, um ao lado do outro\n",
      "1.0 2.0 3.0 4.0 5.0 6.0 7.0 8.0 9.0 10.0 \n",
      "Todos os valores na ordem inversa à que foram informados, um abaixo do outro\n",
      "10.0\n",
      "9.0\n",
      "8.0\n",
      "7.0\n",
      "6.0\n",
      "5.0\n",
      "4.0\n",
      "3.0\n",
      "2.0\n",
      "1.0\n",
      "\n",
      "Soma dos valores = 55.0\n",
      "\n",
      "Média dos valores = 5.5\n",
      "\n",
      "Quantidade de valores acima da média calculada: 5\n",
      "\n",
      "Quantidade de valores valores abaixo de sete: 6\n",
      "\n",
      "That's all Folks!\n"
     ]
    }
   ],
   "source": [
    "notas = []\n",
    "soma = 0\n",
    "\n",
    "#Lendo as notas\n",
    "while True:\n",
    "    n = float(input(\"Digite uma nota (utilize -1 para parar): \"))\n",
    "    if n != -1:\n",
    "        notas.append(n)\n",
    "    else:\n",
    "        print(\"\\nVamos iniciar os cálculos!\")\n",
    "        break\n",
    "\n",
    "#Calculando a média\n",
    "for i in range(len(notas)):\n",
    "    soma += notas[i]\n",
    "\n",
    "#Imprimindo resultados\n",
    "print(\"\\nTodos os valores na ordem em que foram informados, um ao lado do outro\")\n",
    "for i in notas:\n",
    "    print(i, end=\" \")\n",
    "\n",
    "print(\"\\nTodos os valores na ordem inversa à que foram informados, um abaixo do outro\")\n",
    "for i in reversed(notas):\n",
    "    print(i)\n",
    "\n",
    "print(\"\\nSoma dos valores = {}\".format(soma))\n",
    "\n",
    "print(\"\\nMédia dos valores = {}\".format(soma/len(notas)))\n",
    "\n",
    "quant1 = 0\n",
    "for i in notas:\n",
    "    if i>soma/len(notas):\n",
    "        quant1 += 1\n",
    "print(\"\\nQuantidade de valores acima da média calculada: {}\".format(quant1))\n",
    "\n",
    "quant2 = 0\n",
    "for i in notas:\n",
    "    if i<7:\n",
    "        quant2 += 1   \n",
    "print(\"\\nQuantidade de valores valores abaixo de sete: {}\".format(quant2))\n",
    "    \n",
    "\n",
    "print(\"\\nThat's all Folks!\")\n"
   ]
  },
  {
   "cell_type": "markdown",
   "metadata": {},
   "source": [
    "# 16 - Utilize uma lista para resolver o problema a seguir. Uma empresa paga seus vendedores com base em comissões. O vendedor recebe 200 por semana mais 9 por cento de suas vendas brutas daquela semana. Por exemplo, um vendedor que teve vendas brutas de 3000 em uma semana recebe 200 mais 9 por cento de 3000, ou seja, um total de 470. Escreva um programa (usando um array de contadores) que determine quantos vendedores receberam salários nos seguintes intervalos de valores:\n",
    "\n",
    "200 - 299\n",
    "\n",
    "300 - 399\n",
    "\n",
    "400 - 499\n",
    "\n",
    "500 - 599\n",
    "\n",
    "600 - 699\n",
    "\n",
    "700 - 799\n",
    "\n",
    "800 - 899\n",
    "\n",
    "900 - 999\n",
    "\n",
    "1000 em diante\n",
    "\n",
    "Desafio: Crie uma fórmula para chegar na posição da lista a partir do salário, sem fazer vários ifs aninhados."
   ]
  },
  {
   "cell_type": "code",
   "execution_count": 6,
   "metadata": {},
   "outputs": [
    {
     "name": "stdout",
     "output_type": "stream",
     "text": [
      "Informe o número de vendedores: 4\n",
      "Informe o valor das vendas do vendedor 1: 3000\n",
      "Informe o valor das vendas do vendedor 2: 3000\n",
      "Informe o valor das vendas do vendedor 3: 20000\n",
      "Informe o valor das vendas do vendedor 4: 200\n",
      "\n",
      "Salários\n",
      "Salário do vendedor 1 será de R$     470.00\n",
      "Salário do vendedor 2 será de R$     470.00\n",
      "Salário do vendedor 3 será de R$    2000.00\n",
      "Salário do vendedor 4 será de R$     218.00\n",
      "\n",
      "Faixas salarias\n",
      "Faixa de R$  200 a R$  299: 1 salários \n",
      "Faixa de R$  300 a R$  399: 0 salários \n",
      "Faixa de R$  400 a R$  499: 2 salários \n",
      "Faixa de R$  500 a R$  599: 0 salários \n",
      "Faixa de R$  600 a R$  699: 0 salários \n",
      "Faixa de R$  700 a R$  799: 0 salários \n",
      "Faixa de R$  800 a R$  899: 0 salários \n",
      "Faixa de R$  900 a R$  999: 0 salários \n",
      "Faixa de R$ 1000 em diante: 1 salários \n"
     ]
    }
   ],
   "source": [
    "import math\n",
    "\n",
    "num_vendedores = int(input(\"Informe o número de vendedores: \"))\n",
    "salario_base = 200\n",
    "salarios = []\n",
    "faixa = {1:0, 2:0, 3:0, 4:0, 5:0, 6:0, 7:0, 8:0, 9:0}\n",
    "\n",
    "for i in range(num_vendedores):\n",
    "    vendas = float(input(\"Informe o valor das vendas do vendedor {}: \".format(i+1)))\n",
    "    salarios.append((vendas*0.09)+salario_base)\n",
    "    #Foi criado um indice de salário variando de 1 a 9\n",
    "    indice = math.ceil(vendas*0.9/1000)  \n",
    "    #Se o salário foi muito alto, ele entra automaticamente na faixa 9\n",
    "    if indice>=9:\n",
    "        indice = 9\n",
    "    faixa.setdefault(indice,0)\n",
    "    faixa[indice] = faixa[indice] + 1\n",
    "\n",
    "print(\"\\nSalários\")\n",
    "for v,i in enumerate(salarios):\n",
    "    print(\"Salário do vendedor {} será de R$ {:10.2f}\".format(v+1,i))    \n",
    "\n",
    "print(\"\\nFaixas salarias\")\n",
    "for i in range(len(faixa)):\n",
    "    if i==8:\n",
    "        print(\"Faixa de R${:>5} em diante: {} salários \".format(salario_base+100*i,faixa[i+1]))\n",
    "    else:\n",
    "        print(\"Faixa de R${:>5} a R${:>5}: {} salários \".format(salario_base+100*i,(salario_base+100*i)+99,faixa[i+1]))\n",
    " "
   ]
  },
  {
   "cell_type": "markdown",
   "metadata": {},
   "source": [
    "# 17 - Em uma competição de salto em distância cada atleta tem direito a cinco saltos. O resultado do atleta será determinado pela média dos cinco valores restantes. Você deve fazer um programa que receba o nome e as cinco distâncias alcançadas pelo atleta em seus saltos e depois informe o nome, os saltos e a média dos saltos. O programa deve ser encerrado quando não for informado o nome do atleta. A saída do programa deve ser conforme o exemplo abaixo:\n",
    "\n",
    "Atleta: Rodrigo Curvêllo\n",
    " \n",
    "Primeiro Salto: 6.5 m\n",
    "\n",
    "Segundo Salto: 6.1 m\n",
    "\n",
    "Terceiro Salto: 6.2 m\n",
    "\n",
    "Quarto Salto: 5.4 m\n",
    "\n",
    "Quinto Salto: 5.3 m\n",
    "\n",
    "\n",
    "**Resultado final:**\n",
    "\n",
    "**Atleta: Rodrigo Curvêllo**\n",
    "\n",
    "**Saltos: 6.5 - 6.1 - 6.2 - 5.4 - 5.3**\n",
    "\n",
    "**Média dos saltos: 5.9 m**"
   ]
  },
  {
   "cell_type": "code",
   "execution_count": 21,
   "metadata": {},
   "outputs": [
    {
     "name": "stdout",
     "output_type": "stream",
     "text": [
      "Informe o nome do atleta: Rodrigo\n",
      "Informe o valor do salto nº 1: 6.3\n",
      "Informe o valor do salto nº 2: 6.2\n",
      "Informe o valor do salto nº 3: 6.1\n",
      "Informe o valor do salto nº 4: 6.0\n",
      "Informe o valor do salto nº 5: 6.5\n",
      "\n",
      "Resultado final\n",
      "Atleta: Rodrigo\n",
      "Saltos:  6.3 m 6.2 m 6.1 m 6.0 m 6.5 m \n",
      "Média dos saltos:  6.22 m\n"
     ]
    }
   ],
   "source": [
    "import sys\n",
    "saltos = []\n",
    "soma = 0\n",
    "\n",
    "nome = input(\"Informe o nome do atleta: \")\n",
    "if nome==\"\":\n",
    "    sys.exit(\"Nome não informado\")\n",
    "for i in range(5):\n",
    "    s = float(input(\"Informe o valor do salto nº {}: \".format(i+1)))\n",
    "    saltos.append(s)\n",
    "    soma += s\n",
    "\n",
    "print(\"\\nResultado final\")\n",
    "print(\"Atleta: {}\".format(nome))\n",
    "print(\"Saltos: \", end=\" \")\n",
    "for i in saltos:\n",
    "    print(i, end=\" m \")\n",
    "print(\"\\nMédia dos saltos: {:5.2f} m\".format(soma/len(saltos)))\n"
   ]
  },
  {
   "attachments": {
    "list%204%20-%20exec%2018.JPG": {
     "image/jpeg": "[encoded data removed]"
    }
   },
   "cell_type": "markdown",
   "metadata": {},
   "source": [
    "# 18 - Uma grande emissora de televisão quer fazer uma enquete entre os seus telespectadores para saber qual o melhor jogador após cada jogo. Para isto, faz-se necessário o desenvolvimento de um programa, que será utilizado pelas telefonistas, para a computação dos votos. Sua equipe foi contratada para desenvolver este programa, utilizando a linguagem de programação C++. Para computar cada voto, a telefonista digitará um número, entre 1 e 23, correspondente ao número da camisa do jogador. Um número de jogador igual zero, indica que a votação foi encerrada. Se um número inválido for digitado, o programa deve ignorá-lo, mostrando uma breve mensagem de aviso, e voltando a pedir outro número. Após o final da votação, o programa deverá exibir:\n",
    "a - O total de votos computados;\n",
    "\n",
    "b - Os númeos e respectivos votos de todos os jogadores que receberam votos;\n",
    "\n",
    "c - O percentual de votos de cada um destes jogadores;\n",
    "\n",
    "d - O número do jogador escolhido como o melhor jogador da partida, juntamente com o número de votos e o percentual de votos dados a ele.\n",
    "\n",
    "Observe que os votos inválidos e o zero final não devem ser computados como votos. O resultado aparece ordenado pelo número do jogador. O programa deve fazer uso de arrays. O programa deverá executar o cálculo do percentual de cada jogador através de uma função. Esta função receberá dois parâmetros: o número de votos de um jogador e o total de votos. A função calculará o percentual e retornará o valor calculado. Abaixo segue uma tela de exemplo. O disposição das informações deve ser o mais próxima possível ao exemplo. Os dados são fictícios e podem mudar a cada execução do programa. Ao final, o programa deve ainda gravar os dados referentes ao resultado da votação em um arquivo texto no disco, obedecendo a mesma disposição apresentada na tela.\n",
    "\n",
    "![list%204%20-%20exec%2018.JPG](attachment:list%204%20-%20exec%2018.JPG)"
   ]
  },
  {
   "cell_type": "code",
   "execution_count": 29,
   "metadata": {},
   "outputs": [
    {
     "name": "stdout",
     "output_type": "stream",
     "text": [
      "Enquete: Quem foi o melhor jogador?\n",
      "Informe o voto. São válidos números de 1 a 23. 1\n",
      "Voto computado\n",
      "Informe o voto. São válidos números de 1 a 23. 2\n",
      "Voto computado\n",
      "Informe o voto. São válidos números de 1 a 23. 2\n",
      "Voto computado\n",
      "Informe o voto. São válidos números de 1 a 23. 3\n",
      "Voto computado\n",
      "Informe o voto. São válidos números de 1 a 23. 3\n",
      "Voto computado\n",
      "Informe o voto. São válidos números de 1 a 23. 3\n",
      "Voto computado\n",
      "Informe o voto. São válidos números de 1 a 23. 4\n",
      "Voto computado\n",
      "Informe o voto. São válidos números de 1 a 23. 4\n",
      "Voto computado\n",
      "Informe o voto. São válidos números de 1 a 23. 4\n",
      "Voto computado\n",
      "Informe o voto. São válidos números de 1 a 23. 4\n",
      "Voto computado\n",
      "Informe o voto. São válidos números de 1 a 23. 0\n",
      "\n",
      "Vamos iniciar a apuração!\n",
      "\n",
      "Resultado da votação\n",
      "Foram computados 10 votos\n",
      "Jogador Votos    %\n",
      "    1     1    10.00%\n",
      "    2     2    20.00%\n",
      "    3     3    30.00%\n",
      "    4     4    40.00%\n",
      "O melhor jogador foi o número 4 com 4 votos\n"
     ]
    }
   ],
   "source": [
    "'''ATENÇÃO: \n",
    "Esse exercício foi colocado incorretamente nessa lista pelo organizado do site Python Brasil.\n",
    "Ele pede a utilização de funções que só aparecem nas próximas listas.\n",
    "Assim, o exercício será feito utilizando listas'''\n",
    "\n",
    "#Recebendo os votos\n",
    "votos = []\n",
    "print(\"Enquete: Quem foi o melhor jogador?\")\n",
    "while True:\n",
    "    n = int(input(\"Informe o voto. São válidos números de 1 a 23. \"))\n",
    "    if n>=1 and n<=23:\n",
    "        votos.append(n)\n",
    "        print(\"Voto computado\")\n",
    "    elif n==0:\n",
    "        print(\"\\nVamos iniciar a apuração!\")\n",
    "        break\n",
    "    else:\n",
    "        print(\"\\nATENÇÃO: Número inválido. \\nSão válidos números de 1 a 23 (utilize 0 para parar).\\n\")\n",
    "\n",
    "#Foi criado um dicionário e o método setdefault para organizar a apuração.\n",
    "apuração = {}\n",
    "for i in votos:\n",
    "    apuração.setdefault(i,0)\n",
    "    apuração[i] = apuração[i]+1\n",
    "\n",
    "print(\"\\nResultado da votação\")\n",
    "print(\"Foram computados {} votos\".format(len(votos)))\n",
    "\n",
    "print(\"Jogador Votos    %\")\n",
    "for i, k in apuração.items():\n",
    "    print(\"    {}     {}    {:5.2f}%\".format(i, k, (k/len(votos)*100)))\n",
    "\n",
    "#A função MAX do Python foi utilizada no dicinário apuração para encontrar o mais votado\n",
    "#O conteúdo da variável mais_votado é a chave do jogador mais votado \n",
    "mais_votado = apuração[max(apuração, key=apuração.get)]    \n",
    "print(\"O melhor jogador foi o número {} com {} votos\".format(mais_votado, apuração[mais_votado]))\n"
   ]
  },
  {
   "attachments": {
    "list%204%20-%20exec%2019.JPG": {
     "image/jpeg": "[encoded data removed]"
    }
   },
   "cell_type": "markdown",
   "metadata": {},
   "source": [
    "# 19 - Uma empresa de pesquisas precisa tabular os resultados da seguinte enquete feita a um grande quantidade de organizações:\n",
    "\n",
    "\"Qual o melhor Sistema Operacional para uso em servidores?\"\n",
    "\n",
    "As possíveis respostas são:\n",
    "\n",
    "1- Windows Server\n",
    "\n",
    "2- Unix\n",
    "\n",
    "3- Linux\n",
    "\n",
    "4- Netware\n",
    "\n",
    "5- Mac OS\n",
    "\n",
    "6- Outro\n",
    "\n",
    "Você foi contratado para desenvolver um programa que leia o resultado da enquete e informe ao final o resultado da mesma. O programa deverá ler os valores até ser informado o valor 0, que encerra a entrada dos dados. Não deverão ser aceitos valores além dos válidos para o programa (0 a 6). Os valores referentes a cada uma das opções devem ser armazenados num vetor. Após os dados terem sido completamente informados, o programa deverá calcular a percentual de cada um dos concorrentes e informar o vencedor da enquete. O formato da saída foi dado pela empresa, e é o seguinte:\n",
    "\n",
    "![list%204%20-%20exec%2019.JPG](attachment:list%204%20-%20exec%2019.JPG)"
   ]
  },
  {
   "cell_type": "code",
   "execution_count": 109,
   "metadata": {},
   "outputs": [
    {
     "name": "stdout",
     "output_type": "stream",
     "text": [
      "Qual o melhor Sistema Operacional para uso em servidores?\n",
      "As possíveis respostas são: \n",
      "1- Windows Server \n",
      "2- Unix \n",
      "3- Linux \n",
      "4- Netware \n",
      "5- Mac OS \n",
      "6- Outro\n",
      "\n",
      "Informe sua escolha. São válidos números de 1 a 6 (utilize 0 para parar): 1\n",
      "Voto computado\n",
      "Informe sua escolha. São válidos números de 1 a 6 (utilize 0 para parar): 2\n",
      "Voto computado\n",
      "Informe sua escolha. São válidos números de 1 a 6 (utilize 0 para parar): 2\n",
      "Voto computado\n",
      "Informe sua escolha. São válidos números de 1 a 6 (utilize 0 para parar): 3\n",
      "Voto computado\n",
      "Informe sua escolha. São válidos números de 1 a 6 (utilize 0 para parar): 3\n",
      "Voto computado\n",
      "Informe sua escolha. São válidos números de 1 a 6 (utilize 0 para parar): 3\n",
      "Voto computado\n",
      "Informe sua escolha. São válidos números de 1 a 6 (utilize 0 para parar): 4\n",
      "Voto computado\n",
      "Informe sua escolha. São válidos números de 1 a 6 (utilize 0 para parar): 4\n",
      "Voto computado\n",
      "Informe sua escolha. São válidos números de 1 a 6 (utilize 0 para parar): 4\n",
      "Voto computado\n",
      "Informe sua escolha. São válidos números de 1 a 6 (utilize 0 para parar): 4\n",
      "Voto computado\n",
      "Informe sua escolha. São válidos números de 1 a 6 (utilize 0 para parar): 9\n",
      "\n",
      "ATENÇÃO: Número inválido. \n",
      "São válidos números de 1 a 6 (utilize 0 para parar).\n",
      "\n",
      "Informe sua escolha. São válidos números de 1 a 6 (utilize 0 para parar): 0\n",
      "\n",
      "Vamos iniciar a apuração!\n",
      "\n",
      "Resultado da votação\n",
      "Foram computados 10 votos\n",
      "Sistema operacional         Votos      %\n",
      "Windows Server                1      10.0%\n",
      "Unix                          2      20.0%\n",
      "Linux                         3      30.0%\n",
      "Netware                       4      40.0%\n",
      "Mac OS                        0       0.0%\n",
      "Outro                         0       0.0%\n",
      "O sistema operacional mais votado foi o Netware com 4 votos que corresponde a 40.0% dos votos.\n"
     ]
    }
   ],
   "source": [
    "#Recebendo os votos\n",
    "votos = []\n",
    "print(\"Qual o melhor Sistema Operacional para uso em servidores?\")\n",
    "print(\"As possíveis respostas são: \\n1- Windows Server \\n2- Unix \\n3- Linux \\n4- Netware \\n5- Mac OS \\n6- Outro\\n\")\n",
    "\n",
    "while True:\n",
    "    n = int(input(\"Informe sua escolha. São válidos números de 1 a 6 (utilize 0 para parar): \"))\n",
    "    if n>=1 and n<=6:\n",
    "        votos.append(n)\n",
    "        print(\"Voto computado\")\n",
    "    elif n==0:\n",
    "        print(\"\\nVamos iniciar a apuração!\")\n",
    "        break\n",
    "    else:\n",
    "        print(\"\\nATENÇÃO: Número inválido. \\nSão válidos números de 1 a 6 (utilize 0 para parar).\\n\")\n",
    "\n",
    "#Foi criado um dicionário e o método setdefault para organizar a apuração.\n",
    "apuração = {}\n",
    "for i in votos:\n",
    "    apuração.setdefault(i,0)\n",
    "    apuração[i] = apuração[i]+1\n",
    "\n",
    "#Verificando se a chave existe e, se não existirem, cria com valor 0\n",
    "for i in range(1,7):\n",
    "    apuração.setdefault(i,0)\n",
    "\n",
    "#Criando novas chaves\n",
    "apuração[\"Windows Server\"] =apuração[1]\n",
    "apuração[\"Unix\"] =apuração[2]\n",
    "apuração[\"Linux\"] =apuração[3]\n",
    "apuração[\"Netware\"] =apuração[4]\n",
    "apuração[\"Mac OS\"] =apuração[5]\n",
    "apuração[\"Outro\"] =apuração[6]\n",
    "\n",
    "#Apagando chaves antigas\n",
    "for i in range(1,7):\n",
    "    del apuração[i]\n",
    "\n",
    "print(\"\\nResultado da votação\")\n",
    "print(\"Foram computados {} votos\".format(len(votos)))\n",
    "\n",
    "print(\"Sistema operacional         Votos      %\")\n",
    "for i, k in apuração.items():\n",
    "    print(\"{:<17}             {:<3}    {:>4.1f}%\".format(i, k, (k/len(votos)*100)))\n",
    "\n",
    "#Percorremos o dicionário apuracao para encontrar a chave e o valor do mais votado\n",
    "#Modo mais simples de entender do que o do exemplo anterior\n",
    "mais_votos = 0\n",
    "for k,v in apuração.items():\n",
    "    if v > maior:\n",
    "        mais_votado = k \n",
    "        mais_votos = v\n",
    "\n",
    "print(\"O sistema operacional mais votado foi o {} com {} votos que corresponde a {:4.1f}% dos votos.\".format(mais_votado,mais_votos,(mais_votos/len(votos)*100)))"
   ]
  },
  {
   "attachments": {
    "list%204%20-%20exec%2020.JPG": {
     "image/jpeg": "[encoded data removed]"
    }
   },
   "cell_type": "markdown",
   "metadata": {},
   "source": [
    "# 20 - As Organizações Tabajara resolveram dar um abono aos seus colaboradores em reconhecimento ao bom resultado alcançado durante o ano que passou. Para isto contratou você para desenvolver a aplicação que servirá como uma projeção de quanto será gasto com o pagamento deste abono.\n",
    "Após reuniões envolvendo a diretoria executiva, a diretoria financeira e os representantes do sindicato laboral, chegou-se a seguinte forma de cálculo:\n",
    "\n",
    "a.Cada funcionário receberá o equivalente a 20% do seu salário bruto de dezembro; \n",
    "\n",
    "b.O piso do abono será de 100 reais, isto é, aqueles funcionários cujo salário for muito baixo, recebem este valor mínimo; Neste momento, não se deve ter nenhuma preocupação com colaboradores com tempo menor de casa, descontos, impostos ou outras particularidades. \n",
    "\n",
    "Seu programa deverá permitir a digitação do salário de um número indefinido (desconhecido) de salários. \n",
    "\n",
    "Um valor de salário igual a 0 (zero) encerra a digitação. Após a entrada de todos os dados o programa deverá calcular o valor do abono concedido a cada colaborador, de acordo com a regra definida acima. Ao final, o programa deverá apresentar:\n",
    "\n",
    "* O salário de cada funcionário, juntamente com o valor do abono;\n",
    "* O número total de funcionário processados;\n",
    "* O valor total a ser gasto com o pagamento do abono;\n",
    "* O número de funcionário que receberá o valor mínimo de 100 reais;\n",
    "* O maior valor pago como abono; A tela abaixo é um exemplo de execução do programa, apenas para fins ilustrativos. Os valores podem mudar a cada execução do programa.\n",
    "\n",
    "![list%204%20-%20exec%2020.JPG](attachment:list%204%20-%20exec%2020.JPG)"
   ]
  },
  {
   "cell_type": "code",
   "execution_count": 8,
   "metadata": {},
   "outputs": [
    {
     "name": "stdout",
     "output_type": "stream",
     "text": [
      "Projeção de Gastos com Abono\n",
      "============================\n",
      "Informe o valor do salário (utilize 0 para parar): 10000\n",
      "Informe o valor do salário (utilize 0 para parar): 5000\n",
      "Informe o valor do salário (utilize 0 para parar): 2000\n",
      "Informe o valor do salário (utilize 0 para parar): 100\n",
      "Informe o valor do salário (utilize 0 para parar): 10\n",
      "Informe o valor do salário (utilize 0 para parar): 1000\n",
      "Informe o valor do salário (utilize 0 para parar): 150\n",
      "Informe o valor do salário (utilize 0 para parar): 0\n",
      "\n",
      "Iniciando o processamento dos abonos.\n",
      "Salario         Abono\n",
      "R$   10000.00 - R$    2000.00\n",
      "R$    5000.00 - R$    1000.00\n",
      "R$    2000.00 - R$     400.00\n",
      "R$     100.00 - R$     100.00\n",
      "R$      10.00 - R$     100.00\n",
      "R$    1000.00 - R$     200.00\n",
      "R$     150.00 - R$     100.00\n",
      "Foram processados 7 colaboradores\n",
      "Valor mínimo pago a 3 colaboradores\n",
      "Total gasto com abonos:    R$    3900.00\n",
      "Maior valor de abono pago: R$    2000.00\n"
     ]
    }
   ],
   "source": [
    "salarios = []\n",
    "\n",
    "print(\"Projeção de Gastos com Abono\")\n",
    "print(\"============================\")\n",
    "\n",
    "#Lendo os salários \n",
    "while True:\n",
    "    n = float(input(\"Informe o valor do salário (utilize 0 para parar): \"))\n",
    "    if n != 0:\n",
    "        salarios.append(n)\n",
    "    else:\n",
    "        print(\"\\nIniciando o processamento dos abonos.\")\n",
    "        break\n",
    "\n",
    "total_abono = 0\n",
    "abono_min = 0\n",
    "abono_max = 0\n",
    "print(\"Salario         Abono\")\n",
    "for i in salarios:\n",
    "    #Testando valores de salário com valor de abono igual ao piso\n",
    "    if i <=300:\n",
    "        print(\"R$ {:>10.2f} - R$ {:>10.2f}\".format(i,100.00))\n",
    "        total_abono += 100\n",
    "        abono_min += 1\n",
    "    #Abono acima do piso\n",
    "    else:\n",
    "        print(\"R$ {:>10.2f} - R$ {:>10.2f}\".format(i, i*0.2))\n",
    "        total_abono += i*0.2\n",
    "    #Encontrando valor máximo do abono\n",
    "    if i > abono_max:\n",
    "        abono_max = i\n",
    "\n",
    "print(\"Foram processados {} colaboradores\".format(len(salarios)))\n",
    "print(\"Valor mínimo pago a {} colaboradores\".format(abono_min))\n",
    "print(\"Total gasto com abonos:    R$ {:>10.2f}\".format(total_abono))\n",
    "print(\"Maior valor de abono pago: R$ {:>10.2f}\".format(abono_max*0.2))\n",
    "        "
   ]
  },
  {
   "attachments": {
    "list%204%20-%20exec%2021.JPG": {
     "image/jpeg": "[encoded data removed]"
    }
   },
   "cell_type": "markdown",
   "metadata": {},
   "source": [
    "# 21 - Faça um programa que carregue uma lista com os modelos de cinco carros (exemplo de modelos: FUSCA, GOL, VECTRA etc). Carregue uma outra lista com o consumo desses carros, isto é, quantos quilômetros cada um desses carros faz com um litro de combustível. Calcule e mostre:\n",
    "\n",
    "* O modelo do carro mais econômico;\n",
    "* Quantos litros de combustível cada um dos carros cadastrados consome para percorrer uma distância de 1000 quilômetros e \n",
    "* Quanto isto custará, considerando um que a gasolina custe R$ 2,25 o litro. \n",
    "\n",
    "Abaixo segue uma tela de exemplo. O disposição das informações deve ser o mais próxima possível ao exemplo. Os dados são fictícios e podem mudar a cada execução do programa.\n",
    "\n",
    "![list%204%20-%20exec%2021.JPG](attachment:list%204%20-%20exec%2021.JPG)"
   ]
  },
  {
   "cell_type": "code",
   "execution_count": 19,
   "metadata": {},
   "outputs": [
    {
     "name": "stdout",
     "output_type": "stream",
     "text": [
      "Comparativo de Consumo de Combustível\n",
      "\n",
      "Veículo: Chevrolet Onix\n",
      "Consumo em km/l: 20\n",
      "\n",
      "Veículo: Hyundai HB20\n",
      "Consumo em km/l: 10\n",
      "\n",
      "Veículo: Peugeot 2008\n",
      "Consumo em km/l: 30\n",
      "\n",
      "Veículo: Toyota Yaris\n",
      "Consumo em km/l: 15\n",
      "\n",
      "Veículo: VW Polo\n",
      "Consumo em km/l: 12\n",
      "\n",
      "Relatório final\n",
      "1 - Chevrolet Onix    -   50.00 litros - R$     112.50\n",
      "2 - Hyundai HB20      -  100.00 litros - R$     225.00\n",
      "3 - Peugeot 2008      -   33.33 litros - R$      75.00\n",
      "4 - Toyota Yaris      -   66.67 litros - R$     150.00\n",
      "5 - VW Polo           -   83.33 litros - R$     187.50\n",
      "O menor consumo é do Peugeot 2008.\n"
     ]
    }
   ],
   "source": [
    "print(\"Comparativo de Consumo de Combustível\")\n",
    "carro = [\"Chevrolet Onix\", \"Hyundai HB20\", \"Peugeot 2008\", \"Toyota Yaris\",\"VW Polo\"]\n",
    "consumo = []\n",
    "\n",
    "for i in carro:\n",
    "    print(\"\\nVeículo: {}\".format(i))\n",
    "    n = float(input(\"Consumo em km/l: \"))\n",
    "    if n>0:\n",
    "        consumo.append(n)\n",
    "    else:\n",
    "        print(\"Valor deve ser maior que zero!\")\n",
    "        print(\"\\nVeículo: {}\".format(i))\n",
    "        n = float(input(\"Consumo em km/l: \"))\n",
    "        while n<=0:\n",
    "            print(\"Valor deve ser maior que zero!\")\n",
    "            print(\"\\nVeículo: {}\".format(i))\n",
    "            n = float(input(\"Consumo em km/l: \"))\n",
    "\n",
    "print(\"\\nRelatório final\")\n",
    "valor_gasolina = 2.25\n",
    "distancia = 1000\n",
    "n = 1\n",
    "melhor = consumo[0]\n",
    "econ = \"\"\n",
    "for i in range(5):\n",
    "    print(\"{} - {:<17} - {:>7.2f} litros - R$ {:>10.2f}\".format(n,carro[i],distancia/consumo[i],(distancia/consumo[i])*valor_gasolina))\n",
    "    n +=1\n",
    "    if consumo[i]>melhor:\n",
    "        econ = carro[i]\n",
    "print(\"O menor consumo é do {}.\".format(econ))"
   ]
  },
  {
   "attachments": {
    "list%204%20-%20exec%2022.JPG": {
     "image/jpeg": "[encoded data removed]"
    }
   },
   "cell_type": "markdown",
   "metadata": {},
   "source": [
    "# 22 - Sua organização acaba de contratar um estagiário para trabalhar no Suporte de Informática, com a intenção de fazer um levantamento nas sucatas encontradas nesta área. A primeira tarefa dele é testar todos os cerca de 200 mouses que se encontram lá, testando e anotando o estado de cada um deles, para verificar o que se pode aproveitar deles.\n",
    "Foi requisitado que você desenvolva um programa para registrar este levantamento. \n",
    "\n",
    "O programa deverá receber um número indeterminado de entradas, cada uma contendo: um número de identificação do mouse o tipo de defeito:\n",
    "\n",
    "* necessita da esfera;\n",
    "* necessita de limpeza; \n",
    "* necessita troca do cabo ou conector; \n",
    "* quebrado ou inutilizado \n",
    "\n",
    "Uma identificação igual a zero encerra o programa. \n",
    "Ao final o programa deverá emitir o seguinte relatório:\n",
    "\n",
    "![list%204%20-%20exec%2022.JPG](attachment:list%204%20-%20exec%2022.JPG)"
   ]
  },
  {
   "cell_type": "code",
   "execution_count": 18,
   "metadata": {},
   "outputs": [
    {
     "name": "stdout",
     "output_type": "stream",
     "text": [
      "\n",
      "Informe o código do item (0 para parar): 1\n",
      "Informe o estado o item:         \n",
      "1-necessita da esfera\n",
      "2-necessita de limpeza\n",
      "3-necessita troca do cabo ou conector\n",
      "4-quebrado ou inutilizado 1\n",
      "\n",
      "Informe o código do item (0 para parar): 1\n",
      "Código inválido ou repetido!\n",
      "\n",
      "Informe o código do item (0 para parar): 2\n",
      "Informe o estado o item:             \n",
      "1-necessita da esfera\n",
      "2-necessita de limpeza\n",
      "3-necessita troca do cabo ou conector\n",
      "4-quebrado ou inutilizado 2\n",
      "\n",
      "Informe o código do item (0 para parar): 3\n",
      "Informe o estado o item:         \n",
      "1-necessita da esfera\n",
      "2-necessita de limpeza\n",
      "3-necessita troca do cabo ou conector\n",
      "4-quebrado ou inutilizado 3\n",
      "\n",
      "Informe o código do item (0 para parar): 4\n",
      "Informe o estado o item:         \n",
      "1-necessita da esfera\n",
      "2-necessita de limpeza\n",
      "3-necessita troca do cabo ou conector\n",
      "4-quebrado ou inutilizado 4\n",
      "\n",
      "Informe o código do item (0 para parar): 5\n",
      "Informe o estado o item:         \n",
      "1-necessita da esfera\n",
      "2-necessita de limpeza\n",
      "3-necessita troca do cabo ou conector\n",
      "4-quebrado ou inutilizado 5\n",
      "\n",
      "Informe o código do item (0 para parar): 0\n",
      "\n",
      "Quantidade de mouses: 5\n",
      "Situação                            Quantidade              Percentual\n",
      "1- necessita da esfera                   1                      20.0%\n",
      "2- necessita de limpeza                  1                      20.0%\n",
      "3- necessita troca do cabo ou conector   1                      20.0%\n",
      "4- quebrado ou inutilizado               1                      20.0%\n",
      "\n",
      "Quantidade de estados não reconhecidos: 1\n",
      "Isso equivale a 20.0% do total\n"
     ]
    }
   ],
   "source": [
    "identificacao = []\n",
    "situacao = []\n",
    "\n",
    "while True:\n",
    "    cod = int(input(\"\\nInforme o código do item (0 para parar): \"))\n",
    "    if cod > 0 and cod not in identificacao:\n",
    "        identificacao.append(cod)\n",
    "        sit = int(input(\"Informe o estado o item: \\\n",
    "        \\n1-necessita da esfera\\n2-necessita de limpeza\\n3-necessita troca do cabo ou conector\\n4-quebrado ou inutilizado \"))\n",
    "        situacao.append(sit)  \n",
    "    elif cod == 0:\n",
    "        break\n",
    "    else:\n",
    "        print(\"Código inválido ou repetido!\")\n",
    "        cod = int(input(\"\\nInforme o código do item (0 para parar): \"))\n",
    "        while cod < 0 or cod in identificacao:\n",
    "            print(\"Código inválido ou repetido!\")\n",
    "            cod = int(input(\"\\nInforme o código do item (0 para parar): \"))\n",
    "        if cod == 0:\n",
    "            break\n",
    "        else:\n",
    "            identificacao.append(cod) \n",
    "            sit = int(input(\"Informe o estado o item: \\\n",
    "            \\n1-necessita da esfera\\n2-necessita de limpeza\\n3-necessita troca do cabo ou conector\\n4-quebrado ou inutilizado \"))\n",
    "            situacao.append(sit)\n",
    "\n",
    "print(\"\\nQuantidade de mouses: {}\".format(len(identificacao)))           \n",
    "print(\"Situação                            Quantidade              Percentual\")\n",
    "print(\"1- necessita da esfera                   {}                      {:4.1f}%\".format(situacao.count(1),(situacao.count(1)/len(situacao))*100))\n",
    "print(\"2- necessita de limpeza                  {}                      {:4.1f}%\".format(situacao.count(2),(situacao.count(2)/len(situacao))*100))\n",
    "print(\"3- necessita troca do cabo ou conector   {}                      {:4.1f}%\".format(situacao.count(3),(situacao.count(3)/len(situacao))*100))\n",
    "print(\"4- quebrado ou inutilizado               {}                      {:4.1f}%\".format(situacao.count(4),(situacao.count(4)/len(situacao))*100))\n",
    "\n",
    "#Calculando o número de estados que não correspondem aos 4 citados\n",
    "erros = len(situacao) - situacao.count(1) - situacao.count(2) - situacao.count(3) - situacao.count(4)\n",
    "print(\"\\nQuantidade de estados não reconhecidos: {}\\nIsso equivale a {:4.1f}% do total\".format(erros, (erros/len(situacao))*100))\n",
    "   "
   ]
  },
  {
   "attachments": {
    "list%204%20-%20exec%2023.JPG": {
     "image/jpeg": "[encoded data removed]"
    }
   },
   "cell_type": "markdown",
   "metadata": {},
   "source": [
    "# 23 - A ACME Inc., uma empresa de 500 funcionários, está tendo problemas de espaço em disco no seu servidor de arquivos. Para tentar resolver este problema, o Administrador de Rede precisa saber qual o espaço ocupado pelos usuários, e identificar os usuários com maior espaço ocupado. Através de um programa, baixado da Internet, ele conseguiu gerar o seguinte arquivo, chamado \"usuarios.txt\":\n",
    "\n",
    "\n",
    "* alexandre       456123789\n",
    "* anderson        1245698456\n",
    "* antonio         123456456\n",
    "* carlos          91257581\n",
    "* cesar           987458\n",
    "* rosemary        789456125\n",
    "\n",
    "Neste arquivo, o nome do usuário possui 15 caracteres. A partir deste arquivo, você deve criar um programa que gere um relatório, chamado \"relatório.txt\", no seguinte formato:\n",
    "\n",
    "![list%204%20-%20exec%2023.JPG](attachment:list%204%20-%20exec%2023.JPG)"
   ]
  },
  {
   "cell_type": "code",
   "execution_count": 1,
   "metadata": {},
   "outputs": [
    {
     "name": "stdout",
     "output_type": "stream",
     "text": [
      "ACME Inc.                          Uso do espaço em disco pelos usuários\n",
      "------------------------------------------------------------------------\n",
      "Número do Usuário          Espaço utilizado                     % do uso\n",
      "alexandre                         435.01 MB                      16.85 %\n",
      "anderson                         1188.02 MB                      46.02 %\n",
      "antonio                           117.74 MB                       4.56 %\n",
      "carlos                             87.03 MB                       3.37 %\n",
      "cesar                               0.94 MB                       0.04 %\n",
      "rosemary                          752.90 MB                      29.16 %\n",
      "Espaço total ocupado:    2581.65 MB\n",
      "Espaço médio ocupado:     430.27 MB\n"
     ]
    }
   ],
   "source": [
    "# Conversão de valores: 1000000 Bytes = 0.9537 Megabytes. \n",
    "# Fonte: https://convertlive.com/pt/u/converter/bytes/em/megabytes#1245698456\n",
    "\n",
    "#Abrindo arquivo\n",
    "arquivo = open(\"C:\\\\Users\\\\rodri\\\\OneDrive\\\\Python\\\\Exercícios\\\\usuarios.txt\")\n",
    "\n",
    "#Lendo linhas e fechando arquivo\n",
    "linhas = []\n",
    "for i in arquivo:\n",
    "    i = i.split()\n",
    "    linhas.append(i)\n",
    "arquivo.close()\n",
    "\n",
    "#Convertendo bytes em MB \n",
    "soma = 0\n",
    "for e in linhas:\n",
    "    e[1] = (float(e[1])*0.9537)/1000000\n",
    "    soma += e[1]\n",
    "\n",
    "#Imprimindo resultado na tela\n",
    "print(\"ACME Inc.                          Uso do espaço em disco pelos usuários\")\n",
    "print(\"------------------------------------------------------------------------\")\n",
    "print(\"Número do Usuário          Espaço utilizado                     % do uso\")\n",
    "for i in linhas:\n",
    "    print(\"{:<15}               {:>10.2f} MB                      {:>5.2f} %\".format(i[0],i[1],(i[1]/soma)*100))\n",
    "print(\"Espaço total ocupado: {:10.2f} MB\".format(soma))\n",
    "print(\"Espaço médio ocupado: {:10.2f} MB\".format(soma/len(linhas)))\n",
    "\n",
    "#Gravando os dados no arquivo relatorio.txt\n",
    "saida = open('relatorio.txt', 'w')\n",
    "saida.write(\"ACME Inc.                          Uso do espaço em disco pelos usuários\\n\")\n",
    "saida.write(\"------------------------------------------------------------------------\\n\")\n",
    "saida.write(\"Número do Usuário          Espaço utilizado                     % do uso\\n\")\n",
    "for i in linhas:\n",
    "    saida.write(\"{:<15}               {:>10.2f} MB                      {:>5.2f} %\\n\".format(i[0],i[1],(i[1]/soma)*100))\n",
    "saida.write(\"Espaço total ocupado: {:10.2f} MB\\n\".format(soma))\n",
    "saida.write(\"Espaço médio ocupado: {:10.2f} MB\\n\".format(soma/len(linhas)))\n",
    "saida.close()"
   ]
  },
  {
   "cell_type": "markdown",
   "metadata": {},
   "source": [
    "# 24 - Faça um programa que simule um lançamento de dados. Lance o dado 100 vezes e armazene os resultados em um vetor . Depois, mostre quantas vezes cada valor foi conseguido. Dica: use um vetor de contadores(1-6) e uma função para gerar numeros aleatórios, simulando os lançamentos dos dados."
   ]
  },
  {
   "cell_type": "code",
   "execution_count": 107,
   "metadata": {},
   "outputs": [
    {
     "name": "stdout",
     "output_type": "stream",
     "text": [
      "Número 1 = 14\n",
      "Número 2 = 22\n",
      "Número 3 = 18\n",
      "Número 4 = 18\n",
      "Número 5 = 16\n",
      "Número 6 = 12\n",
      "O total de jogadas foi de 100\n"
     ]
    }
   ],
   "source": [
    "import random\n",
    "dado = [1,2,3,4,5,6]\n",
    "lances = []\n",
    "\n",
    "for i in range(100):\n",
    "    lances.append(random.choice(dado))\n",
    "    \n",
    "for i in dado:\n",
    "    print(\"Número {} = {}\".format(i,lances.count(i)))\n",
    "print(\"O total de jogadas foi de {}\".format(len(lances)))"
   ]
  },
  {
   "cell_type": "code",
   "execution_count": 16,
   "metadata": {},
   "outputs": [
    {
     "name": "stdout",
     "output_type": "stream",
     "text": [
      "Informe o número de jogadas: 30\n",
      "Número 1 = 6\n",
      "Número 2 = 2\n",
      "Número 3 = 4\n",
      "Número 4 = 5\n",
      "Número 5 = 7\n",
      "Número 6 = 6\n"
     ]
    }
   ],
   "source": [
    "#Uma segunda versão mais divertida\n",
    "import random\n",
    "\n",
    "dado = [1,2,3,4,5,6]\n",
    "lances = []\n",
    "\n",
    "jogadas = int(input(\"Informe o número de jogadas: \"))\n",
    "\n",
    "for i in range(jogadas):\n",
    "    lances.append(random.choice(dado))\n",
    "    \n",
    "for i in dado:\n",
    "    print(\"Número {} = {}\".format(i,lances.count(i)))\n"
   ]
  }
 ],
 "metadata": {
  "kernelspec": {
   "display_name": "Python 3",
   "language": "python",
   "name": "python3"
  },
  "language_info": {
   "codemirror_mode": {
    "name": "ipython",
    "version": 3
   },
   "file_extension": ".py",
   "mimetype": "text/x-python",
   "name": "python",
   "nbconvert_exporter": "python",
   "pygments_lexer": "ipython3",
   "version": "3.7.4"
  }
 },
 "nbformat": 4,
 "nbformat_minor": 2
}
